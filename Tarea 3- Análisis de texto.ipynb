{
 "cells": [
  {
   "cell_type": "code",
   "execution_count": 1,
   "id": "eee77a68",
   "metadata": {},
   "outputs": [
    {
     "name": "stderr",
     "output_type": "stream",
     "text": [
      "[nltk_data] Downloading package punkt to\n",
      "[nltk_data]     C:\\Users\\Blue\\AppData\\Roaming\\nltk_data...\n",
      "[nltk_data]   Package punkt is already up-to-date!\n",
      "[nltk_data] Downloading package stopwords to\n",
      "[nltk_data]     C:\\Users\\Blue\\AppData\\Roaming\\nltk_data...\n",
      "[nltk_data]   Package stopwords is already up-to-date!\n",
      "[nltk_data] Downloading package wordnet to\n",
      "[nltk_data]     C:\\Users\\Blue\\AppData\\Roaming\\nltk_data...\n",
      "[nltk_data]   Package wordnet is already up-to-date!\n",
      "[nltk_data] Downloading package averaged_perceptron_tagger to\n",
      "[nltk_data]     C:\\Users\\Blue\\AppData\\Roaming\\nltk_data...\n",
      "[nltk_data]   Package averaged_perceptron_tagger is already up-to-\n",
      "[nltk_data]       date!\n"
     ]
    }
   ],
   "source": [
    "# Tratamiento de datos\n",
    "# ==============================================================================\n",
    "import numpy as np\n",
    "import pandas as pd\n",
    "import string\n",
    "import re\n",
    "\n",
    "# Gráficos\n",
    "# ==============================================================================\n",
    "import matplotlib.pyplot as plt\n",
    "from matplotlib import style\n",
    "import seaborn as sns\n",
    "#style.use('ggplot') or plt.style.use('ggplot')\n",
    "\n",
    "# Preprocesado y modelado\n",
    "# ==============================================================================\n",
    "from sklearn import svm\n",
    "from sklearn.model_selection import train_test_split\n",
    "from sklearn.model_selection import GridSearchCV\n",
    "from sklearn.metrics import confusion_matrix\n",
    "from sklearn.feature_extraction.text import TfidfVectorizer\n",
    "import nltk\n",
    "from nltk.corpus import stopwords\n",
    "from nltk.stem.porter import PorterStemmer\n",
    "nltk.download('punkt')\n",
    "nltk.download('stopwords')\n",
    "from nltk.stem import WordNetLemmatizer\n",
    "from nltk.corpus import wordnet\n",
    "nltk.download('wordnet')\n",
    "nltk.download('averaged_perceptron_tagger')\n",
    "from nltk.tokenize import word_tokenize\n",
    "from nltk import pos_tag\n",
    "\n",
    "#Para los algoritmos y la bolsa de palabras\n",
    "# ==============================================================================\n",
    "from sklearn.feature_extraction.text import CountVectorizer\n",
    "from sklearn.model_selection import train_test_split\n",
    "from sklearn.naive_bayes import MultinomialNB #NaiveBayes\n",
    "from sklearn.svm import SVC\n",
    "\n",
    "\n",
    "# Configuración warnings\n",
    "# ==============================================================================\n",
    "import warnings\n",
    "warnings.filterwarnings('ignore')\n"
   ]
  },
  {
   "cell_type": "code",
   "execution_count": 2,
   "id": "f7a42d7f",
   "metadata": {},
   "outputs": [
    {
     "name": "stdout",
     "output_type": "stream",
     "text": [
      "      Idusuario                                              Tweet  \\\n",
      "0             1  TRENDING: New Yorkers encounter empty supermar...   \n",
      "1             2  When I couldn't find hand sanitizer at Fred Me...   \n",
      "2             3  Find out how you can protect yourself and love...   \n",
      "3             4  #Panic buying hits #NewYork City as anxious sh...   \n",
      "4             5  #toiletpaper #dunnypaper #coronavirus #coronav...   \n",
      "...         ...                                                ...   \n",
      "3793       3794  Meanwhile In A Supermarket in Israel -- People...   \n",
      "3794       3795  Did you panic buy a lot of non-perishable item...   \n",
      "3795       3796  Asst Prof of Economics @cconces was on @NBCPhi...   \n",
      "3796       3797  Gov need to do somethings instead of biar je r...   \n",
      "3797       3798  I and @ForestandPaper members are committed to...   \n",
      "\n",
      "             Sentimiento  \n",
      "0     Extremely Negative  \n",
      "1               Positive  \n",
      "2     Extremely Positive  \n",
      "3               Negative  \n",
      "4                Neutral  \n",
      "...                  ...  \n",
      "3793            Positive  \n",
      "3794            Negative  \n",
      "3795             Neutral  \n",
      "3796  Extremely Negative  \n",
      "3797  Extremely Positive  \n",
      "\n",
      "[3798 rows x 3 columns]\n"
     ]
    }
   ],
   "source": [
    "df = pd.read_csv(\"Corona_NLP_test.csv\")\n",
    "print(df)"
   ]
  },
  {
   "cell_type": "code",
   "execution_count": 4,
   "id": "64258fa4",
   "metadata": {},
   "outputs": [
    {
     "data": {
      "text/plain": [
       "Negative              1041\n",
       "Positive               947\n",
       "Neutral                619\n",
       "Extremely Positive     599\n",
       "Extremely Negative     592\n",
       "Name: Sentimiento, dtype: int64"
      ]
     },
     "execution_count": 4,
     "metadata": {},
     "output_type": "execute_result"
    }
   ],
   "source": [
    "sen_bef= df.Sentimiento.value_counts()\n",
    "sen_bef"
   ]
  },
  {
   "cell_type": "code",
   "execution_count": 5,
   "id": "a9d4b3c6",
   "metadata": {},
   "outputs": [
    {
     "data": {
      "text/plain": [
       "([<matplotlib.patches.Wedge at 0xc59875cb50>,\n",
       "  <matplotlib.patches.Wedge at 0xc598772310>,\n",
       "  <matplotlib.patches.Wedge at 0xc598772a30>,\n",
       "  <matplotlib.patches.Wedge at 0xc59877f190>,\n",
       "  <matplotlib.patches.Wedge at 0xc59877f8b0>],\n",
       " [Text(0.716776929332184, 0.8344044784018874, 'Negative'),\n",
       "  Text(-0.8848645623268316, 0.653463622811664, 'Positive'),\n",
       "  Text(-0.8694938694526417, -0.6737806846328207, 'Neutral'),\n",
       "  Text(0.10538503528793892, -1.0949401784286483, 'Extremely Positive'),\n",
       "  Text(0.970729275642409, -0.5173825213618685, 'Extremely Negative')],\n",
       " [Text(0.39096923418119117, 0.4551297154919385, '27.4%'),\n",
       "  Text(-0.4826533976328172, 0.3564347033518167, '24.9%'),\n",
       "  Text(-0.47426938333780455, -0.3675167370724476, '16.3%'),\n",
       "  Text(0.057482746520693954, -0.5972400973247172, '15.8%'),\n",
       "  Text(0.5294886958049503, -0.28220864801556456, '15.6%')])"
      ]
     },
     "execution_count": 5,
     "metadata": {},
     "output_type": "execute_result"
    },
    {
     "data": {
      "image/png": "[encoded data removed]",
      "text/plain": [
       "<Figure size 720x504 with 1 Axes>"
      ]
     },
     "metadata": {},
     "output_type": "display_data"
    }
   ],
   "source": [
    "plt.figure(figsize=(10, 7))\n",
    "plt.pie(sen_bef, labels = sen_bef.index, autopct='%1.1f%%', shadow=False)"
   ]
  },
  {
   "cell_type": "code",
   "execution_count": 3,
   "id": "45d02af7",
   "metadata": {},
   "outputs": [],
   "source": [
    "#Definimos una funcion para limpiar los textos\n",
    "def clean(text):\n",
    "    ps = PorterStemmer()\n",
    "    rex = re.compile(r'\\s+')\n",
    "    text = text.lower()\n",
    "    text =re.sub(\"([\\(\\[]).*?([\\)\\]]___)\", \"\\g<1>\\g<2>\", text)\n",
    "    text = ''.join((x for x in text if not x.isdigit()))\n",
    "    text = re.sub(r\"#\\S+\", \"\", text)\n",
    "    text = re.sub(r\"_\\S+\", \"\", text)\n",
    "    text = re.sub(r'[^\\w\\s]', '', text)\n",
    "    text = re.sub(r\"http\\S+\", \"\", text)\n",
    "    text = rex.sub(' ', text)\n",
    "    return text"
   ]
  },
  {
   "cell_type": "code",
   "execution_count": 8,
   "id": "af3a4306",
   "metadata": {},
   "outputs": [
    {
     "name": "stdout",
     "output_type": "stream",
     "text": [
      "trending new yorkers encounter empty supermarket shelves pictured wegmans in brooklyn soldout online grocers foodkick maxdelivery as shoppers stock up \n"
     ]
    }
   ],
   "source": [
    "prue= df.iloc[0][1]\n",
    "#print(prue)\n",
    "prue= clean(prue)\n",
    "print(prue)"
   ]
  },
  {
   "cell_type": "code",
   "execution_count": 4,
   "id": "7907af30",
   "metadata": {},
   "outputs": [
    {
     "data": {
      "text/html": [
       "<div>\n",
       "<style scoped>\n",
       "    .dataframe tbody tr th:only-of-type {\n",
       "        vertical-align: middle;\n",
       "    }\n",
       "\n",
       "    .dataframe tbody tr th {\n",
       "        vertical-align: top;\n",
       "    }\n",
       "\n",
       "    .dataframe thead th {\n",
       "        text-align: right;\n",
       "    }\n",
       "</style>\n",
       "<table border=\"1\" class=\"dataframe\">\n",
       "  <thead>\n",
       "    <tr style=\"text-align: right;\">\n",
       "      <th></th>\n",
       "      <th>Idusuario</th>\n",
       "      <th>Tweet</th>\n",
       "      <th>Sentimiento</th>\n",
       "      <th>Cleaned Text</th>\n",
       "    </tr>\n",
       "  </thead>\n",
       "  <tbody>\n",
       "    <tr>\n",
       "      <th>0</th>\n",
       "      <td>1</td>\n",
       "      <td>TRENDING: New Yorkers encounter empty supermar...</td>\n",
       "      <td>Extremely Negative</td>\n",
       "      <td>trending new yorkers encounter empty supermark...</td>\n",
       "    </tr>\n",
       "    <tr>\n",
       "      <th>1</th>\n",
       "      <td>2</td>\n",
       "      <td>When I couldn't find hand sanitizer at Fred Me...</td>\n",
       "      <td>Positive</td>\n",
       "      <td>when i couldnt find hand sanitizer at fred mey...</td>\n",
       "    </tr>\n",
       "    <tr>\n",
       "      <th>2</th>\n",
       "      <td>3</td>\n",
       "      <td>Find out how you can protect yourself and love...</td>\n",
       "      <td>Extremely Positive</td>\n",
       "      <td>find out how you can protect yourself and love...</td>\n",
       "    </tr>\n",
       "    <tr>\n",
       "      <th>3</th>\n",
       "      <td>4</td>\n",
       "      <td>#Panic buying hits #NewYork City as anxious sh...</td>\n",
       "      <td>Negative</td>\n",
       "      <td>buying hits city as anxious shoppers stock up...</td>\n",
       "    </tr>\n",
       "    <tr>\n",
       "      <th>4</th>\n",
       "      <td>5</td>\n",
       "      <td>#toiletpaper #dunnypaper #coronavirus #coronav...</td>\n",
       "      <td>Neutral</td>\n",
       "      <td>one week everyone buying baby milk powder the...</td>\n",
       "    </tr>\n",
       "  </tbody>\n",
       "</table>\n",
       "</div>"
      ],
      "text/plain": [
       "   Idusuario                                              Tweet  \\\n",
       "0          1  TRENDING: New Yorkers encounter empty supermar...   \n",
       "1          2  When I couldn't find hand sanitizer at Fred Me...   \n",
       "2          3  Find out how you can protect yourself and love...   \n",
       "3          4  #Panic buying hits #NewYork City as anxious sh...   \n",
       "4          5  #toiletpaper #dunnypaper #coronavirus #coronav...   \n",
       "\n",
       "          Sentimiento                                       Cleaned Text  \n",
       "0  Extremely Negative  trending new yorkers encounter empty supermark...  \n",
       "1            Positive  when i couldnt find hand sanitizer at fred mey...  \n",
       "2  Extremely Positive  find out how you can protect yourself and love...  \n",
       "3            Negative   buying hits city as anxious shoppers stock up...  \n",
       "4             Neutral   one week everyone buying baby milk powder the...  "
      ]
     },
     "execution_count": 4,
     "metadata": {},
     "output_type": "execute_result"
    }
   ],
   "source": [
    "# Limpiamos los textos \n",
    "df['Cleaned Text'] = df['Tweet'].apply(clean)\n",
    "df.head()"
   ]
  },
  {
   "cell_type": "code",
   "execution_count": 5,
   "id": "2ec4f38f",
   "metadata": {},
   "outputs": [
    {
     "data": {
      "text/html": [
       "<div>\n",
       "<style scoped>\n",
       "    .dataframe tbody tr th:only-of-type {\n",
       "        vertical-align: middle;\n",
       "    }\n",
       "\n",
       "    .dataframe tbody tr th {\n",
       "        vertical-align: top;\n",
       "    }\n",
       "\n",
       "    .dataframe thead th {\n",
       "        text-align: right;\n",
       "    }\n",
       "</style>\n",
       "<table border=\"1\" class=\"dataframe\">\n",
       "  <thead>\n",
       "    <tr style=\"text-align: right;\">\n",
       "      <th></th>\n",
       "      <th>Idusuario</th>\n",
       "      <th>Tweet</th>\n",
       "      <th>Sentimiento</th>\n",
       "      <th>Cleaned Text</th>\n",
       "      <th>Text tagged</th>\n",
       "    </tr>\n",
       "  </thead>\n",
       "  <tbody>\n",
       "    <tr>\n",
       "      <th>0</th>\n",
       "      <td>1</td>\n",
       "      <td>TRENDING: New Yorkers encounter empty supermar...</td>\n",
       "      <td>Extremely Negative</td>\n",
       "      <td>trending new yorkers encounter empty supermark...</td>\n",
       "      <td>[(trending, v), (new, a), (yorkers, n), (encou...</td>\n",
       "    </tr>\n",
       "    <tr>\n",
       "      <th>1</th>\n",
       "      <td>2</td>\n",
       "      <td>When I couldn't find hand sanitizer at Fred Me...</td>\n",
       "      <td>Positive</td>\n",
       "      <td>when i couldnt find hand sanitizer at fred mey...</td>\n",
       "      <td>[(couldnt, v), (find, v), (hand, n), (sanitize...</td>\n",
       "    </tr>\n",
       "    <tr>\n",
       "      <th>2</th>\n",
       "      <td>3</td>\n",
       "      <td>Find out how you can protect yourself and love...</td>\n",
       "      <td>Extremely Positive</td>\n",
       "      <td>find out how you can protect yourself and love...</td>\n",
       "      <td>[(find, v), (protect, v), (loved, v), (ones, n)]</td>\n",
       "    </tr>\n",
       "    <tr>\n",
       "      <th>3</th>\n",
       "      <td>4</td>\n",
       "      <td>#Panic buying hits #NewYork City as anxious sh...</td>\n",
       "      <td>Negative</td>\n",
       "      <td>buying hits city as anxious shoppers stock up...</td>\n",
       "      <td>[(buying, v), (hits, n), (city, n), (anxious, ...</td>\n",
       "    </tr>\n",
       "    <tr>\n",
       "      <th>4</th>\n",
       "      <td>5</td>\n",
       "      <td>#toiletpaper #dunnypaper #coronavirus #coronav...</td>\n",
       "      <td>Neutral</td>\n",
       "      <td>one week everyone buying baby milk powder the...</td>\n",
       "      <td>[(one, None), (week, n), (everyone, n), (buyin...</td>\n",
       "    </tr>\n",
       "  </tbody>\n",
       "</table>\n",
       "</div>"
      ],
      "text/plain": [
       "   Idusuario                                              Tweet  \\\n",
       "0          1  TRENDING: New Yorkers encounter empty supermar...   \n",
       "1          2  When I couldn't find hand sanitizer at Fred Me...   \n",
       "2          3  Find out how you can protect yourself and love...   \n",
       "3          4  #Panic buying hits #NewYork City as anxious sh...   \n",
       "4          5  #toiletpaper #dunnypaper #coronavirus #coronav...   \n",
       "\n",
       "          Sentimiento                                       Cleaned Text  \\\n",
       "0  Extremely Negative  trending new yorkers encounter empty supermark...   \n",
       "1            Positive  when i couldnt find hand sanitizer at fred mey...   \n",
       "2  Extremely Positive  find out how you can protect yourself and love...   \n",
       "3            Negative   buying hits city as anxious shoppers stock up...   \n",
       "4             Neutral   one week everyone buying baby milk powder the...   \n",
       "\n",
       "                                         Text tagged  \n",
       "0  [(trending, v), (new, a), (yorkers, n), (encou...  \n",
       "1  [(couldnt, v), (find, v), (hand, n), (sanitize...  \n",
       "2   [(find, v), (protect, v), (loved, v), (ones, n)]  \n",
       "3  [(buying, v), (hits, n), (city, n), (anxious, ...  \n",
       "4  [(one, None), (week, n), (everyone, n), (buyin...  "
      ]
     },
     "execution_count": 5,
     "metadata": {},
     "output_type": "execute_result"
    }
   ],
   "source": [
    "# POS tagger dictionary\n",
    "pos_dict = {'J':wordnet.ADJ, 'V':wordnet.VERB, 'N':wordnet.NOUN, 'R':wordnet.ADV}\n",
    "\n",
    "def token_stop_pos(text):\n",
    "    tags = pos_tag(word_tokenize(text))\n",
    "    newlist = []\n",
    "    for word, tag in tags:\n",
    "        if word.lower() not in set(stopwords.words('english')):\n",
    "            newlist.append(tuple([word, pos_dict.get(tag[0])]))\n",
    "    return newlist\n",
    "\n",
    "df['Text tagged'] = df['Cleaned Text'].apply(token_stop_pos)\n",
    "df.head()"
   ]
  },
  {
   "cell_type": "code",
   "execution_count": 6,
   "id": "89540b7d",
   "metadata": {},
   "outputs": [
    {
     "data": {
      "text/html": [
       "<div>\n",
       "<style scoped>\n",
       "    .dataframe tbody tr th:only-of-type {\n",
       "        vertical-align: middle;\n",
       "    }\n",
       "\n",
       "    .dataframe tbody tr th {\n",
       "        vertical-align: top;\n",
       "    }\n",
       "\n",
       "    .dataframe thead th {\n",
       "        text-align: right;\n",
       "    }\n",
       "</style>\n",
       "<table border=\"1\" class=\"dataframe\">\n",
       "  <thead>\n",
       "    <tr style=\"text-align: right;\">\n",
       "      <th></th>\n",
       "      <th>Idusuario</th>\n",
       "      <th>Tweet</th>\n",
       "      <th>Sentimiento</th>\n",
       "      <th>Cleaned Text</th>\n",
       "      <th>Text tagged</th>\n",
       "      <th>Lemma</th>\n",
       "    </tr>\n",
       "  </thead>\n",
       "  <tbody>\n",
       "    <tr>\n",
       "      <th>0</th>\n",
       "      <td>1</td>\n",
       "      <td>TRENDING: New Yorkers encounter empty supermar...</td>\n",
       "      <td>Extremely Negative</td>\n",
       "      <td>trending new yorkers encounter empty supermark...</td>\n",
       "      <td>[(trending, v), (new, a), (yorkers, n), (encou...</td>\n",
       "      <td>trend new yorkers encounter empty supermarke...</td>\n",
       "    </tr>\n",
       "    <tr>\n",
       "      <th>1</th>\n",
       "      <td>2</td>\n",
       "      <td>When I couldn't find hand sanitizer at Fred Me...</td>\n",
       "      <td>Positive</td>\n",
       "      <td>when i couldnt find hand sanitizer at fred mey...</td>\n",
       "      <td>[(couldnt, v), (find, v), (hand, n), (sanitize...</td>\n",
       "      <td>couldnt find hand sanitizer fred meyer turn ...</td>\n",
       "    </tr>\n",
       "    <tr>\n",
       "      <th>2</th>\n",
       "      <td>3</td>\n",
       "      <td>Find out how you can protect yourself and love...</td>\n",
       "      <td>Extremely Positive</td>\n",
       "      <td>find out how you can protect yourself and love...</td>\n",
       "      <td>[(find, v), (protect, v), (loved, v), (ones, n)]</td>\n",
       "      <td>find protect love one</td>\n",
       "    </tr>\n",
       "    <tr>\n",
       "      <th>3</th>\n",
       "      <td>4</td>\n",
       "      <td>#Panic buying hits #NewYork City as anxious sh...</td>\n",
       "      <td>Negative</td>\n",
       "      <td>buying hits city as anxious shoppers stock up...</td>\n",
       "      <td>[(buying, v), (hits, n), (city, n), (anxious, ...</td>\n",
       "      <td>buy hit city anxious shopper stock foodampme...</td>\n",
       "    </tr>\n",
       "    <tr>\n",
       "      <th>4</th>\n",
       "      <td>5</td>\n",
       "      <td>#toiletpaper #dunnypaper #coronavirus #coronav...</td>\n",
       "      <td>Neutral</td>\n",
       "      <td>one week everyone buying baby milk powder the...</td>\n",
       "      <td>[(one, None), (week, n), (everyone, n), (buyin...</td>\n",
       "      <td>one week everyone buying baby milk powder ne...</td>\n",
       "    </tr>\n",
       "  </tbody>\n",
       "</table>\n",
       "</div>"
      ],
      "text/plain": [
       "   Idusuario                                              Tweet  \\\n",
       "0          1  TRENDING: New Yorkers encounter empty supermar...   \n",
       "1          2  When I couldn't find hand sanitizer at Fred Me...   \n",
       "2          3  Find out how you can protect yourself and love...   \n",
       "3          4  #Panic buying hits #NewYork City as anxious sh...   \n",
       "4          5  #toiletpaper #dunnypaper #coronavirus #coronav...   \n",
       "\n",
       "          Sentimiento                                       Cleaned Text  \\\n",
       "0  Extremely Negative  trending new yorkers encounter empty supermark...   \n",
       "1            Positive  when i couldnt find hand sanitizer at fred mey...   \n",
       "2  Extremely Positive  find out how you can protect yourself and love...   \n",
       "3            Negative   buying hits city as anxious shoppers stock up...   \n",
       "4             Neutral   one week everyone buying baby milk powder the...   \n",
       "\n",
       "                                         Text tagged  \\\n",
       "0  [(trending, v), (new, a), (yorkers, n), (encou...   \n",
       "1  [(couldnt, v), (find, v), (hand, n), (sanitize...   \n",
       "2   [(find, v), (protect, v), (loved, v), (ones, n)]   \n",
       "3  [(buying, v), (hits, n), (city, n), (anxious, ...   \n",
       "4  [(one, None), (week, n), (everyone, n), (buyin...   \n",
       "\n",
       "                                               Lemma  \n",
       "0    trend new yorkers encounter empty supermarke...  \n",
       "1    couldnt find hand sanitizer fred meyer turn ...  \n",
       "2                              find protect love one  \n",
       "3    buy hit city anxious shopper stock foodampme...  \n",
       "4    one week everyone buying baby milk powder ne...  "
      ]
     },
     "execution_count": 6,
     "metadata": {},
     "output_type": "execute_result"
    }
   ],
   "source": [
    "wordnet_lemmatizer = WordNetLemmatizer()\n",
    "\n",
    "def lemmatize(pos_data):\n",
    "    lemma_rew = \" \"\n",
    "    for word, pos in pos_data:\n",
    "        if not pos: \n",
    "            lemma = word\n",
    "            lemma_rew = lemma_rew + \" \" + lemma\n",
    "        else:  \n",
    "            lemma = wordnet_lemmatizer.lemmatize(word, pos=pos)\n",
    "            lemma_rew = lemma_rew + \" \" + lemma\n",
    "    return lemma_rew\n",
    "    \n",
    "df['Lemma'] = df['Text tagged'].apply(lemmatize)\n",
    "df.head()"
   ]
  },
  {
   "cell_type": "markdown",
   "id": "585572a6",
   "metadata": {},
   "source": [
    "Análisis de sentimiento con TextBlob"
   ]
  },
  {
   "cell_type": "code",
   "execution_count": 7,
   "id": "2d46c3ba",
   "metadata": {},
   "outputs": [],
   "source": [
    "from textblob import TextBlob\n",
    "# Función para obtener la polaridad\n",
    "def getPolarity(review):\n",
    "    return TextBlob(review).sentiment.polarity\n",
    "\n",
    "# Función para realizar la clasificación \n",
    "def analysis(score):\n",
    "    if score <= -0.5:\n",
    "        return 'Extremely Negative'\n",
    "    elif score > -0.5 and score < 0:\n",
    "        return 'Negative'\n",
    "    elif score == 0:\n",
    "        return 'Neutral'\n",
    "    elif score > 0 and score < 0.5:\n",
    "        return 'Positive'\n",
    "    else:\n",
    "        return 'Extremely Positive'"
   ]
  },
  {
   "cell_type": "code",
   "execution_count": 11,
   "id": "0ea1c2fb",
   "metadata": {},
   "outputs": [
    {
     "name": "stdout",
     "output_type": "stream",
     "text": [
      "  buy hit city anxious shopper stock foodampmedical supply worker become st confirm patient staged event\n"
     ]
    }
   ],
   "source": [
    "a= df.iloc[3][5]\n",
    "print(a)"
   ]
  },
  {
   "cell_type": "code",
   "execution_count": 94,
   "id": "a0e994a7",
   "metadata": {},
   "outputs": [
    {
     "name": "stdout",
     "output_type": "stream",
     "text": [
      "  trend new yorkers encounter empty supermarket shelf picture wegmans brooklyn soldout online grocer foodkick maxdelivery shopper stock\n"
     ]
    }
   ],
   "source": [
    "a= df.iloc[0][5]\n",
    "print(a)"
   ]
  },
  {
   "cell_type": "code",
   "execution_count": 12,
   "id": "887cba6a",
   "metadata": {},
   "outputs": [
    {
     "name": "stdout",
     "output_type": "stream",
     "text": [
      "-0.25\n"
     ]
    }
   ],
   "source": [
    "ap= getPolarity(a)\n",
    "print(ap)"
   ]
  },
  {
   "cell_type": "code",
   "execution_count": 13,
   "id": "6ac9aafb",
   "metadata": {},
   "outputs": [
    {
     "data": {
      "text/plain": [
       "'Negative'"
      ]
     },
     "execution_count": 13,
     "metadata": {},
     "output_type": "execute_result"
    }
   ],
   "source": [
    "analysis(ap)"
   ]
  },
  {
   "cell_type": "code",
   "execution_count": 8,
   "id": "be409f9f",
   "metadata": {},
   "outputs": [
    {
     "data": {
      "text/html": [
       "<div>\n",
       "<style scoped>\n",
       "    .dataframe tbody tr th:only-of-type {\n",
       "        vertical-align: middle;\n",
       "    }\n",
       "\n",
       "    .dataframe tbody tr th {\n",
       "        vertical-align: top;\n",
       "    }\n",
       "\n",
       "    .dataframe thead th {\n",
       "        text-align: right;\n",
       "    }\n",
       "</style>\n",
       "<table border=\"1\" class=\"dataframe\">\n",
       "  <thead>\n",
       "    <tr style=\"text-align: right;\">\n",
       "      <th></th>\n",
       "      <th>Idusuario</th>\n",
       "      <th>Tweet</th>\n",
       "      <th>Sentimiento</th>\n",
       "      <th>Cleaned Text</th>\n",
       "      <th>Text tagged</th>\n",
       "      <th>Lemma</th>\n",
       "      <th>Polarity</th>\n",
       "      <th>SentimientoTextBlob</th>\n",
       "    </tr>\n",
       "  </thead>\n",
       "  <tbody>\n",
       "    <tr>\n",
       "      <th>0</th>\n",
       "      <td>1</td>\n",
       "      <td>TRENDING: New Yorkers encounter empty supermar...</td>\n",
       "      <td>Extremely Negative</td>\n",
       "      <td>trending new yorkers encounter empty supermark...</td>\n",
       "      <td>[(trending, v), (new, a), (yorkers, n), (encou...</td>\n",
       "      <td>trend new yorkers encounter empty supermarke...</td>\n",
       "      <td>0.018182</td>\n",
       "      <td>Positive</td>\n",
       "    </tr>\n",
       "    <tr>\n",
       "      <th>1</th>\n",
       "      <td>2</td>\n",
       "      <td>When I couldn't find hand sanitizer at Fred Me...</td>\n",
       "      <td>Positive</td>\n",
       "      <td>when i couldnt find hand sanitizer at fred mey...</td>\n",
       "      <td>[(couldnt, v), (find, v), (hand, n), (sanitize...</td>\n",
       "      <td>couldnt find hand sanitizer fred meyer turn ...</td>\n",
       "      <td>0.000000</td>\n",
       "      <td>Neutral</td>\n",
       "    </tr>\n",
       "    <tr>\n",
       "      <th>2</th>\n",
       "      <td>3</td>\n",
       "      <td>Find out how you can protect yourself and love...</td>\n",
       "      <td>Extremely Positive</td>\n",
       "      <td>find out how you can protect yourself and love...</td>\n",
       "      <td>[(find, v), (protect, v), (loved, v), (ones, n)]</td>\n",
       "      <td>find protect love one</td>\n",
       "      <td>0.500000</td>\n",
       "      <td>Extremely Positive</td>\n",
       "    </tr>\n",
       "    <tr>\n",
       "      <th>3</th>\n",
       "      <td>4</td>\n",
       "      <td>#Panic buying hits #NewYork City as anxious sh...</td>\n",
       "      <td>Negative</td>\n",
       "      <td>buying hits city as anxious shoppers stock up...</td>\n",
       "      <td>[(buying, v), (hits, n), (city, n), (anxious, ...</td>\n",
       "      <td>buy hit city anxious shopper stock foodampme...</td>\n",
       "      <td>-0.250000</td>\n",
       "      <td>Negative</td>\n",
       "    </tr>\n",
       "    <tr>\n",
       "      <th>4</th>\n",
       "      <td>5</td>\n",
       "      <td>#toiletpaper #dunnypaper #coronavirus #coronav...</td>\n",
       "      <td>Neutral</td>\n",
       "      <td>one week everyone buying baby milk powder the...</td>\n",
       "      <td>[(one, None), (week, n), (everyone, n), (buyin...</td>\n",
       "      <td>one week everyone buying baby milk powder ne...</td>\n",
       "      <td>-0.016667</td>\n",
       "      <td>Negative</td>\n",
       "    </tr>\n",
       "  </tbody>\n",
       "</table>\n",
       "</div>"
      ],
      "text/plain": [
       "   Idusuario                                              Tweet  \\\n",
       "0          1  TRENDING: New Yorkers encounter empty supermar...   \n",
       "1          2  When I couldn't find hand sanitizer at Fred Me...   \n",
       "2          3  Find out how you can protect yourself and love...   \n",
       "3          4  #Panic buying hits #NewYork City as anxious sh...   \n",
       "4          5  #toiletpaper #dunnypaper #coronavirus #coronav...   \n",
       "\n",
       "          Sentimiento                                       Cleaned Text  \\\n",
       "0  Extremely Negative  trending new yorkers encounter empty supermark...   \n",
       "1            Positive  when i couldnt find hand sanitizer at fred mey...   \n",
       "2  Extremely Positive  find out how you can protect yourself and love...   \n",
       "3            Negative   buying hits city as anxious shoppers stock up...   \n",
       "4             Neutral   one week everyone buying baby milk powder the...   \n",
       "\n",
       "                                         Text tagged  \\\n",
       "0  [(trending, v), (new, a), (yorkers, n), (encou...   \n",
       "1  [(couldnt, v), (find, v), (hand, n), (sanitize...   \n",
       "2   [(find, v), (protect, v), (loved, v), (ones, n)]   \n",
       "3  [(buying, v), (hits, n), (city, n), (anxious, ...   \n",
       "4  [(one, None), (week, n), (everyone, n), (buyin...   \n",
       "\n",
       "                                               Lemma  Polarity  \\\n",
       "0    trend new yorkers encounter empty supermarke...  0.018182   \n",
       "1    couldnt find hand sanitizer fred meyer turn ...  0.000000   \n",
       "2                              find protect love one  0.500000   \n",
       "3    buy hit city anxious shopper stock foodampme... -0.250000   \n",
       "4    one week everyone buying baby milk powder ne... -0.016667   \n",
       "\n",
       "  SentimientoTextBlob  \n",
       "0            Positive  \n",
       "1             Neutral  \n",
       "2  Extremely Positive  \n",
       "3            Negative  \n",
       "4            Negative  "
      ]
     },
     "execution_count": 8,
     "metadata": {},
     "output_type": "execute_result"
    }
   ],
   "source": [
    "df['Polarity'] = df['Lemma'].apply(getPolarity) \n",
    "df['SentimientoTextBlob'] = df['Polarity'].apply(analysis)\n",
    "df.head()"
   ]
  },
  {
   "cell_type": "code",
   "execution_count": 14,
   "id": "56acaab4",
   "metadata": {},
   "outputs": [
    {
     "data": {
      "text/plain": [
       "Positive              1511\n",
       "Negative              1035\n",
       "Neutral                947\n",
       "Extremely Positive     196\n",
       "Extremely Negative     109\n",
       "Name: SentimientoTextBlob, dtype: int64"
      ]
     },
     "execution_count": 14,
     "metadata": {},
     "output_type": "execute_result"
    }
   ],
   "source": [
    "sen_Blob= df.SentimientoTextBlob.value_counts()\n",
    "sen_Blob"
   ]
  },
  {
   "cell_type": "code",
   "execution_count": null,
   "id": "ee85dd33",
   "metadata": {},
   "outputs": [],
   "source": [
    "#Utilizando Vader"
   ]
  },
  {
   "cell_type": "code",
   "execution_count": 9,
   "id": "ab2a350b",
   "metadata": {},
   "outputs": [],
   "source": [
    "from vaderSentiment.vaderSentiment import SentimentIntensityAnalyzer\n",
    "analyzer = SentimentIntensityAnalyzer()\n",
    "\n",
    "# Funcion para calcular el sentimiento vader  \n",
    "def vadersentimentanalysis(review):\n",
    "    vs = analyzer.polarity_scores(review)\n",
    "    return vs['compound']\n",
    "#Funcion para realizar la clasificación\n",
    "def vader_analysis(compound):\n",
    "    if compound <= -0.5:\n",
    "        return 'Extremely Negative'\n",
    "    elif compound > -0.5 and compound < 0:\n",
    "        return 'Negative'\n",
    "    elif compound == 0:\n",
    "        return 'Neutral'\n",
    "    elif compound > 0 and compound < 0.5:\n",
    "        return 'Positive'\n",
    "    else:\n",
    "        return 'Extremely Positive'"
   ]
  },
  {
   "cell_type": "code",
   "execution_count": 102,
   "id": "378171ac",
   "metadata": {},
   "outputs": [
    {
     "name": "stdout",
     "output_type": "stream",
     "text": [
      "  one week everyone buying baby milk powder next everyone buy toilet paper\n"
     ]
    }
   ],
   "source": [
    "a= df.iloc[4][5]\n",
    "print(a)"
   ]
  },
  {
   "cell_type": "code",
   "execution_count": 103,
   "id": "0165b2b7",
   "metadata": {},
   "outputs": [
    {
     "data": {
      "text/plain": [
       "0.0"
      ]
     },
     "execution_count": 103,
     "metadata": {},
     "output_type": "execute_result"
    }
   ],
   "source": [
    "av= vadersentimentanalysis(a)\n",
    "av"
   ]
  },
  {
   "cell_type": "code",
   "execution_count": 10,
   "id": "de94ad11",
   "metadata": {},
   "outputs": [
    {
     "data": {
      "text/html": [
       "<div>\n",
       "<style scoped>\n",
       "    .dataframe tbody tr th:only-of-type {\n",
       "        vertical-align: middle;\n",
       "    }\n",
       "\n",
       "    .dataframe tbody tr th {\n",
       "        vertical-align: top;\n",
       "    }\n",
       "\n",
       "    .dataframe thead th {\n",
       "        text-align: right;\n",
       "    }\n",
       "</style>\n",
       "<table border=\"1\" class=\"dataframe\">\n",
       "  <thead>\n",
       "    <tr style=\"text-align: right;\">\n",
       "      <th></th>\n",
       "      <th>Idusuario</th>\n",
       "      <th>Tweet</th>\n",
       "      <th>Sentimiento</th>\n",
       "      <th>Cleaned Text</th>\n",
       "      <th>Text tagged</th>\n",
       "      <th>Lemma</th>\n",
       "      <th>Polarity</th>\n",
       "      <th>SentimientoTextBlob</th>\n",
       "      <th>Vader Polarity</th>\n",
       "      <th>SentimientoVader</th>\n",
       "    </tr>\n",
       "  </thead>\n",
       "  <tbody>\n",
       "    <tr>\n",
       "      <th>0</th>\n",
       "      <td>1</td>\n",
       "      <td>TRENDING: New Yorkers encounter empty supermar...</td>\n",
       "      <td>Extremely Negative</td>\n",
       "      <td>trending new yorkers encounter empty supermark...</td>\n",
       "      <td>[(trending, v), (new, a), (yorkers, n), (encou...</td>\n",
       "      <td>trend new yorkers encounter empty supermarke...</td>\n",
       "      <td>0.018182</td>\n",
       "      <td>Positive</td>\n",
       "      <td>-0.2023</td>\n",
       "      <td>Negative</td>\n",
       "    </tr>\n",
       "    <tr>\n",
       "      <th>1</th>\n",
       "      <td>2</td>\n",
       "      <td>When I couldn't find hand sanitizer at Fred Me...</td>\n",
       "      <td>Positive</td>\n",
       "      <td>when i couldnt find hand sanitizer at fred mey...</td>\n",
       "      <td>[(couldnt, v), (find, v), (hand, n), (sanitize...</td>\n",
       "      <td>couldnt find hand sanitizer fred meyer turn ...</td>\n",
       "      <td>0.000000</td>\n",
       "      <td>Neutral</td>\n",
       "      <td>-0.3875</td>\n",
       "      <td>Negative</td>\n",
       "    </tr>\n",
       "    <tr>\n",
       "      <th>2</th>\n",
       "      <td>3</td>\n",
       "      <td>Find out how you can protect yourself and love...</td>\n",
       "      <td>Extremely Positive</td>\n",
       "      <td>find out how you can protect yourself and love...</td>\n",
       "      <td>[(find, v), (protect, v), (loved, v), (ones, n)]</td>\n",
       "      <td>find protect love one</td>\n",
       "      <td>0.500000</td>\n",
       "      <td>Extremely Positive</td>\n",
       "      <td>0.7783</td>\n",
       "      <td>Extremely Positive</td>\n",
       "    </tr>\n",
       "    <tr>\n",
       "      <th>3</th>\n",
       "      <td>4</td>\n",
       "      <td>#Panic buying hits #NewYork City as anxious sh...</td>\n",
       "      <td>Negative</td>\n",
       "      <td>buying hits city as anxious shoppers stock up...</td>\n",
       "      <td>[(buying, v), (hits, n), (city, n), (anxious, ...</td>\n",
       "      <td>buy hit city anxious shopper stock foodampme...</td>\n",
       "      <td>-0.250000</td>\n",
       "      <td>Negative</td>\n",
       "      <td>-0.2500</td>\n",
       "      <td>Negative</td>\n",
       "    </tr>\n",
       "    <tr>\n",
       "      <th>4</th>\n",
       "      <td>5</td>\n",
       "      <td>#toiletpaper #dunnypaper #coronavirus #coronav...</td>\n",
       "      <td>Neutral</td>\n",
       "      <td>one week everyone buying baby milk powder the...</td>\n",
       "      <td>[(one, None), (week, n), (everyone, n), (buyin...</td>\n",
       "      <td>one week everyone buying baby milk powder ne...</td>\n",
       "      <td>-0.016667</td>\n",
       "      <td>Negative</td>\n",
       "      <td>0.0000</td>\n",
       "      <td>Neutral</td>\n",
       "    </tr>\n",
       "  </tbody>\n",
       "</table>\n",
       "</div>"
      ],
      "text/plain": [
       "   Idusuario                                              Tweet  \\\n",
       "0          1  TRENDING: New Yorkers encounter empty supermar...   \n",
       "1          2  When I couldn't find hand sanitizer at Fred Me...   \n",
       "2          3  Find out how you can protect yourself and love...   \n",
       "3          4  #Panic buying hits #NewYork City as anxious sh...   \n",
       "4          5  #toiletpaper #dunnypaper #coronavirus #coronav...   \n",
       "\n",
       "          Sentimiento                                       Cleaned Text  \\\n",
       "0  Extremely Negative  trending new yorkers encounter empty supermark...   \n",
       "1            Positive  when i couldnt find hand sanitizer at fred mey...   \n",
       "2  Extremely Positive  find out how you can protect yourself and love...   \n",
       "3            Negative   buying hits city as anxious shoppers stock up...   \n",
       "4             Neutral   one week everyone buying baby milk powder the...   \n",
       "\n",
       "                                         Text tagged  \\\n",
       "0  [(trending, v), (new, a), (yorkers, n), (encou...   \n",
       "1  [(couldnt, v), (find, v), (hand, n), (sanitize...   \n",
       "2   [(find, v), (protect, v), (loved, v), (ones, n)]   \n",
       "3  [(buying, v), (hits, n), (city, n), (anxious, ...   \n",
       "4  [(one, None), (week, n), (everyone, n), (buyin...   \n",
       "\n",
       "                                               Lemma  Polarity  \\\n",
       "0    trend new yorkers encounter empty supermarke...  0.018182   \n",
       "1    couldnt find hand sanitizer fred meyer turn ...  0.000000   \n",
       "2                              find protect love one  0.500000   \n",
       "3    buy hit city anxious shopper stock foodampme... -0.250000   \n",
       "4    one week everyone buying baby milk powder ne... -0.016667   \n",
       "\n",
       "  SentimientoTextBlob  Vader Polarity    SentimientoVader  \n",
       "0            Positive         -0.2023            Negative  \n",
       "1             Neutral         -0.3875            Negative  \n",
       "2  Extremely Positive          0.7783  Extremely Positive  \n",
       "3            Negative         -0.2500            Negative  \n",
       "4            Negative          0.0000             Neutral  "
      ]
     },
     "execution_count": 10,
     "metadata": {},
     "output_type": "execute_result"
    }
   ],
   "source": [
    "df['Vader Polarity'] = df['Lemma'].apply(vadersentimentanalysis)\n",
    "df['SentimientoVader'] = df['Vader Polarity'].apply(vader_analysis)\n",
    "df.head()"
   ]
  },
  {
   "cell_type": "code",
   "execution_count": 18,
   "id": "010e34a1",
   "metadata": {},
   "outputs": [
    {
     "data": {
      "text/plain": [
       "Negative              854\n",
       "Positive              847\n",
       "Extremely Positive    834\n",
       "Extremely Negative    679\n",
       "Neutral               584\n",
       "Name: SentimientoVader, dtype: int64"
      ]
     },
     "execution_count": 18,
     "metadata": {},
     "output_type": "execute_result"
    }
   ],
   "source": [
    "sen_Vader= df.SentimientoVader.value_counts()\n",
    "sen_Vader"
   ]
  },
  {
   "cell_type": "code",
   "execution_count": 17,
   "id": "f5a44bbe",
   "metadata": {},
   "outputs": [],
   "source": [
    "#Análisis usuando SentiWordnet"
   ]
  },
  {
   "cell_type": "code",
   "execution_count": 11,
   "id": "ffcfcfb9",
   "metadata": {},
   "outputs": [
    {
     "name": "stderr",
     "output_type": "stream",
     "text": [
      "[nltk_data] Downloading package sentiwordnet to\n",
      "[nltk_data]     C:\\Users\\Blue\\AppData\\Roaming\\nltk_data...\n",
      "[nltk_data]   Package sentiwordnet is already up-to-date!\n"
     ]
    }
   ],
   "source": [
    "nltk.download('sentiwordnet')\n",
    "from nltk.corpus import sentiwordnet as swn\n",
    "def sentiwordnetanalysis(pos_data):\n",
    "    sentiment = 0\n",
    "    tokens_count = 0\n",
    "    for word, pos in pos_data:\n",
    "        if not pos:\n",
    "            continue\n",
    "        lemma = wordnet_lemmatizer.lemmatize(word, pos=pos)\n",
    "        if not lemma:\n",
    "            continue\n",
    "        synsets = wordnet.synsets(lemma, pos=pos)\n",
    "        if not synsets:\n",
    "            continue\n",
    "        # Take the first sense, the most common\n",
    "        synset = synsets[0]\n",
    "        swn_synset = swn.senti_synset(synset.name())\n",
    "        sentiment += swn_synset.pos_score() - swn_synset.neg_score()\n",
    "        tokens_count += 1\n",
    "        # print(swn_synset.pos_score(),swn_synset.neg_score(),swn_synset.obj_score())\n",
    "    if not tokens_count:\n",
    "        return 'Neutral'\n",
    "    if sentiment <= -0.5:\n",
    "        return 'Extremely Negative'\n",
    "    elif sentiment > -0.5 and sentiment < 0:\n",
    "        return 'Negative'\n",
    "    elif sentiment == 0:\n",
    "        return 'Neutral'\n",
    "    elif sentiment > 0 and sentiment < 0.5:\n",
    "        return 'Positive'\n",
    "    else:\n",
    "        return 'Extremely Positive'"
   ]
  },
  {
   "cell_type": "code",
   "execution_count": 111,
   "id": "bf55268a",
   "metadata": {},
   "outputs": [
    {
     "name": "stdout",
     "output_type": "stream",
     "text": [
      "[('one', None), ('week', 'n'), ('everyone', 'n'), ('buying', 'n'), ('baby', 'n'), ('milk', 'n'), ('powder', 'v'), ('next', 'a'), ('everyone', 'n'), ('buying', 'v'), ('toilet', 'a'), ('paper', 'n')]\n"
     ]
    }
   ],
   "source": [
    "a= df.iloc[4][4]\n",
    "print(a)"
   ]
  },
  {
   "cell_type": "code",
   "execution_count": 112,
   "id": "341a1287",
   "metadata": {},
   "outputs": [
    {
     "data": {
      "text/plain": [
       "'Neutral'"
      ]
     },
     "execution_count": 112,
     "metadata": {},
     "output_type": "execute_result"
    }
   ],
   "source": [
    "aw= sentiwordnetanalysis(a)\n",
    "aw"
   ]
  },
  {
   "cell_type": "code",
   "execution_count": 12,
   "id": "987d6a1a",
   "metadata": {},
   "outputs": [
    {
     "data": {
      "text/html": [
       "<div>\n",
       "<style scoped>\n",
       "    .dataframe tbody tr th:only-of-type {\n",
       "        vertical-align: middle;\n",
       "    }\n",
       "\n",
       "    .dataframe tbody tr th {\n",
       "        vertical-align: top;\n",
       "    }\n",
       "\n",
       "    .dataframe thead th {\n",
       "        text-align: right;\n",
       "    }\n",
       "</style>\n",
       "<table border=\"1\" class=\"dataframe\">\n",
       "  <thead>\n",
       "    <tr style=\"text-align: right;\">\n",
       "      <th></th>\n",
       "      <th>Idusuario</th>\n",
       "      <th>Tweet</th>\n",
       "      <th>Sentimiento</th>\n",
       "      <th>Cleaned Text</th>\n",
       "      <th>Text tagged</th>\n",
       "      <th>Lemma</th>\n",
       "      <th>Polarity</th>\n",
       "      <th>SentimientoTextBlob</th>\n",
       "      <th>Vader Polarity</th>\n",
       "      <th>SentimientoVader</th>\n",
       "      <th>SentimientoSWN</th>\n",
       "    </tr>\n",
       "  </thead>\n",
       "  <tbody>\n",
       "    <tr>\n",
       "      <th>0</th>\n",
       "      <td>1</td>\n",
       "      <td>TRENDING: New Yorkers encounter empty supermar...</td>\n",
       "      <td>Extremely Negative</td>\n",
       "      <td>trending new yorkers encounter empty supermark...</td>\n",
       "      <td>[(trending, v), (new, a), (yorkers, n), (encou...</td>\n",
       "      <td>trend new yorkers encounter empty supermarke...</td>\n",
       "      <td>0.018182</td>\n",
       "      <td>Positive</td>\n",
       "      <td>-0.2023</td>\n",
       "      <td>Negative</td>\n",
       "      <td>Positive</td>\n",
       "    </tr>\n",
       "    <tr>\n",
       "      <th>1</th>\n",
       "      <td>2</td>\n",
       "      <td>When I couldn't find hand sanitizer at Fred Me...</td>\n",
       "      <td>Positive</td>\n",
       "      <td>when i couldnt find hand sanitizer at fred mey...</td>\n",
       "      <td>[(couldnt, v), (find, v), (hand, n), (sanitize...</td>\n",
       "      <td>couldnt find hand sanitizer fred meyer turn ...</td>\n",
       "      <td>0.000000</td>\n",
       "      <td>Neutral</td>\n",
       "      <td>-0.3875</td>\n",
       "      <td>Negative</td>\n",
       "      <td>Extremely Positive</td>\n",
       "    </tr>\n",
       "    <tr>\n",
       "      <th>2</th>\n",
       "      <td>3</td>\n",
       "      <td>Find out how you can protect yourself and love...</td>\n",
       "      <td>Extremely Positive</td>\n",
       "      <td>find out how you can protect yourself and love...</td>\n",
       "      <td>[(find, v), (protect, v), (loved, v), (ones, n)]</td>\n",
       "      <td>find protect love one</td>\n",
       "      <td>0.500000</td>\n",
       "      <td>Extremely Positive</td>\n",
       "      <td>0.7783</td>\n",
       "      <td>Extremely Positive</td>\n",
       "      <td>Negative</td>\n",
       "    </tr>\n",
       "    <tr>\n",
       "      <th>3</th>\n",
       "      <td>4</td>\n",
       "      <td>#Panic buying hits #NewYork City as anxious sh...</td>\n",
       "      <td>Negative</td>\n",
       "      <td>buying hits city as anxious shoppers stock up...</td>\n",
       "      <td>[(buying, v), (hits, n), (city, n), (anxious, ...</td>\n",
       "      <td>buy hit city anxious shopper stock foodampme...</td>\n",
       "      <td>-0.250000</td>\n",
       "      <td>Negative</td>\n",
       "      <td>-0.2500</td>\n",
       "      <td>Negative</td>\n",
       "      <td>Positive</td>\n",
       "    </tr>\n",
       "    <tr>\n",
       "      <th>4</th>\n",
       "      <td>5</td>\n",
       "      <td>#toiletpaper #dunnypaper #coronavirus #coronav...</td>\n",
       "      <td>Neutral</td>\n",
       "      <td>one week everyone buying baby milk powder the...</td>\n",
       "      <td>[(one, None), (week, n), (everyone, n), (buyin...</td>\n",
       "      <td>one week everyone buying baby milk powder ne...</td>\n",
       "      <td>-0.016667</td>\n",
       "      <td>Negative</td>\n",
       "      <td>0.0000</td>\n",
       "      <td>Neutral</td>\n",
       "      <td>Neutral</td>\n",
       "    </tr>\n",
       "  </tbody>\n",
       "</table>\n",
       "</div>"
      ],
      "text/plain": [
       "   Idusuario                                              Tweet  \\\n",
       "0          1  TRENDING: New Yorkers encounter empty supermar...   \n",
       "1          2  When I couldn't find hand sanitizer at Fred Me...   \n",
       "2          3  Find out how you can protect yourself and love...   \n",
       "3          4  #Panic buying hits #NewYork City as anxious sh...   \n",
       "4          5  #toiletpaper #dunnypaper #coronavirus #coronav...   \n",
       "\n",
       "          Sentimiento                                       Cleaned Text  \\\n",
       "0  Extremely Negative  trending new yorkers encounter empty supermark...   \n",
       "1            Positive  when i couldnt find hand sanitizer at fred mey...   \n",
       "2  Extremely Positive  find out how you can protect yourself and love...   \n",
       "3            Negative   buying hits city as anxious shoppers stock up...   \n",
       "4             Neutral   one week everyone buying baby milk powder the...   \n",
       "\n",
       "                                         Text tagged  \\\n",
       "0  [(trending, v), (new, a), (yorkers, n), (encou...   \n",
       "1  [(couldnt, v), (find, v), (hand, n), (sanitize...   \n",
       "2   [(find, v), (protect, v), (loved, v), (ones, n)]   \n",
       "3  [(buying, v), (hits, n), (city, n), (anxious, ...   \n",
       "4  [(one, None), (week, n), (everyone, n), (buyin...   \n",
       "\n",
       "                                               Lemma  Polarity  \\\n",
       "0    trend new yorkers encounter empty supermarke...  0.018182   \n",
       "1    couldnt find hand sanitizer fred meyer turn ...  0.000000   \n",
       "2                              find protect love one  0.500000   \n",
       "3    buy hit city anxious shopper stock foodampme... -0.250000   \n",
       "4    one week everyone buying baby milk powder ne... -0.016667   \n",
       "\n",
       "  SentimientoTextBlob  Vader Polarity    SentimientoVader      SentimientoSWN  \n",
       "0            Positive         -0.2023            Negative            Positive  \n",
       "1             Neutral         -0.3875            Negative  Extremely Positive  \n",
       "2  Extremely Positive          0.7783  Extremely Positive            Negative  \n",
       "3            Negative         -0.2500            Negative            Positive  \n",
       "4            Negative          0.0000             Neutral             Neutral  "
      ]
     },
     "execution_count": 12,
     "metadata": {},
     "output_type": "execute_result"
    }
   ],
   "source": [
    "df['SentimientoSWN'] = df['Text tagged'].apply(sentiwordnetanalysis)\n",
    "df.head()"
   ]
  },
  {
   "cell_type": "code",
   "execution_count": 21,
   "id": "f211fe0d",
   "metadata": {},
   "outputs": [
    {
     "data": {
      "text/plain": [
       "Extremely Positive    1107\n",
       "Positive               798\n",
       "Extremely Negative     749\n",
       "Negative               591\n",
       "Neutral                553\n",
       "Name: SentimientoSWN, dtype: int64"
      ]
     },
     "execution_count": 21,
     "metadata": {},
     "output_type": "execute_result"
    }
   ],
   "source": [
    "sen_SWN= df.SentimientoSWN.value_counts()\n",
    "sen_SWN"
   ]
  },
  {
   "cell_type": "code",
   "execution_count": 13,
   "id": "f0b38b9b",
   "metadata": {},
   "outputs": [
    {
     "data": {
      "text/html": [
       "<div>\n",
       "<style scoped>\n",
       "    .dataframe tbody tr th:only-of-type {\n",
       "        vertical-align: middle;\n",
       "    }\n",
       "\n",
       "    .dataframe tbody tr th {\n",
       "        vertical-align: top;\n",
       "    }\n",
       "\n",
       "    .dataframe thead th {\n",
       "        text-align: right;\n",
       "    }\n",
       "</style>\n",
       "<table border=\"1\" class=\"dataframe\">\n",
       "  <thead>\n",
       "    <tr style=\"text-align: right;\">\n",
       "      <th></th>\n",
       "      <th>Idusuario</th>\n",
       "      <th>Tweet</th>\n",
       "      <th>Sentimiento</th>\n",
       "      <th>Cleaned Text</th>\n",
       "      <th>Text tagged</th>\n",
       "      <th>Lemma</th>\n",
       "      <th>Polarity</th>\n",
       "      <th>SentimientoTextBlob</th>\n",
       "      <th>Vader Polarity</th>\n",
       "      <th>SentimientoVader</th>\n",
       "      <th>SentimientoSWN</th>\n",
       "    </tr>\n",
       "  </thead>\n",
       "  <tbody>\n",
       "    <tr>\n",
       "      <th>0</th>\n",
       "      <td>1</td>\n",
       "      <td>TRENDING: New Yorkers encounter empty supermar...</td>\n",
       "      <td>Extremely Negative</td>\n",
       "      <td>trending new yorkers encounter empty supermark...</td>\n",
       "      <td>[(trending, v), (new, a), (yorkers, n), (encou...</td>\n",
       "      <td>trend new yorkers encounter empty supermarke...</td>\n",
       "      <td>0.018182</td>\n",
       "      <td>Positive</td>\n",
       "      <td>-0.2023</td>\n",
       "      <td>Negative</td>\n",
       "      <td>Positive</td>\n",
       "    </tr>\n",
       "    <tr>\n",
       "      <th>1</th>\n",
       "      <td>2</td>\n",
       "      <td>When I couldn't find hand sanitizer at Fred Me...</td>\n",
       "      <td>Positive</td>\n",
       "      <td>when i couldnt find hand sanitizer at fred mey...</td>\n",
       "      <td>[(couldnt, v), (find, v), (hand, n), (sanitize...</td>\n",
       "      <td>couldnt find hand sanitizer fred meyer turn ...</td>\n",
       "      <td>0.000000</td>\n",
       "      <td>Neutral</td>\n",
       "      <td>-0.3875</td>\n",
       "      <td>Negative</td>\n",
       "      <td>Extremely Positive</td>\n",
       "    </tr>\n",
       "    <tr>\n",
       "      <th>2</th>\n",
       "      <td>3</td>\n",
       "      <td>Find out how you can protect yourself and love...</td>\n",
       "      <td>Extremely Positive</td>\n",
       "      <td>find out how you can protect yourself and love...</td>\n",
       "      <td>[(find, v), (protect, v), (loved, v), (ones, n)]</td>\n",
       "      <td>find protect love one</td>\n",
       "      <td>0.500000</td>\n",
       "      <td>Extremely Positive</td>\n",
       "      <td>0.7783</td>\n",
       "      <td>Extremely Positive</td>\n",
       "      <td>Negative</td>\n",
       "    </tr>\n",
       "    <tr>\n",
       "      <th>3</th>\n",
       "      <td>4</td>\n",
       "      <td>#Panic buying hits #NewYork City as anxious sh...</td>\n",
       "      <td>Negative</td>\n",
       "      <td>buying hits city as anxious shoppers stock up...</td>\n",
       "      <td>[(buying, v), (hits, n), (city, n), (anxious, ...</td>\n",
       "      <td>buy hit city anxious shopper stock foodampme...</td>\n",
       "      <td>-0.250000</td>\n",
       "      <td>Negative</td>\n",
       "      <td>-0.2500</td>\n",
       "      <td>Negative</td>\n",
       "      <td>Positive</td>\n",
       "    </tr>\n",
       "    <tr>\n",
       "      <th>4</th>\n",
       "      <td>5</td>\n",
       "      <td>#toiletpaper #dunnypaper #coronavirus #coronav...</td>\n",
       "      <td>Neutral</td>\n",
       "      <td>one week everyone buying baby milk powder the...</td>\n",
       "      <td>[(one, None), (week, n), (everyone, n), (buyin...</td>\n",
       "      <td>one week everyone buying baby milk powder ne...</td>\n",
       "      <td>-0.016667</td>\n",
       "      <td>Negative</td>\n",
       "      <td>0.0000</td>\n",
       "      <td>Neutral</td>\n",
       "      <td>Neutral</td>\n",
       "    </tr>\n",
       "    <tr>\n",
       "      <th>...</th>\n",
       "      <td>...</td>\n",
       "      <td>...</td>\n",
       "      <td>...</td>\n",
       "      <td>...</td>\n",
       "      <td>...</td>\n",
       "      <td>...</td>\n",
       "      <td>...</td>\n",
       "      <td>...</td>\n",
       "      <td>...</td>\n",
       "      <td>...</td>\n",
       "      <td>...</td>\n",
       "    </tr>\n",
       "    <tr>\n",
       "      <th>3793</th>\n",
       "      <td>3794</td>\n",
       "      <td>Meanwhile In A Supermarket in Israel -- People...</td>\n",
       "      <td>Positive</td>\n",
       "      <td>meanwhile in a supermarket in israel people da...</td>\n",
       "      <td>[(meanwhile, r), (supermarket, n), (israel, a)...</td>\n",
       "      <td>meanwhile supermarket israel people dance si...</td>\n",
       "      <td>0.227273</td>\n",
       "      <td>Positive</td>\n",
       "      <td>0.5574</td>\n",
       "      <td>Extremely Positive</td>\n",
       "      <td>Extremely Positive</td>\n",
       "    </tr>\n",
       "    <tr>\n",
       "      <th>3794</th>\n",
       "      <td>3795</td>\n",
       "      <td>Did you panic buy a lot of non-perishable item...</td>\n",
       "      <td>Negative</td>\n",
       "      <td>did you panic buy a lot of nonperishable items...</td>\n",
       "      <td>[(panic, v), (buy, v), (lot, n), (nonperishabl...</td>\n",
       "      <td>panic buy lot nonperishable item echo need f...</td>\n",
       "      <td>0.500000</td>\n",
       "      <td>Extremely Positive</td>\n",
       "      <td>-0.2500</td>\n",
       "      <td>Negative</td>\n",
       "      <td>Negative</td>\n",
       "    </tr>\n",
       "    <tr>\n",
       "      <th>3795</th>\n",
       "      <td>3796</td>\n",
       "      <td>Asst Prof of Economics @cconces was on @NBCPhi...</td>\n",
       "      <td>Neutral</td>\n",
       "      <td>asst prof of economics cconces was on nbcphila...</td>\n",
       "      <td>[(asst, a), (prof, n), (economics, n), (cconce...</td>\n",
       "      <td>asst prof economics cconces nbcphiladelphia ...</td>\n",
       "      <td>0.000000</td>\n",
       "      <td>Neutral</td>\n",
       "      <td>0.0000</td>\n",
       "      <td>Neutral</td>\n",
       "      <td>Neutral</td>\n",
       "    </tr>\n",
       "    <tr>\n",
       "      <th>3796</th>\n",
       "      <td>3797</td>\n",
       "      <td>Gov need to do somethings instead of biar je r...</td>\n",
       "      <td>Extremely Negative</td>\n",
       "      <td>gov need to do somethings instead of biar je r...</td>\n",
       "      <td>[(gov, n), (need, v), (somethings, n), (instea...</td>\n",
       "      <td>gov need somethings instead biar je rakyat a...</td>\n",
       "      <td>-0.700000</td>\n",
       "      <td>Extremely Negative</td>\n",
       "      <td>-0.7650</td>\n",
       "      <td>Extremely Negative</td>\n",
       "      <td>Extremely Negative</td>\n",
       "    </tr>\n",
       "    <tr>\n",
       "      <th>3797</th>\n",
       "      <td>3798</td>\n",
       "      <td>I and @ForestandPaper members are committed to...</td>\n",
       "      <td>Extremely Positive</td>\n",
       "      <td>i and forestandpaper members are committed to ...</td>\n",
       "      <td>[(forestandpaper, a), (members, n), (committed...</td>\n",
       "      <td>forestandpaper member commit safety employee...</td>\n",
       "      <td>0.000000</td>\n",
       "      <td>Neutral</td>\n",
       "      <td>0.7506</td>\n",
       "      <td>Extremely Positive</td>\n",
       "      <td>Positive</td>\n",
       "    </tr>\n",
       "  </tbody>\n",
       "</table>\n",
       "<p>3798 rows × 11 columns</p>\n",
       "</div>"
      ],
      "text/plain": [
       "      Idusuario                                              Tweet  \\\n",
       "0             1  TRENDING: New Yorkers encounter empty supermar...   \n",
       "1             2  When I couldn't find hand sanitizer at Fred Me...   \n",
       "2             3  Find out how you can protect yourself and love...   \n",
       "3             4  #Panic buying hits #NewYork City as anxious sh...   \n",
       "4             5  #toiletpaper #dunnypaper #coronavirus #coronav...   \n",
       "...         ...                                                ...   \n",
       "3793       3794  Meanwhile In A Supermarket in Israel -- People...   \n",
       "3794       3795  Did you panic buy a lot of non-perishable item...   \n",
       "3795       3796  Asst Prof of Economics @cconces was on @NBCPhi...   \n",
       "3796       3797  Gov need to do somethings instead of biar je r...   \n",
       "3797       3798  I and @ForestandPaper members are committed to...   \n",
       "\n",
       "             Sentimiento                                       Cleaned Text  \\\n",
       "0     Extremely Negative  trending new yorkers encounter empty supermark...   \n",
       "1               Positive  when i couldnt find hand sanitizer at fred mey...   \n",
       "2     Extremely Positive  find out how you can protect yourself and love...   \n",
       "3               Negative   buying hits city as anxious shoppers stock up...   \n",
       "4                Neutral   one week everyone buying baby milk powder the...   \n",
       "...                  ...                                                ...   \n",
       "3793            Positive  meanwhile in a supermarket in israel people da...   \n",
       "3794            Negative  did you panic buy a lot of nonperishable items...   \n",
       "3795             Neutral  asst prof of economics cconces was on nbcphila...   \n",
       "3796  Extremely Negative  gov need to do somethings instead of biar je r...   \n",
       "3797  Extremely Positive  i and forestandpaper members are committed to ...   \n",
       "\n",
       "                                            Text tagged  \\\n",
       "0     [(trending, v), (new, a), (yorkers, n), (encou...   \n",
       "1     [(couldnt, v), (find, v), (hand, n), (sanitize...   \n",
       "2      [(find, v), (protect, v), (loved, v), (ones, n)]   \n",
       "3     [(buying, v), (hits, n), (city, n), (anxious, ...   \n",
       "4     [(one, None), (week, n), (everyone, n), (buyin...   \n",
       "...                                                 ...   \n",
       "3793  [(meanwhile, r), (supermarket, n), (israel, a)...   \n",
       "3794  [(panic, v), (buy, v), (lot, n), (nonperishabl...   \n",
       "3795  [(asst, a), (prof, n), (economics, n), (cconce...   \n",
       "3796  [(gov, n), (need, v), (somethings, n), (instea...   \n",
       "3797  [(forestandpaper, a), (members, n), (committed...   \n",
       "\n",
       "                                                  Lemma  Polarity  \\\n",
       "0       trend new yorkers encounter empty supermarke...  0.018182   \n",
       "1       couldnt find hand sanitizer fred meyer turn ...  0.000000   \n",
       "2                                 find protect love one  0.500000   \n",
       "3       buy hit city anxious shopper stock foodampme... -0.250000   \n",
       "4       one week everyone buying baby milk powder ne... -0.016667   \n",
       "...                                                 ...       ...   \n",
       "3793    meanwhile supermarket israel people dance si...  0.227273   \n",
       "3794    panic buy lot nonperishable item echo need f...  0.500000   \n",
       "3795    asst prof economics cconces nbcphiladelphia ...  0.000000   \n",
       "3796    gov need somethings instead biar je rakyat a... -0.700000   \n",
       "3797    forestandpaper member commit safety employee...  0.000000   \n",
       "\n",
       "     SentimientoTextBlob  Vader Polarity    SentimientoVader  \\\n",
       "0               Positive         -0.2023            Negative   \n",
       "1                Neutral         -0.3875            Negative   \n",
       "2     Extremely Positive          0.7783  Extremely Positive   \n",
       "3               Negative         -0.2500            Negative   \n",
       "4               Negative          0.0000             Neutral   \n",
       "...                  ...             ...                 ...   \n",
       "3793            Positive          0.5574  Extremely Positive   \n",
       "3794  Extremely Positive         -0.2500            Negative   \n",
       "3795             Neutral          0.0000             Neutral   \n",
       "3796  Extremely Negative         -0.7650  Extremely Negative   \n",
       "3797             Neutral          0.7506  Extremely Positive   \n",
       "\n",
       "          SentimientoSWN  \n",
       "0               Positive  \n",
       "1     Extremely Positive  \n",
       "2               Negative  \n",
       "3               Positive  \n",
       "4                Neutral  \n",
       "...                  ...  \n",
       "3793  Extremely Positive  \n",
       "3794            Negative  \n",
       "3795             Neutral  \n",
       "3796  Extremely Negative  \n",
       "3797            Positive  \n",
       "\n",
       "[3798 rows x 11 columns]"
      ]
     },
     "execution_count": 13,
     "metadata": {},
     "output_type": "execute_result"
    }
   ],
   "source": [
    "#Datos finales\n",
    "df"
   ]
  },
  {
   "cell_type": "code",
   "execution_count": 23,
   "id": "bc2f842b",
   "metadata": {},
   "outputs": [
    {
     "data": {
      "text/plain": [
       "([<matplotlib.patches.Wedge at 0xc5b522d1f0>,\n",
       "  <matplotlib.patches.Wedge at 0xc5b522d850>,\n",
       "  <matplotlib.patches.Wedge at 0xc5b522df70>,\n",
       "  <matplotlib.patches.Wedge at 0xc5b523f6d0>,\n",
       "  <matplotlib.patches.Wedge at 0xc5b523fdf0>],\n",
       " [Text(0.8367714894262479, 0.7140122369283168, 'Negative'),\n",
       "  Text(-0.5680230059539431, 0.9419924971606977, 'Positive'),\n",
       "  Text(-1.0285923220491142, -0.3898689972562723, 'Extremely Positive'),\n",
       "  Text(0.04729952985042275, -1.098982599714813, 'Extremely Negative'),\n",
       "  Text(0.974131699162296, -0.5109475831112016, 'Neutral')],\n",
       " [Text(0.456420812414317, 0.3894612201427183, '22.5%'),\n",
       "  Text(-0.30983073052033255, 0.5138140893603804, '22.3%'),\n",
       "  Text(-0.561050357481335, -0.2126558166852394, '22.0%'),\n",
       "  Text(0.025799743554776045, -0.599445054389898, '17.9%'),\n",
       "  Text(0.5313445631794341, -0.278698681697019, '15.4%')])"
      ]
     },
     "execution_count": 23,
     "metadata": {},
     "output_type": "execute_result"
    },
    {
     "data": {
      "image/png": "[encoded data removed]",
      "text/plain": [
       "<Figure size 1080x504 with 1 Axes>"
      ]
     },
     "metadata": {},
     "output_type": "display_data"
    }
   ],
   "source": [
    "plt.figure(figsize=(15,7))\n",
    "plt.title(\"VADER results\")\n",
    "colores = [\"Orange\",\"Aquamarine\",\"Dodgerblue\",\"Orangered\",\"Orchid\"]\n",
    "plt.pie(sen_Vader, labels = sen_Vader.index, autopct='%1.1f%%', colors= colores,shadow=False)"
   ]
  },
  {
   "cell_type": "code",
   "execution_count": 24,
   "id": "c202e803",
   "metadata": {},
   "outputs": [
    {
     "data": {
      "text/plain": [
       "([<matplotlib.patches.Wedge at 0xc5b54c8280>,\n",
       "  <matplotlib.patches.Wedge at 0xc5b54c8a00>,\n",
       "  <matplotlib.patches.Wedge at 0xc5b5265160>,\n",
       "  <matplotlib.patches.Wedge at 0xc5b52658b0>,\n",
       "  <matplotlib.patches.Wedge at 0xc5b5265fd0>],\n",
       " [Text(0.6701788608908433, 0.872273061841905, 'Extremely Positive'),\n",
       "  Text(-0.8755884125463829, 0.6658415215458595, 'Positive'),\n",
       "  Text(-0.8891693557878838, -0.6475938980007145, 'Extremely Negative'),\n",
       "  Text(0.18294322687775372, -1.0846804947723339, 'Negative'),\n",
       "  Text(0.98691189730594, -0.48580336243792094, 'Neutral')],\n",
       " [Text(0.36555210594046, 0.47578530645922085, '29.1%'),\n",
       "  Text(-0.4775936795707542, 0.3631862844795597, '21.0%'),\n",
       "  Text(-0.4850014667933911, -0.35323303527311695, '19.7%'),\n",
       "  Text(0.09978721466059293, -0.5916439062394547, '15.6%'),\n",
       "  Text(0.5383155803486944, -0.26498365223886594, '14.6%')])"
      ]
     },
     "execution_count": 24,
     "metadata": {},
     "output_type": "execute_result"
    },
    {
     "data": {
      "image/png": "[encoded data removed]",
      "text/plain": [
       "<Figure size 1080x504 with 1 Axes>"
      ]
     },
     "metadata": {},
     "output_type": "display_data"
    }
   ],
   "source": [
    "plt.figure(figsize=(15,7))\n",
    "plt.title(\"SentiWordNet results\")\n",
    "colores = [\"Dodgerblue\",\"Aquamarine\",\"Orangered\",\"Orange\",\"Orchid\"]\n",
    "plt.pie(sen_SWN, labels = sen_SWN.index, autopct='%1.1f%%', colors= colores, shadow=False)"
   ]
  },
  {
   "cell_type": "code",
   "execution_count": 24,
   "id": "02f087bd",
   "metadata": {},
   "outputs": [
    {
     "data": {
      "text/plain": [
       "([<matplotlib.patches.Wedge at 0x11d128dc0>,\n",
       "  <matplotlib.patches.Wedge at 0x11d136580>,\n",
       "  <matplotlib.patches.Wedge at 0x11d136ca0>,\n",
       "  <matplotlib.patches.Wedge at 0x11d144400>,\n",
       "  <matplotlib.patches.Wedge at 0x11d144b20>],\n",
       " [Text(0.34873312442622484, 1.0432570191127033, 'Positive'),\n",
       "  Text(-1.0754297922665315, -0.23119420820073597, 'Negative'),\n",
       "  Text(0.30529956768075056, -1.0567838823401627, 'Neutral'),\n",
       "  Text(1.0358229158466128, -0.37023085636805225, 'Extremely Positive'),\n",
       "  Text(1.095532012147554, -0.09904347711955433, 'Extremely Negative')],\n",
       " [Text(0.1902180678688499, 0.5690492831523836, '39.7%'),\n",
       "  Text(-0.5865980685090171, -0.12610593174585596, '27.3%'),\n",
       "  Text(0.16652703691677304, -0.5764275721855432, '24.9%'),\n",
       "  Text(0.5649943177345159, -0.20194410347348302, '5.2%'),\n",
       "  Text(0.5975629157168476, -0.054023714792484176, '2.9%')])"
      ]
     },
     "execution_count": 24,
     "metadata": {},
     "output_type": "execute_result"
    },
    {
     "data": {
      "image/png": "[encoded data removed]",
      "text/plain": [
       "<Figure size 1080x504 with 1 Axes>"
      ]
     },
     "metadata": {},
     "output_type": "display_data"
    }
   ],
   "source": [
    "plt.figure(figsize=(15,7))\n",
    "colores = [\"Aquamarine\",\"Orange\",\"Orchid\",\"Dodgerblue\",\"Orangered\"]\n",
    "plt.title(\"TextBlob results\")\n",
    "plt.pie(sen_Blob, labels = sen_Blob.index, autopct='%1.1f%%',colors= colores, shadow=False)"
   ]
  },
  {
   "cell_type": "code",
   "execution_count": 25,
   "id": "80aa0917",
   "metadata": {},
   "outputs": [
    {
     "data": {
      "text/plain": [
       "([<matplotlib.patches.Wedge at 0xc5b52bb130>,\n",
       "  <matplotlib.patches.Wedge at 0xc5b52bb8b0>,\n",
       "  <matplotlib.patches.Wedge at 0xc5b52bbfd0>,\n",
       "  <matplotlib.patches.Wedge at 0xc5b52c9730>,\n",
       "  <matplotlib.patches.Wedge at 0xc5b52c9e50>],\n",
       " [Text(0.716776929332184, 0.8344044784018874, 'Negative'),\n",
       "  Text(-0.8848645623268316, 0.653463622811664, 'Positive'),\n",
       "  Text(-0.8694938694526417, -0.6737806846328207, 'Neutral'),\n",
       "  Text(0.10538503528793892, -1.0949401784286483, 'Extremely Positive'),\n",
       "  Text(0.970729275642409, -0.5173825213618685, 'Extremely Negative')],\n",
       " [Text(0.39096923418119117, 0.4551297154919385, '27.4%'),\n",
       "  Text(-0.4826533976328172, 0.3564347033518167, '24.9%'),\n",
       "  Text(-0.47426938333780455, -0.3675167370724476, '16.3%'),\n",
       "  Text(0.057482746520693954, -0.5972400973247172, '15.8%'),\n",
       "  Text(0.5294886958049503, -0.28220864801556456, '15.6%')])"
      ]
     },
     "execution_count": 25,
     "metadata": {},
     "output_type": "execute_result"
    },
    {
     "data": {
      "image/png": "[encoded data removed]",
      "text/plain": [
       "<Figure size 1080x504 with 1 Axes>"
      ]
     },
     "metadata": {},
     "output_type": "display_data"
    }
   ],
   "source": [
    "plt.figure(figsize=(15, 7))\n",
    "plt.title(\"Sentimientos Originales\")\n",
    "colores = [\"Orange\",\"Aquamarine\",\"Orchid\",\"Dodgerblue\",\"Orangered\"]\n",
    "plt.pie(sen_bef, labels = sen_bef.index, autopct='%1.1f%%',colors= colores, shadow=False)"
   ]
  },
  {
   "cell_type": "code",
   "execution_count": 26,
   "id": "5e59c018",
   "metadata": {},
   "outputs": [
    {
     "data": {
      "text/html": [
       "<div>\n",
       "<style scoped>\n",
       "    .dataframe tbody tr th:only-of-type {\n",
       "        vertical-align: middle;\n",
       "    }\n",
       "\n",
       "    .dataframe tbody tr th {\n",
       "        vertical-align: top;\n",
       "    }\n",
       "\n",
       "    .dataframe thead th {\n",
       "        text-align: right;\n",
       "    }\n",
       "</style>\n",
       "<table border=\"1\" class=\"dataframe\">\n",
       "  <thead>\n",
       "    <tr style=\"text-align: right;\">\n",
       "      <th></th>\n",
       "      <th>Extremely Positive</th>\n",
       "      <th>Positive</th>\n",
       "      <th>Neutral</th>\n",
       "      <th>Negative</th>\n",
       "      <th>Extremely Negative</th>\n",
       "    </tr>\n",
       "  </thead>\n",
       "  <tbody>\n",
       "    <tr>\n",
       "      <th>Original</th>\n",
       "      <td>599</td>\n",
       "      <td>947</td>\n",
       "      <td>619</td>\n",
       "      <td>1041</td>\n",
       "      <td>592</td>\n",
       "    </tr>\n",
       "    <tr>\n",
       "      <th>Text Blob</th>\n",
       "      <td>197</td>\n",
       "      <td>1509</td>\n",
       "      <td>947</td>\n",
       "      <td>1036</td>\n",
       "      <td>109</td>\n",
       "    </tr>\n",
       "    <tr>\n",
       "      <th>Vader</th>\n",
       "      <td>834</td>\n",
       "      <td>847</td>\n",
       "      <td>584</td>\n",
       "      <td>853</td>\n",
       "      <td>680</td>\n",
       "    </tr>\n",
       "    <tr>\n",
       "      <th>SWN</th>\n",
       "      <td>1107</td>\n",
       "      <td>799</td>\n",
       "      <td>553</td>\n",
       "      <td>590</td>\n",
       "      <td>749</td>\n",
       "    </tr>\n",
       "  </tbody>\n",
       "</table>\n",
       "</div>"
      ],
      "text/plain": [
       "           Extremely Positive  Positive  Neutral  Negative  Extremely Negative\n",
       "Original                  599       947      619      1041                 592\n",
       "Text Blob                 197      1509      947      1036                 109\n",
       "Vader                     834       847      584       853                 680\n",
       "SWN                      1107       799      553       590                 749"
      ]
     },
     "execution_count": 26,
     "metadata": {},
     "output_type": "execute_result"
    }
   ],
   "source": [
    "Info= [[599, 947, 619, 1041, 592],[197, 1509, 947, 1036, 109], [834, 847, 584, 853, 680], [1107, 799, 553, 590, 749]]\n",
    "columnas= [\"Extremely Positive\", \"Positive\", \"Neutral\", \"Negative\",\"Extremely Negative\"]\n",
    "Filas= [\"Original\", \"Text Blob\", \"Vader\", \"SWN\"]\n",
    "Sentimientos= pd.DataFrame(Info, columns= columnas, index= Filas)\n",
    "Sentimientos"
   ]
  },
  {
   "cell_type": "code",
   "execution_count": 27,
   "id": "f03939be",
   "metadata": {},
   "outputs": [
    {
     "data": {
      "image/png": "[encoded data removed]",
      "text/plain": [
       "<Figure size 864x360 with 1 Axes>"
      ]
     },
     "metadata": {
      "needs_background": "light"
     },
     "output_type": "display_data"
    }
   ],
   "source": [
    "fig= plt.figure(figsize=(12,5))\n",
    "plt.plot( columnas , Info[0], c= \"blue\", linestyle='-', label= \"Original\")\n",
    "plt.plot( columnas , Info[1], c= \"Green\", linestyle='-', label= \"Text Blob\")\n",
    "plt.plot( columnas , Info[2], c= \"Red\", linestyle='-', label= \"Vader\")\n",
    "plt.plot( columnas , Info[3], c= \"Purple\", linestyle='-', label= \"SWN\")\n",
    "plt.xlabel(\"Sentimiento\")\n",
    "plt.ylabel(\"Frecuencia\")\n",
    "plt.title(\"Cantidad de Tweets por Sentimiento\")\n",
    "plt.legend(loc = \"upper right\")\n",
    "plt.show()"
   ]
  },
  {
   "cell_type": "code",
   "execution_count": 15,
   "id": "afee5de9",
   "metadata": {},
   "outputs": [],
   "source": [
    "fin_data = pd.DataFrame(df[['Tweet', 'Lemma', 'Sentimiento','SentimientoTextBlob','SentimientoVader','SentimientoSWN']])"
   ]
  },
  {
   "cell_type": "code",
   "execution_count": 16,
   "id": "964271dc",
   "metadata": {},
   "outputs": [
    {
     "data": {
      "text/html": [
       "<div>\n",
       "<style scoped>\n",
       "    .dataframe tbody tr th:only-of-type {\n",
       "        vertical-align: middle;\n",
       "    }\n",
       "\n",
       "    .dataframe tbody tr th {\n",
       "        vertical-align: top;\n",
       "    }\n",
       "\n",
       "    .dataframe thead th {\n",
       "        text-align: right;\n",
       "    }\n",
       "</style>\n",
       "<table border=\"1\" class=\"dataframe\">\n",
       "  <thead>\n",
       "    <tr style=\"text-align: right;\">\n",
       "      <th></th>\n",
       "      <th>Tweet</th>\n",
       "      <th>Lemma</th>\n",
       "      <th>Sentimiento</th>\n",
       "      <th>SentimientoTextBlob</th>\n",
       "      <th>SentimientoVader</th>\n",
       "      <th>SentimientoSWN</th>\n",
       "    </tr>\n",
       "  </thead>\n",
       "  <tbody>\n",
       "    <tr>\n",
       "      <th>0</th>\n",
       "      <td>TRENDING: New Yorkers encounter empty supermar...</td>\n",
       "      <td>trend new yorkers encounter empty supermarke...</td>\n",
       "      <td>Extremely Negative</td>\n",
       "      <td>Positive</td>\n",
       "      <td>Negative</td>\n",
       "      <td>Positive</td>\n",
       "    </tr>\n",
       "    <tr>\n",
       "      <th>1</th>\n",
       "      <td>When I couldn't find hand sanitizer at Fred Me...</td>\n",
       "      <td>couldnt find hand sanitizer fred meyer turn ...</td>\n",
       "      <td>Positive</td>\n",
       "      <td>Neutral</td>\n",
       "      <td>Negative</td>\n",
       "      <td>Extremely Positive</td>\n",
       "    </tr>\n",
       "    <tr>\n",
       "      <th>2</th>\n",
       "      <td>Find out how you can protect yourself and love...</td>\n",
       "      <td>find protect love one</td>\n",
       "      <td>Extremely Positive</td>\n",
       "      <td>Extremely Positive</td>\n",
       "      <td>Extremely Positive</td>\n",
       "      <td>Negative</td>\n",
       "    </tr>\n",
       "    <tr>\n",
       "      <th>3</th>\n",
       "      <td>#Panic buying hits #NewYork City as anxious sh...</td>\n",
       "      <td>buy hit city anxious shopper stock foodampme...</td>\n",
       "      <td>Negative</td>\n",
       "      <td>Negative</td>\n",
       "      <td>Negative</td>\n",
       "      <td>Positive</td>\n",
       "    </tr>\n",
       "    <tr>\n",
       "      <th>4</th>\n",
       "      <td>#toiletpaper #dunnypaper #coronavirus #coronav...</td>\n",
       "      <td>one week everyone buying baby milk powder ne...</td>\n",
       "      <td>Neutral</td>\n",
       "      <td>Negative</td>\n",
       "      <td>Neutral</td>\n",
       "      <td>Neutral</td>\n",
       "    </tr>\n",
       "    <tr>\n",
       "      <th>...</th>\n",
       "      <td>...</td>\n",
       "      <td>...</td>\n",
       "      <td>...</td>\n",
       "      <td>...</td>\n",
       "      <td>...</td>\n",
       "      <td>...</td>\n",
       "    </tr>\n",
       "    <tr>\n",
       "      <th>3793</th>\n",
       "      <td>Meanwhile In A Supermarket in Israel -- People...</td>\n",
       "      <td>meanwhile supermarket israel people dance si...</td>\n",
       "      <td>Positive</td>\n",
       "      <td>Positive</td>\n",
       "      <td>Extremely Positive</td>\n",
       "      <td>Extremely Positive</td>\n",
       "    </tr>\n",
       "    <tr>\n",
       "      <th>3794</th>\n",
       "      <td>Did you panic buy a lot of non-perishable item...</td>\n",
       "      <td>panic buy lot nonperishable item echo need f...</td>\n",
       "      <td>Negative</td>\n",
       "      <td>Extremely Positive</td>\n",
       "      <td>Negative</td>\n",
       "      <td>Negative</td>\n",
       "    </tr>\n",
       "    <tr>\n",
       "      <th>3795</th>\n",
       "      <td>Asst Prof of Economics @cconces was on @NBCPhi...</td>\n",
       "      <td>asst prof economics cconces nbcphiladelphia ...</td>\n",
       "      <td>Neutral</td>\n",
       "      <td>Neutral</td>\n",
       "      <td>Neutral</td>\n",
       "      <td>Neutral</td>\n",
       "    </tr>\n",
       "    <tr>\n",
       "      <th>3796</th>\n",
       "      <td>Gov need to do somethings instead of biar je r...</td>\n",
       "      <td>gov need somethings instead biar je rakyat a...</td>\n",
       "      <td>Extremely Negative</td>\n",
       "      <td>Extremely Negative</td>\n",
       "      <td>Extremely Negative</td>\n",
       "      <td>Extremely Negative</td>\n",
       "    </tr>\n",
       "    <tr>\n",
       "      <th>3797</th>\n",
       "      <td>I and @ForestandPaper members are committed to...</td>\n",
       "      <td>forestandpaper member commit safety employee...</td>\n",
       "      <td>Extremely Positive</td>\n",
       "      <td>Neutral</td>\n",
       "      <td>Extremely Positive</td>\n",
       "      <td>Positive</td>\n",
       "    </tr>\n",
       "  </tbody>\n",
       "</table>\n",
       "<p>3798 rows × 6 columns</p>\n",
       "</div>"
      ],
      "text/plain": [
       "                                                  Tweet  \\\n",
       "0     TRENDING: New Yorkers encounter empty supermar...   \n",
       "1     When I couldn't find hand sanitizer at Fred Me...   \n",
       "2     Find out how you can protect yourself and love...   \n",
       "3     #Panic buying hits #NewYork City as anxious sh...   \n",
       "4     #toiletpaper #dunnypaper #coronavirus #coronav...   \n",
       "...                                                 ...   \n",
       "3793  Meanwhile In A Supermarket in Israel -- People...   \n",
       "3794  Did you panic buy a lot of non-perishable item...   \n",
       "3795  Asst Prof of Economics @cconces was on @NBCPhi...   \n",
       "3796  Gov need to do somethings instead of biar je r...   \n",
       "3797  I and @ForestandPaper members are committed to...   \n",
       "\n",
       "                                                  Lemma         Sentimiento  \\\n",
       "0       trend new yorkers encounter empty supermarke...  Extremely Negative   \n",
       "1       couldnt find hand sanitizer fred meyer turn ...            Positive   \n",
       "2                                 find protect love one  Extremely Positive   \n",
       "3       buy hit city anxious shopper stock foodampme...            Negative   \n",
       "4       one week everyone buying baby milk powder ne...             Neutral   \n",
       "...                                                 ...                 ...   \n",
       "3793    meanwhile supermarket israel people dance si...            Positive   \n",
       "3794    panic buy lot nonperishable item echo need f...            Negative   \n",
       "3795    asst prof economics cconces nbcphiladelphia ...             Neutral   \n",
       "3796    gov need somethings instead biar je rakyat a...  Extremely Negative   \n",
       "3797    forestandpaper member commit safety employee...  Extremely Positive   \n",
       "\n",
       "     SentimientoTextBlob    SentimientoVader      SentimientoSWN  \n",
       "0               Positive            Negative            Positive  \n",
       "1                Neutral            Negative  Extremely Positive  \n",
       "2     Extremely Positive  Extremely Positive            Negative  \n",
       "3               Negative            Negative            Positive  \n",
       "4               Negative             Neutral             Neutral  \n",
       "...                  ...                 ...                 ...  \n",
       "3793            Positive  Extremely Positive  Extremely Positive  \n",
       "3794  Extremely Positive            Negative            Negative  \n",
       "3795             Neutral             Neutral             Neutral  \n",
       "3796  Extremely Negative  Extremely Negative  Extremely Negative  \n",
       "3797             Neutral  Extremely Positive            Positive  \n",
       "\n",
       "[3798 rows x 6 columns]"
      ]
     },
     "execution_count": 16,
     "metadata": {},
     "output_type": "execute_result"
    }
   ],
   "source": [
    "fin_data"
   ]
  },
  {
   "cell_type": "code",
   "execution_count": 17,
   "id": "12184cc5",
   "metadata": {},
   "outputs": [
    {
     "data": {
      "text/html": [
       "<div>\n",
       "<style scoped>\n",
       "    .dataframe tbody tr th:only-of-type {\n",
       "        vertical-align: middle;\n",
       "    }\n",
       "\n",
       "    .dataframe tbody tr th {\n",
       "        vertical-align: top;\n",
       "    }\n",
       "\n",
       "    .dataframe thead th {\n",
       "        text-align: right;\n",
       "    }\n",
       "</style>\n",
       "<table border=\"1\" class=\"dataframe\">\n",
       "  <thead>\n",
       "    <tr style=\"text-align: right;\">\n",
       "      <th></th>\n",
       "      <th>aamiin</th>\n",
       "      <th>aapl</th>\n",
       "      <th>abajam</th>\n",
       "      <th>abandon</th>\n",
       "      <th>abc</th>\n",
       "      <th>abeg</th>\n",
       "      <th>abid</th>\n",
       "      <th>abide</th>\n",
       "      <th>abiity</th>\n",
       "      <th>ability</th>\n",
       "      <th>...</th>\n",
       "      <th>zombie</th>\n",
       "      <th>zombieapocalypse</th>\n",
       "      <th>zombieland</th>\n",
       "      <th>zoo</th>\n",
       "      <th>zoom</th>\n",
       "      <th>zsl</th>\n",
       "      <th>zypisfy</th>\n",
       "      <th>zásobovány</th>\n",
       "      <th>zásoby</th>\n",
       "      <th>zástupce</th>\n",
       "    </tr>\n",
       "  </thead>\n",
       "  <tbody>\n",
       "    <tr>\n",
       "      <th>0</th>\n",
       "      <td>0</td>\n",
       "      <td>0</td>\n",
       "      <td>0</td>\n",
       "      <td>0</td>\n",
       "      <td>0</td>\n",
       "      <td>0</td>\n",
       "      <td>0</td>\n",
       "      <td>0</td>\n",
       "      <td>0</td>\n",
       "      <td>0</td>\n",
       "      <td>...</td>\n",
       "      <td>0</td>\n",
       "      <td>0</td>\n",
       "      <td>0</td>\n",
       "      <td>0</td>\n",
       "      <td>0</td>\n",
       "      <td>0</td>\n",
       "      <td>0</td>\n",
       "      <td>0</td>\n",
       "      <td>0</td>\n",
       "      <td>0</td>\n",
       "    </tr>\n",
       "    <tr>\n",
       "      <th>1</th>\n",
       "      <td>0</td>\n",
       "      <td>0</td>\n",
       "      <td>0</td>\n",
       "      <td>0</td>\n",
       "      <td>0</td>\n",
       "      <td>0</td>\n",
       "      <td>0</td>\n",
       "      <td>0</td>\n",
       "      <td>0</td>\n",
       "      <td>0</td>\n",
       "      <td>...</td>\n",
       "      <td>0</td>\n",
       "      <td>0</td>\n",
       "      <td>0</td>\n",
       "      <td>0</td>\n",
       "      <td>0</td>\n",
       "      <td>0</td>\n",
       "      <td>0</td>\n",
       "      <td>0</td>\n",
       "      <td>0</td>\n",
       "      <td>0</td>\n",
       "    </tr>\n",
       "    <tr>\n",
       "      <th>2</th>\n",
       "      <td>0</td>\n",
       "      <td>0</td>\n",
       "      <td>0</td>\n",
       "      <td>0</td>\n",
       "      <td>0</td>\n",
       "      <td>0</td>\n",
       "      <td>0</td>\n",
       "      <td>0</td>\n",
       "      <td>0</td>\n",
       "      <td>0</td>\n",
       "      <td>...</td>\n",
       "      <td>0</td>\n",
       "      <td>0</td>\n",
       "      <td>0</td>\n",
       "      <td>0</td>\n",
       "      <td>0</td>\n",
       "      <td>0</td>\n",
       "      <td>0</td>\n",
       "      <td>0</td>\n",
       "      <td>0</td>\n",
       "      <td>0</td>\n",
       "    </tr>\n",
       "    <tr>\n",
       "      <th>3</th>\n",
       "      <td>0</td>\n",
       "      <td>0</td>\n",
       "      <td>0</td>\n",
       "      <td>0</td>\n",
       "      <td>0</td>\n",
       "      <td>0</td>\n",
       "      <td>0</td>\n",
       "      <td>0</td>\n",
       "      <td>0</td>\n",
       "      <td>0</td>\n",
       "      <td>...</td>\n",
       "      <td>0</td>\n",
       "      <td>0</td>\n",
       "      <td>0</td>\n",
       "      <td>0</td>\n",
       "      <td>0</td>\n",
       "      <td>0</td>\n",
       "      <td>0</td>\n",
       "      <td>0</td>\n",
       "      <td>0</td>\n",
       "      <td>0</td>\n",
       "    </tr>\n",
       "    <tr>\n",
       "      <th>4</th>\n",
       "      <td>0</td>\n",
       "      <td>0</td>\n",
       "      <td>0</td>\n",
       "      <td>0</td>\n",
       "      <td>0</td>\n",
       "      <td>0</td>\n",
       "      <td>0</td>\n",
       "      <td>0</td>\n",
       "      <td>0</td>\n",
       "      <td>0</td>\n",
       "      <td>...</td>\n",
       "      <td>0</td>\n",
       "      <td>0</td>\n",
       "      <td>0</td>\n",
       "      <td>0</td>\n",
       "      <td>0</td>\n",
       "      <td>0</td>\n",
       "      <td>0</td>\n",
       "      <td>0</td>\n",
       "      <td>0</td>\n",
       "      <td>0</td>\n",
       "    </tr>\n",
       "    <tr>\n",
       "      <th>...</th>\n",
       "      <td>...</td>\n",
       "      <td>...</td>\n",
       "      <td>...</td>\n",
       "      <td>...</td>\n",
       "      <td>...</td>\n",
       "      <td>...</td>\n",
       "      <td>...</td>\n",
       "      <td>...</td>\n",
       "      <td>...</td>\n",
       "      <td>...</td>\n",
       "      <td>...</td>\n",
       "      <td>...</td>\n",
       "      <td>...</td>\n",
       "      <td>...</td>\n",
       "      <td>...</td>\n",
       "      <td>...</td>\n",
       "      <td>...</td>\n",
       "      <td>...</td>\n",
       "      <td>...</td>\n",
       "      <td>...</td>\n",
       "      <td>...</td>\n",
       "    </tr>\n",
       "    <tr>\n",
       "      <th>3793</th>\n",
       "      <td>0</td>\n",
       "      <td>0</td>\n",
       "      <td>0</td>\n",
       "      <td>0</td>\n",
       "      <td>0</td>\n",
       "      <td>0</td>\n",
       "      <td>0</td>\n",
       "      <td>0</td>\n",
       "      <td>0</td>\n",
       "      <td>0</td>\n",
       "      <td>...</td>\n",
       "      <td>0</td>\n",
       "      <td>0</td>\n",
       "      <td>0</td>\n",
       "      <td>0</td>\n",
       "      <td>0</td>\n",
       "      <td>0</td>\n",
       "      <td>0</td>\n",
       "      <td>0</td>\n",
       "      <td>0</td>\n",
       "      <td>0</td>\n",
       "    </tr>\n",
       "    <tr>\n",
       "      <th>3794</th>\n",
       "      <td>0</td>\n",
       "      <td>0</td>\n",
       "      <td>0</td>\n",
       "      <td>0</td>\n",
       "      <td>0</td>\n",
       "      <td>0</td>\n",
       "      <td>0</td>\n",
       "      <td>0</td>\n",
       "      <td>0</td>\n",
       "      <td>0</td>\n",
       "      <td>...</td>\n",
       "      <td>0</td>\n",
       "      <td>0</td>\n",
       "      <td>0</td>\n",
       "      <td>0</td>\n",
       "      <td>0</td>\n",
       "      <td>0</td>\n",
       "      <td>0</td>\n",
       "      <td>0</td>\n",
       "      <td>0</td>\n",
       "      <td>0</td>\n",
       "    </tr>\n",
       "    <tr>\n",
       "      <th>3795</th>\n",
       "      <td>0</td>\n",
       "      <td>0</td>\n",
       "      <td>0</td>\n",
       "      <td>0</td>\n",
       "      <td>0</td>\n",
       "      <td>0</td>\n",
       "      <td>0</td>\n",
       "      <td>0</td>\n",
       "      <td>0</td>\n",
       "      <td>0</td>\n",
       "      <td>...</td>\n",
       "      <td>0</td>\n",
       "      <td>0</td>\n",
       "      <td>0</td>\n",
       "      <td>0</td>\n",
       "      <td>0</td>\n",
       "      <td>0</td>\n",
       "      <td>0</td>\n",
       "      <td>0</td>\n",
       "      <td>0</td>\n",
       "      <td>0</td>\n",
       "    </tr>\n",
       "    <tr>\n",
       "      <th>3796</th>\n",
       "      <td>0</td>\n",
       "      <td>0</td>\n",
       "      <td>0</td>\n",
       "      <td>0</td>\n",
       "      <td>0</td>\n",
       "      <td>0</td>\n",
       "      <td>0</td>\n",
       "      <td>0</td>\n",
       "      <td>0</td>\n",
       "      <td>0</td>\n",
       "      <td>...</td>\n",
       "      <td>0</td>\n",
       "      <td>0</td>\n",
       "      <td>0</td>\n",
       "      <td>0</td>\n",
       "      <td>0</td>\n",
       "      <td>0</td>\n",
       "      <td>0</td>\n",
       "      <td>0</td>\n",
       "      <td>0</td>\n",
       "      <td>0</td>\n",
       "    </tr>\n",
       "    <tr>\n",
       "      <th>3797</th>\n",
       "      <td>0</td>\n",
       "      <td>0</td>\n",
       "      <td>0</td>\n",
       "      <td>0</td>\n",
       "      <td>0</td>\n",
       "      <td>0</td>\n",
       "      <td>0</td>\n",
       "      <td>0</td>\n",
       "      <td>0</td>\n",
       "      <td>0</td>\n",
       "      <td>...</td>\n",
       "      <td>0</td>\n",
       "      <td>0</td>\n",
       "      <td>0</td>\n",
       "      <td>0</td>\n",
       "      <td>0</td>\n",
       "      <td>0</td>\n",
       "      <td>0</td>\n",
       "      <td>0</td>\n",
       "      <td>0</td>\n",
       "      <td>0</td>\n",
       "    </tr>\n",
       "  </tbody>\n",
       "</table>\n",
       "<p>3798 rows × 8813 columns</p>\n",
       "</div>"
      ],
      "text/plain": [
       "      aamiin  aapl  abajam  abandon  abc  abeg  abid  abide  abiity  ability  \\\n",
       "0          0     0       0        0    0     0     0      0       0        0   \n",
       "1          0     0       0        0    0     0     0      0       0        0   \n",
       "2          0     0       0        0    0     0     0      0       0        0   \n",
       "3          0     0       0        0    0     0     0      0       0        0   \n",
       "4          0     0       0        0    0     0     0      0       0        0   \n",
       "...      ...   ...     ...      ...  ...   ...   ...    ...     ...      ...   \n",
       "3793       0     0       0        0    0     0     0      0       0        0   \n",
       "3794       0     0       0        0    0     0     0      0       0        0   \n",
       "3795       0     0       0        0    0     0     0      0       0        0   \n",
       "3796       0     0       0        0    0     0     0      0       0        0   \n",
       "3797       0     0       0        0    0     0     0      0       0        0   \n",
       "\n",
       "      ...  zombie  zombieapocalypse  zombieland  zoo  zoom  zsl  zypisfy  \\\n",
       "0     ...       0                 0           0    0     0    0        0   \n",
       "1     ...       0                 0           0    0     0    0        0   \n",
       "2     ...       0                 0           0    0     0    0        0   \n",
       "3     ...       0                 0           0    0     0    0        0   \n",
       "4     ...       0                 0           0    0     0    0        0   \n",
       "...   ...     ...               ...         ...  ...   ...  ...      ...   \n",
       "3793  ...       0                 0           0    0     0    0        0   \n",
       "3794  ...       0                 0           0    0     0    0        0   \n",
       "3795  ...       0                 0           0    0     0    0        0   \n",
       "3796  ...       0                 0           0    0     0    0        0   \n",
       "3797  ...       0                 0           0    0     0    0        0   \n",
       "\n",
       "      zásobovány  zásoby  zástupce  \n",
       "0              0       0         0  \n",
       "1              0       0         0  \n",
       "2              0       0         0  \n",
       "3              0       0         0  \n",
       "4              0       0         0  \n",
       "...          ...     ...       ...  \n",
       "3793           0       0         0  \n",
       "3794           0       0         0  \n",
       "3795           0       0         0  \n",
       "3796           0       0         0  \n",
       "3797           0       0         0  \n",
       "\n",
       "[3798 rows x 8813 columns]"
      ]
     },
     "execution_count": 17,
     "metadata": {},
     "output_type": "execute_result"
    }
   ],
   "source": [
    "#obtener matriz de frecuencias\n",
    "count_vector = CountVectorizer()\n",
    "count_vector.fit(fin_data['Lemma'])\n",
    "names = count_vector.get_feature_names()\n",
    "\n",
    "doc_array = count_vector.transform(fin_data['Lemma']).toarray()\n",
    "doc_array\n",
    "#Matriz de Frecuencias\n",
    "frequency_matrix = pd.DataFrame(data=doc_array, columns=names)\n",
    "frequency_matrix"
   ]
  },
  {
   "cell_type": "code",
   "execution_count": null,
   "id": "f03c5d3f",
   "metadata": {},
   "outputs": [],
   "source": [
    "#Utilizando 5 Clases"
   ]
  },
  {
   "cell_type": "code",
   "execution_count": 18,
   "id": "5ecda404",
   "metadata": {},
   "outputs": [
    {
     "name": "stdout",
     "output_type": "stream",
     "text": [
      "                                                  Tweet  \\\n",
      "0     TRENDING: New Yorkers encounter empty supermar...   \n",
      "1     When I couldn't find hand sanitizer at Fred Me...   \n",
      "2     Find out how you can protect yourself and love...   \n",
      "3     #Panic buying hits #NewYork City as anxious sh...   \n",
      "4     #toiletpaper #dunnypaper #coronavirus #coronav...   \n",
      "...                                                 ...   \n",
      "3793  Meanwhile In A Supermarket in Israel -- People...   \n",
      "3794  Did you panic buy a lot of non-perishable item...   \n",
      "3795  Asst Prof of Economics @cconces was on @NBCPhi...   \n",
      "3796  Gov need to do somethings instead of biar je r...   \n",
      "3797  I and @ForestandPaper members are committed to...   \n",
      "\n",
      "                                                  Lemma  Sentimiento  \\\n",
      "0       trend new yorkers encounter empty supermarke...            4   \n",
      "1       couldnt find hand sanitizer fred meyer turn ...            1   \n",
      "2                                 find protect love one            3   \n",
      "3       buy hit city anxious shopper stock foodampme...            2   \n",
      "4       one week everyone buying baby milk powder ne...            0   \n",
      "...                                                 ...          ...   \n",
      "3793    meanwhile supermarket israel people dance si...            1   \n",
      "3794    panic buy lot nonperishable item echo need f...            2   \n",
      "3795    asst prof economics cconces nbcphiladelphia ...            0   \n",
      "3796    gov need somethings instead biar je rakyat a...            4   \n",
      "3797    forestandpaper member commit safety employee...            3   \n",
      "\n",
      "      SentimientoTextBlob  SentimientoVader  SentimientoSWN  \n",
      "0                       1                 2               1  \n",
      "1                       0                 2               3  \n",
      "2                       3                 3               2  \n",
      "3                       2                 2               1  \n",
      "4                       2                 0               0  \n",
      "...                   ...               ...             ...  \n",
      "3793                    1                 3               3  \n",
      "3794                    3                 2               2  \n",
      "3795                    0                 0               0  \n",
      "3796                    4                 4               4  \n",
      "3797                    0                 3               1  \n",
      "\n",
      "[3798 rows x 6 columns]\n"
     ]
    }
   ],
   "source": [
    "#Convertimos las clases en numeros\n",
    "fin_data['Sentimiento'] = fin_data.Sentimiento.map({'Neutral':0, 'Positive':1, 'Extremely Positive':3, 'Negative':2, 'Extremely Negative':4})\n",
    "fin_data['SentimientoTextBlob'] = fin_data.SentimientoTextBlob.map({'Neutral':0, 'Positive':1, 'Extremely Positive':3, 'Negative':2, 'Extremely Negative':4})\n",
    "fin_data['SentimientoVader'] = fin_data.SentimientoVader.map({'Neutral':0, 'Positive':1, 'Extremely Positive':3, 'Negative':2, 'Extremely Negative':4})\n",
    "fin_data['SentimientoSWN'] = fin_data.SentimientoSWN.map({'Neutral':0, 'Positive':1, 'Extremely Positive':3, 'Negative':2, 'Extremely Negative':4})\n",
    "print(fin_data)"
   ]
  },
  {
   "cell_type": "code",
   "execution_count": 19,
   "id": "ddf7414f",
   "metadata": {},
   "outputs": [
    {
     "name": "stdout",
     "output_type": "stream",
     "text": [
      "Number of rows in the total set: 3798\n",
      "Number of rows in the training set: 2848\n",
      "Number of rows in the test set: 950\n"
     ]
    }
   ],
   "source": [
    "# Dividir los datos en conjunto de entrenamiento y de test\n",
    "x_train, x_test, y_train, y_test = train_test_split(fin_data['Lemma'], fin_data['Sentimiento'], random_state=1)\n",
    "print('Number of rows in the total set: {}'.format(df.shape[0]))\n",
    "print('Number of rows in the training set: {}'.format(x_train.shape[0]))\n",
    "print('Number of rows in the test set: {}'.format(x_test.shape[0]))\n",
    "\n",
    "training_data = count_vector.fit_transform(x_train)\n",
    "testing_data = count_vector.transform(x_test)\n"
   ]
  },
  {
   "cell_type": "code",
   "execution_count": 21,
   "id": "30ac3c8b",
   "metadata": {},
   "outputs": [
    {
     "data": {
      "text/plain": [
       "MultinomialNB()"
      ]
     },
     "execution_count": 21,
     "metadata": {},
     "output_type": "execute_result"
    }
   ],
   "source": [
    "naive_bayes = MultinomialNB()\n",
    "naive_bayes.fit(training_data, y_train)"
   ]
  },
  {
   "cell_type": "code",
   "execution_count": 22,
   "id": "dcf6b255",
   "metadata": {},
   "outputs": [
    {
     "name": "stdout",
     "output_type": "stream",
     "text": [
      "[2 2 1 1 4 2 2 2 2 2 3 1 2 1 1 2 2 2 2 2 1 2 1 0 2 1 3 2 3 3 1 2 2 3 2 1 2\n",
      " 2 2 1 1 1 1 1 1 2 1 1 3 1 1 2 3 2 1 1 2 3 1 1 0 2 1 2 1 2 1 1 1 1 4 2 2 1\n",
      " 2 1 1 2 2 2 2 2 2 2 1 2 3 1 1 1 2 2 3 2 3 2 3 3 2 4 4 2 1 3 2 1 4 2 1 3 3\n",
      " 1 2 1 1 1 1 2 2 1 1 4 1 1 2 2 2 1 3 1 1 2 2 2 2 1 0 1 2 1 0 4 2 1 2 3 1 2\n",
      " 3 4 0 2 2 2 2 0 3 1 2 3 1 2 2 1 1 2 1 2 2 3 3 1 2 4 2 1 2 4 1 0 2 2 2 1 1\n",
      " 2 4 1 2 1 1 2 2 2 2 1 2 1 4 2 2 2 2 2 1 1 2 0 3 3 1 4 2 2 2 1 2 1 1 3 2 3\n",
      " 2 2 2 3 2 4 1 2 2 1 0 1 1 2 3 3 1 1 1 2 4 3 2 1 4 2 2 1 2 2 2 2 2 2 1 1 1\n",
      " 3 1 4 1 1 2 4 2 2 2 0 1 1 0 2 2 1 2 1 2 2 1 2 4 4 2 2 2 2 2 1 2 2 1 2 2 2\n",
      " 1 2 2 2 2 2 2 4 0 4 2 2 2 2 3 2 2 2 0 2 1 1 2 2 4 1 2 2 2 4 1 2 1 2 3 2 2\n",
      " 1 1 1 1 2 2 3 1 1 2 1 2 3 3 2 2 3 4 1 1 2 1 1 2 1 2 1 4 4 1 1 2 0 3 1 3 2\n",
      " 0 2 4 3 2 2 0 2 2 1 1 1 1 2 3 2 4 2 1 1 3 2 1 2 1 1 2 0 1 1 2 3 2 3 1 2 1\n",
      " 1 2 3 4 2 2 1 1 1 1 4 1 2 2 1 1 2 1 3 3 2 2 2 1 3 1 1 4 1 2 2 1 2 3 2 3 2\n",
      " 1 2 2 2 2 1 4 2 1 2 2 2 1 2 2 2 1 1 4 2 2 2 2 3 2 2 1 4 1 2 2 2 1 2 4 1 2\n",
      " 2 1 2 4 1 1 2 3 3 2 1 1 2 4 1 2 1 2 2 1 0 0 3 1 2 2 2 2 2 2 2 2 2 2 1 1 4\n",
      " 3 2 1 2 2 2 2 2 2 2 1 1 2 4 1 2 2 2 2 3 2 1 1 2 2 2 2 1 2 2 2 2 4 2 4 1 2\n",
      " 2 4 1 2 2 2 4 1 4 2 1 2 4 2 2 1 2 2 2 2 1 2 1 1 2 2 2 2 1 2 2 3 3 1 2 1 2\n",
      " 2 4 1 2 2 2 0 1 1 0 2 2 2 2 4 2 2 2 4 3 2 2 2 2 2 1 2 1 2 2 2 2 3 1 4 2 3\n",
      " 3 1 4 2 1 3 4 2 1 2 2 1 1 2 1 1 2 2 1 1 2 3 4 1 2 2 1 1 2 1 2 2 4 3 2 2 1\n",
      " 2 2 2 2 1 1 3 3 2 2 2 2 2 2 2 2 3 1 1 2 2 2 2 2 1 2 2 3 3 2 2 2 1 1 1 2 1\n",
      " 2 2 1 1 1 2 0 1 2 2 1 3 2 4 1 2 2 2 2 4 1 4 2 4 0 2 2 1 1 2 0 2 4 1 1 3 0\n",
      " 1 2 2 2 1 1 2 2 4 2 2 1 4 0 2 4 1 2 2 1 2 2 1 4 1 0 2 1 2 2 1 2 0 2 2 1 1\n",
      " 2 2 2 2 2 1 1 3 4 1 1 1 1 1 2 2 1 4 2 2 2 0 1 1 4 2 2 2 2 2 2 2 2 2 2 1 2\n",
      " 2 2 1 2 2 1 1 4 1 1 2 1 1 0 1 2 3 3 1 1 2 1 2 2 2 2 1 1 3 1 2 2 2 2 4 2 2\n",
      " 2 2 1 1 2 2 2 2 2 2 2 2 2 1 1 1 0 2 1 2 1 2 1 1 2 2 3 1 1 2 1 1 1 2 2 2 2\n",
      " 1 2 1 2 4 4 1 2 2 2 1 2 1 2 1 1 2 2 2 2 1 2 2 2 2 2 2 0 2 2 2 1 1 3 1 2 1\n",
      " 1 2 1 2 1 1 4 2 0 1 2 2 1 4 2 2 2 1 1 0 4 1 1 1 2]\n",
      "427     0\n",
      "3526    1\n",
      "725     1\n",
      "2346    3\n",
      "664     2\n",
      "       ..\n",
      "3315    2\n",
      "595     0\n",
      "299     0\n",
      "1822    0\n",
      "2029    2\n",
      "Name: Sentimiento, Length: 950, dtype: int64\n"
     ]
    }
   ],
   "source": [
    "predictions = naive_bayes.predict(testing_data)\n",
    "print(predictions)\n",
    "print(y_test)"
   ]
  },
  {
   "cell_type": "code",
   "execution_count": 25,
   "id": "bb06e492",
   "metadata": {},
   "outputs": [
    {
     "name": "stdout",
     "output_type": "stream",
     "text": [
      "Aciertos: 371\n",
      "Exactitud:  0.39052631578947367\n",
      "Precision  0.43348983840769845\n",
      "Sensibilidad:  0.39052631578947367\n",
      "F1 score:  0.38319589804562787\n",
      "Matriz de confusion:\n"
     ]
    },
    {
     "data": {
      "image/png": "[encoded data removed]",
      "text/plain": [
       "<Figure size 720x360 with 1 Axes>"
      ]
     },
     "metadata": {
      "needs_background": "light"
     },
     "output_type": "display_data"
    }
   ],
   "source": [
    "#Numero de aciertos\n",
    "h=0\n",
    "aciertos= 0\n",
    "while h < len(predictions):\n",
    "  if predictions[h] == y_test.iloc[h]:\n",
    "    aciertos= aciertos + 1\n",
    "  h=h+1\n",
    "print(\"Aciertos:\",aciertos)\n",
    "\n",
    "#Eficencia del modelo\n",
    "from sklearn.metrics import accuracy_score, precision_score, recall_score, f1_score, confusion_matrix\n",
    "print('Exactitud: ', format(accuracy_score(y_test, predictions)))\n",
    "print('Precision ', format(precision_score(y_test, predictions, average='weighted')))\n",
    "print('Sensibilidad: ', format(recall_score(y_test, predictions, average='weighted')))\n",
    "print('F1 score: ', format(f1_score(y_test, predictions, average='weighted')))\n",
    "print('Matriz de confusion:')\n",
    "cm= confusion_matrix(y_test, predictions)\n",
    "fig, ax= plt.subplots(figsize=(10,5))\n",
    "ax.matshow(cm)\n",
    "plt.title('Matriz de Confusión (Original)', fontsize= 20)\n",
    "plt.ylabel('Etiqueta verdadera', fontsize = 15)\n",
    "plt.xlabel('Etiquieta predicha', fontsize= 15)\n",
    "for(i,j), z in np.ndenumerate(cm):\n",
    "  ax.text(j, i, '{:0.1f}'.format(z), ha='center', va='center')"
   ]
  },
  {
   "cell_type": "code",
   "execution_count": 26,
   "id": "e36f6794",
   "metadata": {},
   "outputs": [
    {
     "name": "stdout",
     "output_type": "stream",
     "text": [
      "Number of rows in the total set: 3798\n",
      "Number of rows in the training set: 2848\n",
      "Number of rows in the test set: 950\n",
      "Aciertos: 530\n",
      "Exactitud:  0.5578947368421052\n",
      "Precision  0.603985903007453\n",
      "Sensibilidad:  0.5578947368421052\n",
      "F1 score:  0.5029904256341607\n",
      "Matriz de confusion:\n"
     ]
    },
    {
     "data": {
      "image/png": "[encoded data removed]",
      "text/plain": [
       "<Figure size 720x360 with 1 Axes>"
      ]
     },
     "metadata": {
      "needs_background": "light"
     },
     "output_type": "display_data"
    }
   ],
   "source": [
    "# Dividir los datos en conjunto de entrenamiento y de test\n",
    "x_train, x_test, y_train, y_test = train_test_split(fin_data['Lemma'], fin_data['SentimientoTextBlob'], random_state=1)\n",
    "print('Number of rows in the total set: {}'.format(df.shape[0]))\n",
    "print('Number of rows in the training set: {}'.format(x_train.shape[0]))\n",
    "print('Number of rows in the test set: {}'.format(x_test.shape[0]))\n",
    "\n",
    "training_data = count_vector.fit_transform(x_train)\n",
    "testing_data = count_vector.transform(x_test)\n",
    "\n",
    "naive_bayes = MultinomialNB()\n",
    "naive_bayes.fit(training_data, y_train)\n",
    "\n",
    "predictions = naive_bayes.predict(testing_data)\n",
    "\n",
    "#Numero de aciertos\n",
    "h=0\n",
    "aciertos= 0\n",
    "while h < len(predictions):\n",
    "  if predictions[h] == y_test.iloc[h]:\n",
    "    aciertos= aciertos + 1\n",
    "  h=h+1\n",
    "print(\"Aciertos:\",aciertos)\n",
    "\n",
    "#Eficencia del modelo\n",
    "from sklearn.metrics import accuracy_score, precision_score, recall_score, f1_score, confusion_matrix\n",
    "print('Exactitud: ', format(accuracy_score(y_test, predictions)))\n",
    "print('Precision ', format(precision_score(y_test, predictions, average='weighted')))\n",
    "print('Sensibilidad: ', format(recall_score(y_test, predictions, average='weighted')))\n",
    "print('F1 score: ', format(f1_score(y_test, predictions, average='weighted')))\n",
    "print('Matriz de confusion:')\n",
    "cm= confusion_matrix(y_test, predictions)\n",
    "fig, ax= plt.subplots(figsize=(10,5))\n",
    "ax.matshow(cm)\n",
    "plt.title('Matriz de Confusión(TextBlob)', fontsize= 20)\n",
    "plt.ylabel('Etiqueta verdadera', fontsize = 15)\n",
    "plt.xlabel('Etiquieta predicha', fontsize= 15)\n",
    "for(i,j), z in np.ndenumerate(cm):\n",
    "  ax.text(j, i, '{:0.1f}'.format(z), ha='center', va='center')\n"
   ]
  },
  {
   "cell_type": "code",
   "execution_count": 27,
   "id": "1e13f49b",
   "metadata": {},
   "outputs": [
    {
     "name": "stdout",
     "output_type": "stream",
     "text": [
      "Number of rows in the total set: 3798\n",
      "Number of rows in the training set: 2848\n",
      "Number of rows in the test set: 950\n",
      "Aciertos: 371\n",
      "Exactitud:  0.39052631578947367\n",
      "Precision  0.43348983840769845\n",
      "Sensibilidad:  0.39052631578947367\n",
      "F1 score:  0.38319589804562787\n",
      "Matriz de confusion:\n"
     ]
    },
    {
     "data": {
      "image/png": "[encoded data removed]",
      "text/plain": [
       "<Figure size 720x360 with 1 Axes>"
      ]
     },
     "metadata": {
      "needs_background": "light"
     },
     "output_type": "display_data"
    }
   ],
   "source": [
    "# Dividir los datos en conjunto de entrenamiento y de test\n",
    "x_train, x_test, y_train, y_test = train_test_split(fin_data['Lemma'], fin_data['SentimientoVader'], random_state=1)\n",
    "print('Number of rows in the total set: {}'.format(df.shape[0]))\n",
    "print('Number of rows in the training set: {}'.format(x_train.shape[0]))\n",
    "print('Number of rows in the test set: {}'.format(x_test.shape[0]))\n",
    "\n",
    "training_data = count_vector.fit_transform(x_train)\n",
    "testing_data = count_vector.transform(x_test)\n",
    "\n",
    "naive_bayes = MultinomialNB()\n",
    "naive_bayes.fit(training_data, y_train)\n",
    "\n",
    "predictions = naive_bayes.predict(testing_data)\n",
    "\n",
    "#Numero de aciertos\n",
    "h=0\n",
    "aciertos= 0\n",
    "while h < len(predictions):\n",
    "  if predictions[h] == y_test.iloc[h]:\n",
    "    aciertos= aciertos + 1\n",
    "  h=h+1\n",
    "print(\"Aciertos:\",aciertos)\n",
    "\n",
    "#Eficencia del modelo\n",
    "from sklearn.metrics import accuracy_score, precision_score, recall_score, f1_score, confusion_matrix\n",
    "print('Exactitud: ', format(accuracy_score(y_test, predictions)))\n",
    "print('Precision ', format(precision_score(y_test, predictions, average='weighted')))\n",
    "print('Sensibilidad: ', format(recall_score(y_test, predictions, average='weighted')))\n",
    "print('F1 score: ', format(f1_score(y_test, predictions, average='weighted')))\n",
    "print('Matriz de confusion:')\n",
    "cm= confusion_matrix(y_test, predictions)\n",
    "fig, ax= plt.subplots(figsize=(10,5))\n",
    "ax.matshow(cm)\n",
    "plt.title('Matriz de Confusión(Vader)', fontsize= 20)\n",
    "plt.ylabel('Etiqueta verdadera', fontsize = 15)\n",
    "plt.xlabel('Etiquieta predicha', fontsize= 15)\n",
    "for(i,j), z in np.ndenumerate(cm):\n",
    "  ax.text(j, i, '{:0.1f}'.format(z), ha='center', va='center')\n"
   ]
  },
  {
   "cell_type": "code",
   "execution_count": 28,
   "id": "b30b21ba",
   "metadata": {},
   "outputs": [
    {
     "name": "stdout",
     "output_type": "stream",
     "text": [
      "Number of rows in the total set: 3798\n",
      "Number of rows in the training set: 2848\n",
      "Number of rows in the test set: 950\n",
      "Aciertos: 382\n",
      "Exactitud:  0.40210526315789474\n",
      "Precision  0.3989473344250187\n",
      "Sensibilidad:  0.40210526315789474\n",
      "F1 score:  0.34781989790021267\n",
      "Matriz de confusion:\n"
     ]
    },
    {
     "data": {
      "image/png": "[encoded data removed]",
      "text/plain": [
       "<Figure size 720x360 with 1 Axes>"
      ]
     },
     "metadata": {
      "needs_background": "light"
     },
     "output_type": "display_data"
    }
   ],
   "source": [
    "# Dividir los datos en conjunto de entrenamiento y de test\n",
    "x_train, x_test, y_train, y_test = train_test_split(fin_data['Lemma'], fin_data['SentimientoSWN'], random_state=1)\n",
    "print('Number of rows in the total set: {}'.format(df.shape[0]))\n",
    "print('Number of rows in the training set: {}'.format(x_train.shape[0]))\n",
    "print('Number of rows in the test set: {}'.format(x_test.shape[0]))\n",
    "\n",
    "training_data = count_vector.fit_transform(x_train)\n",
    "testing_data = count_vector.transform(x_test)\n",
    "\n",
    "naive_bayes = MultinomialNB()\n",
    "naive_bayes.fit(training_data, y_train)\n",
    "\n",
    "predictions = naive_bayes.predict(testing_data)\n",
    "\n",
    "#Numero de aciertos\n",
    "h=0\n",
    "aciertos= 0\n",
    "while h < len(predictions):\n",
    "  if predictions[h] == y_test.iloc[h]:\n",
    "    aciertos= aciertos + 1\n",
    "  h=h+1\n",
    "print(\"Aciertos:\",aciertos)\n",
    "\n",
    "#Eficencia del modelo\n",
    "from sklearn.metrics import accuracy_score, precision_score, recall_score, f1_score, confusion_matrix\n",
    "print('Exactitud: ', format(accuracy_score(y_test, predictions)))\n",
    "print('Precision ', format(precision_score(y_test, predictions, average='weighted')))\n",
    "print('Sensibilidad: ', format(recall_score(y_test, predictions, average='weighted')))\n",
    "print('F1 score: ', format(f1_score(y_test, predictions, average='weighted')))\n",
    "print('Matriz de confusion:')\n",
    "cm= confusion_matrix(y_test, predictions)\n",
    "fig, ax= plt.subplots(figsize=(10,5))\n",
    "ax.matshow(cm)\n",
    "plt.title('Matriz de Confusión(SWN)', fontsize= 20)\n",
    "plt.ylabel('Etiqueta verdadera', fontsize = 15)\n",
    "plt.xlabel('Etiquieta predicha', fontsize= 15)\n",
    "for(i,j), z in np.ndenumerate(cm):\n",
    "  ax.text(j, i, '{:0.1f}'.format(z), ha='center', va='center')\n"
   ]
  },
  {
   "cell_type": "code",
   "execution_count": null,
   "id": "702e7906",
   "metadata": {},
   "outputs": [],
   "source": [
    "#Utilizando SVM"
   ]
  },
  {
   "cell_type": "code",
   "execution_count": 29,
   "id": "f7b4f360",
   "metadata": {},
   "outputs": [
    {
     "name": "stdout",
     "output_type": "stream",
     "text": [
      "Number of rows in the total set: 3798\n",
      "Number of rows in the training set: 2848\n",
      "Number of rows in the test set: 950\n",
      "Aciertos: 439\n",
      "Exatitud:  0.46210526315789474\n",
      "Precision:  0.48138258553028196\n",
      "Sensibilidad:  0.46210526315789474\n",
      "F1 score:  0.46086102647939003\n"
     ]
    },
    {
     "data": {
      "image/png": "[encoded data removed]",
      "text/plain": [
       "<Figure size 720x360 with 1 Axes>"
      ]
     },
     "metadata": {
      "needs_background": "light"
     },
     "output_type": "display_data"
    }
   ],
   "source": [
    "# Dividir los datos en conjunto de entrenamiento y de test\n",
    "x_train, x_test, y_train, y_test = train_test_split(fin_data['Lemma'], fin_data['Sentimiento'], random_state=1)\n",
    "print('Number of rows in the total set: {}'.format(df.shape[0]))\n",
    "print('Number of rows in the training set: {}'.format(x_train.shape[0]))\n",
    "print('Number of rows in the test set: {}'.format(x_test.shape[0]))\n",
    "\n",
    "training_data = count_vector.fit_transform(x_train)\n",
    "testing_data = count_vector.transform(x_test)\n",
    "\n",
    "#Utilizando Maquina de vectores de soporte\n",
    "clf = SVC(decision_function_shape='ovo', kernel='linear')\n",
    "clf.fit(training_data, y_train)\n",
    "\n",
    "y_pred = clf.predict(testing_data)\n",
    "\n",
    "#Numero de aciertos\n",
    "h=0\n",
    "aciertos= 0\n",
    "while h < len(y_pred):\n",
    "  if y_pred[h] == y_test.iloc[h]:\n",
    "    aciertos= aciertos + 1\n",
    "  h=h+1\n",
    "print(\"Aciertos:\",aciertos)\n",
    "\n",
    "#Eficencia del modelo\n",
    "from sklearn.metrics import accuracy_score, precision_score, recall_score, f1_score, confusion_matrix\n",
    "print('Exatitud: ', format(accuracy_score(y_test, y_pred)))\n",
    "print('Precision: ', format(precision_score(y_test, y_pred, average='weighted')))\n",
    "print('Sensibilidad: ', format(recall_score(y_test, y_pred, average='weighted')))\n",
    "print('F1 score: ', format(f1_score(y_test, y_pred, average='weighted')))\n",
    "cm= confusion_matrix(y_test, y_pred)\n",
    "fig, ax= plt.subplots(figsize=(10,5))\n",
    "ax.matshow(cm)\n",
    "plt.title('Matriz de Confusión(Original)', fontsize= 20)\n",
    "plt.ylabel('Etiqueta verdadera', fontsize = 15)\n",
    "plt.xlabel('Etiquieta predicha', fontsize= 15)\n",
    "for(i,j), z in np.ndenumerate(cm):\n",
    "  ax.text(j, i, '{:0.1f}'.format(z), ha='center', va='center')"
   ]
  },
  {
   "cell_type": "code",
   "execution_count": 31,
   "id": "f8b6be3a",
   "metadata": {},
   "outputs": [
    {
     "name": "stdout",
     "output_type": "stream",
     "text": [
      "Number of rows in the total set: 3798\n",
      "Number of rows in the training set: 2848\n",
      "Number of rows in the test set: 950\n",
      "Aciertos: 657\n",
      "Exatitud:  0.6915789473684211\n",
      "Precision:  0.6955737910043778\n",
      "Sensibilidad:  0.6915789473684211\n",
      "F1 score:  0.6865923305103517\n"
     ]
    },
    {
     "data": {
      "image/png": "[encoded data removed]",
      "text/plain": [
       "<Figure size 720x360 with 1 Axes>"
      ]
     },
     "metadata": {
      "needs_background": "light"
     },
     "output_type": "display_data"
    }
   ],
   "source": [
    "# Dividir los datos en conjunto de entrenamiento y de test\n",
    "x_train, x_test, y_train, y_test = train_test_split(fin_data['Lemma'], fin_data['SentimientoTextBlob'], random_state=1)\n",
    "print('Number of rows in the total set: {}'.format(df.shape[0]))\n",
    "print('Number of rows in the training set: {}'.format(x_train.shape[0]))\n",
    "print('Number of rows in the test set: {}'.format(x_test.shape[0]))\n",
    "\n",
    "training_data = count_vector.fit_transform(x_train)\n",
    "testing_data = count_vector.transform(x_test)\n",
    "\n",
    "#Utilizando Maquina de vectores de soporte\n",
    "clf = SVC(decision_function_shape='ovo', kernel='linear')\n",
    "clf.fit(training_data, y_train)\n",
    "\n",
    "y_pred = clf.predict(testing_data)\n",
    "\n",
    "#Numero de aciertos\n",
    "h=0\n",
    "aciertos= 0\n",
    "while h < len(y_pred):\n",
    "  if y_pred[h] == y_test.iloc[h]:\n",
    "    aciertos= aciertos + 1\n",
    "  h=h+1\n",
    "print(\"Aciertos:\",aciertos)\n",
    "\n",
    "#Eficencia del modelo\n",
    "from sklearn.metrics import accuracy_score, precision_score, recall_score, f1_score, confusion_matrix\n",
    "print('Exatitud: ', format(accuracy_score(y_test, y_pred)))\n",
    "print('Precision: ', format(precision_score(y_test, y_pred, average='weighted')))\n",
    "print('Sensibilidad: ', format(recall_score(y_test, y_pred, average='weighted')))\n",
    "print('F1 score: ', format(f1_score(y_test, y_pred, average='weighted')))\n",
    "cm= confusion_matrix(y_test, y_pred)\n",
    "fig, ax= plt.subplots(figsize=(10,5))\n",
    "ax.matshow(cm)\n",
    "plt.title('Matriz de Confusión(TextBlob)', fontsize= 20)\n",
    "plt.ylabel('Etiqueta verdadera', fontsize = 15)\n",
    "plt.xlabel('Etiquieta predicha', fontsize= 15)\n",
    "for(i,j), z in np.ndenumerate(cm):\n",
    "  ax.text(j, i, '{:0.1f}'.format(z), ha='center', va='center')"
   ]
  },
  {
   "cell_type": "code",
   "execution_count": 32,
   "id": "fa810953",
   "metadata": {},
   "outputs": [
    {
     "name": "stdout",
     "output_type": "stream",
     "text": [
      "Number of rows in the total set: 3798\n",
      "Number of rows in the training set: 2848\n",
      "Number of rows in the test set: 950\n",
      "Aciertos: 426\n",
      "Exatitud:  0.44842105263157894\n",
      "Precision:  0.4664738072193819\n",
      "Sensibilidad:  0.44842105263157894\n",
      "F1 score:  0.44834801813528186\n"
     ]
    },
    {
     "data": {
      "image/png": "[encoded data removed]",
      "text/plain": [
       "<Figure size 720x360 with 1 Axes>"
      ]
     },
     "metadata": {
      "needs_background": "light"
     },
     "output_type": "display_data"
    }
   ],
   "source": [
    "# Dividir los datos en conjunto de entrenamiento y de test\n",
    "x_train, x_test, y_train, y_test = train_test_split(fin_data['Lemma'], fin_data['SentimientoVader'], random_state=1)\n",
    "print('Number of rows in the total set: {}'.format(df.shape[0]))\n",
    "print('Number of rows in the training set: {}'.format(x_train.shape[0]))\n",
    "print('Number of rows in the test set: {}'.format(x_test.shape[0]))\n",
    "\n",
    "training_data = count_vector.fit_transform(x_train)\n",
    "testing_data = count_vector.transform(x_test)\n",
    "\n",
    "#Utilizando Maquina de vectores de soporte\n",
    "clf = SVC(decision_function_shape='ovo', kernel='linear')\n",
    "clf.fit(training_data, y_train)\n",
    "\n",
    "y_pred = clf.predict(testing_data)\n",
    "\n",
    "#Numero de aciertos\n",
    "h=0\n",
    "aciertos= 0\n",
    "while h < len(y_pred):\n",
    "  if y_pred[h] == y_test.iloc[h]:\n",
    "    aciertos= aciertos + 1\n",
    "  h=h+1\n",
    "print(\"Aciertos:\",aciertos)\n",
    "\n",
    "#Eficencia del modelo\n",
    "from sklearn.metrics import accuracy_score, precision_score, recall_score, f1_score, confusion_matrix\n",
    "print('Exatitud: ', format(accuracy_score(y_test, y_pred)))\n",
    "print('Precision: ', format(precision_score(y_test, y_pred, average='weighted')))\n",
    "print('Sensibilidad: ', format(recall_score(y_test, y_pred, average='weighted')))\n",
    "print('F1 score: ', format(f1_score(y_test, y_pred, average='weighted')))\n",
    "cm= confusion_matrix(y_test, y_pred)\n",
    "fig, ax= plt.subplots(figsize=(10,5))\n",
    "ax.matshow(cm)\n",
    "plt.title('Matriz de Confusión(Vader)', fontsize= 20)\n",
    "plt.ylabel('Etiqueta verdadera', fontsize = 15)\n",
    "plt.xlabel('Etiquieta predicha', fontsize= 15)\n",
    "for(i,j), z in np.ndenumerate(cm):\n",
    "  ax.text(j, i, '{:0.1f}'.format(z), ha='center', va='center')"
   ]
  },
  {
   "cell_type": "code",
   "execution_count": 33,
   "id": "3caabb9c",
   "metadata": {},
   "outputs": [
    {
     "name": "stdout",
     "output_type": "stream",
     "text": [
      "Number of rows in the total set: 3798\n",
      "Number of rows in the training set: 2848\n",
      "Number of rows in the test set: 950\n",
      "Aciertos: 402\n",
      "Exatitud:  0.4231578947368421\n",
      "Precision:  0.45406518526683964\n",
      "Sensibilidad:  0.4231578947368421\n",
      "F1 score:  0.43096921455659126\n"
     ]
    },
    {
     "data": {
      "image/png": "[encoded data removed]",
      "text/plain": [
       "<Figure size 720x360 with 1 Axes>"
      ]
     },
     "metadata": {
      "needs_background": "light"
     },
     "output_type": "display_data"
    }
   ],
   "source": [
    "# Dividir los datos en conjunto de entrenamiento y de test\n",
    "x_train, x_test, y_train, y_test = train_test_split(fin_data['Lemma'], fin_data['SentimientoSWN'], random_state=1)\n",
    "print('Number of rows in the total set: {}'.format(df.shape[0]))\n",
    "print('Number of rows in the training set: {}'.format(x_train.shape[0]))\n",
    "print('Number of rows in the test set: {}'.format(x_test.shape[0]))\n",
    "\n",
    "training_data = count_vector.fit_transform(x_train)\n",
    "testing_data = count_vector.transform(x_test)\n",
    "\n",
    "#Utilizando Maquina de vectores de soporte\n",
    "clf = SVC(decision_function_shape='ovo', kernel='linear')\n",
    "clf.fit(training_data, y_train)\n",
    "\n",
    "y_pred = clf.predict(testing_data)\n",
    "\n",
    "#Numero de aciertos\n",
    "h=0\n",
    "aciertos= 0\n",
    "while h < len(y_pred):\n",
    "  if y_pred[h] == y_test.iloc[h]:\n",
    "    aciertos= aciertos + 1\n",
    "  h=h+1\n",
    "print(\"Aciertos:\",aciertos)\n",
    "\n",
    "#Eficencia del modelo\n",
    "from sklearn.metrics import accuracy_score, precision_score, recall_score, f1_score, confusion_matrix\n",
    "print('Exatitud: ', format(accuracy_score(y_test, y_pred)))\n",
    "print('Precision: ', format(precision_score(y_test, y_pred, average='weighted')))\n",
    "print('Sensibilidad: ', format(recall_score(y_test, y_pred, average='weighted')))\n",
    "print('F1 score: ', format(f1_score(y_test, y_pred, average='weighted')))\n",
    "cm= confusion_matrix(y_test, y_pred)\n",
    "fig, ax= plt.subplots(figsize=(10,5))\n",
    "ax.matshow(cm)\n",
    "plt.title('Matriz de Confusión(SWN)', fontsize= 20)\n",
    "plt.ylabel('Etiqueta verdadera', fontsize = 15)\n",
    "plt.xlabel('Etiquieta predicha', fontsize= 15)\n",
    "for(i,j), z in np.ndenumerate(cm):\n",
    "  ax.text(j, i, '{:0.1f}'.format(z), ha='center', va='center')"
   ]
  },
  {
   "cell_type": "code",
   "execution_count": null,
   "id": "c5f1022c",
   "metadata": {},
   "outputs": [],
   "source": [
    "#REDUCIENDO EL NUMERO DE CLASES A 3"
   ]
  },
  {
   "cell_type": "code",
   "execution_count": 34,
   "id": "abb706b9",
   "metadata": {},
   "outputs": [
    {
     "name": "stdout",
     "output_type": "stream",
     "text": [
      "                                                  Tweet  \\\n",
      "0     TRENDING: New Yorkers encounter empty supermar...   \n",
      "1     When I couldn't find hand sanitizer at Fred Me...   \n",
      "2     Find out how you can protect yourself and love...   \n",
      "3     #Panic buying hits #NewYork City as anxious sh...   \n",
      "4     #toiletpaper #dunnypaper #coronavirus #coronav...   \n",
      "...                                                 ...   \n",
      "3793  Meanwhile In A Supermarket in Israel -- People...   \n",
      "3794  Did you panic buy a lot of non-perishable item...   \n",
      "3795  Asst Prof of Economics @cconces was on @NBCPhi...   \n",
      "3796  Gov need to do somethings instead of biar je r...   \n",
      "3797  I and @ForestandPaper members are committed to...   \n",
      "\n",
      "                                                  Lemma  Sentimiento  \\\n",
      "0       trend new yorkers encounter empty supermarke...            2   \n",
      "1       couldnt find hand sanitizer fred meyer turn ...            1   \n",
      "2                                 find protect love one            1   \n",
      "3       buy hit city anxious shopper stock foodampme...            2   \n",
      "4       one week everyone buying baby milk powder ne...            0   \n",
      "...                                                 ...          ...   \n",
      "3793    meanwhile supermarket israel people dance si...            1   \n",
      "3794    panic buy lot nonperishable item echo need f...            2   \n",
      "3795    asst prof economics cconces nbcphiladelphia ...            0   \n",
      "3796    gov need somethings instead biar je rakyat a...            2   \n",
      "3797    forestandpaper member commit safety employee...            1   \n",
      "\n",
      "      SentimientoTextBlob  SentimientoVader  SentimientoSWN  \n",
      "0                       1                 2               1  \n",
      "1                       0                 2               1  \n",
      "2                       1                 1               2  \n",
      "3                       2                 2               1  \n",
      "4                       2                 0               0  \n",
      "...                   ...               ...             ...  \n",
      "3793                    1                 1               1  \n",
      "3794                    1                 2               2  \n",
      "3795                    0                 0               0  \n",
      "3796                    2                 2               2  \n",
      "3797                    0                 1               1  \n",
      "\n",
      "[3798 rows x 6 columns]\n"
     ]
    }
   ],
   "source": [
    "fin_data = pd.DataFrame(df[['Tweet', 'Lemma', 'Sentimiento','SentimientoTextBlob','SentimientoVader','SentimientoSWN']])\n",
    "#Reducimos las calses a 3\n",
    "fin_data['Sentimiento'] = fin_data.Sentimiento.map({'Neutral':0, 'Positive':1, 'Extremely Positive':1, 'Negative':2, 'Extremely Negative':2})\n",
    "fin_data['SentimientoTextBlob'] = fin_data.SentimientoTextBlob.map({'Neutral':0, 'Positive':1, 'Extremely Positive':1, 'Negative':2, 'Extremely Negative':2})\n",
    "fin_data['SentimientoVader'] = fin_data.SentimientoVader.map({'Neutral':0, 'Positive':1, 'Extremely Positive':1, 'Negative':2, 'Extremely Negative':2})\n",
    "fin_data['SentimientoSWN'] = fin_data.SentimientoSWN.map({'Neutral':0, 'Positive':1, 'Extremely Positive':1, 'Negative':2, 'Extremely Negative':2})\n",
    "print(fin_data)"
   ]
  },
  {
   "cell_type": "code",
   "execution_count": 35,
   "id": "decd2a5b",
   "metadata": {},
   "outputs": [
    {
     "name": "stdout",
     "output_type": "stream",
     "text": [
      "Number of rows in the total set: 3798\n",
      "Number of rows in the training set: 2848\n",
      "Number of rows in the test set: 950\n",
      "Aciertos: 630\n",
      "Exactitud:  0.6631578947368421\n",
      "Precision  0.6604487334327802\n",
      "Sensibilidad:  0.6631578947368421\n",
      "F1 score:  0.6271351485260005\n",
      "Matriz de confusion:\n"
     ]
    },
    {
     "data": {
      "image/png": "[encoded data removed]",
      "text/plain": [
       "<Figure size 720x360 with 1 Axes>"
      ]
     },
     "metadata": {
      "needs_background": "light"
     },
     "output_type": "display_data"
    }
   ],
   "source": [
    "# Dividir los datos en conjunto de entrenamiento y de test\n",
    "x_train, x_test, y_train, y_test = train_test_split(fin_data['Lemma'], fin_data['Sentimiento'], random_state=1)\n",
    "print('Number of rows in the total set: {}'.format(df.shape[0]))\n",
    "print('Number of rows in the training set: {}'.format(x_train.shape[0]))\n",
    "print('Number of rows in the test set: {}'.format(x_test.shape[0]))\n",
    "\n",
    "training_data = count_vector.fit_transform(x_train)\n",
    "testing_data = count_vector.transform(x_test)\n",
    "\n",
    "naive_bayes = MultinomialNB()\n",
    "naive_bayes.fit(training_data, y_train)\n",
    "\n",
    "predictions = naive_bayes.predict(testing_data)\n",
    "\n",
    "#Numero de aciertos\n",
    "h=0\n",
    "aciertos= 0\n",
    "while h < len(predictions):\n",
    "  if predictions[h] == y_test.iloc[h]:\n",
    "    aciertos= aciertos + 1\n",
    "  h=h+1\n",
    "print(\"Aciertos:\",aciertos)\n",
    "\n",
    "#Eficencia del modelo\n",
    "from sklearn.metrics import accuracy_score, precision_score, recall_score, f1_score, confusion_matrix\n",
    "print('Exactitud: ', format(accuracy_score(y_test, predictions)))\n",
    "print('Precision ', format(precision_score(y_test, predictions, average='weighted')))\n",
    "print('Sensibilidad: ', format(recall_score(y_test, predictions, average='weighted')))\n",
    "print('F1 score: ', format(f1_score(y_test, predictions, average='weighted')))\n",
    "print('Matriz de confusion:')\n",
    "cm= confusion_matrix(y_test, predictions)\n",
    "fig, ax= plt.subplots(figsize=(10,5))\n",
    "ax.matshow(cm)\n",
    "plt.title('Matriz de Confusión(Original)', fontsize= 20)\n",
    "plt.ylabel('Etiqueta verdadera', fontsize = 15)\n",
    "plt.xlabel('Etiquieta predicha', fontsize= 15)\n",
    "for(i,j), z in np.ndenumerate(cm):\n",
    "  ax.text(j, i, '{:0.1f}'.format(z), ha='center', va='center')\n"
   ]
  },
  {
   "cell_type": "code",
   "execution_count": 36,
   "id": "1f1c3f4a",
   "metadata": {},
   "outputs": [
    {
     "name": "stdout",
     "output_type": "stream",
     "text": [
      "Number of rows in the total set: 3798\n",
      "Number of rows in the training set: 2848\n",
      "Number of rows in the test set: 950\n",
      "Aciertos: 583\n",
      "Exactitud:  0.6136842105263158\n",
      "Precision  0.6422307627964289\n",
      "Sensibilidad:  0.6136842105263158\n",
      "F1 score:  0.5721215537672834\n",
      "Matriz de confusion:\n"
     ]
    },
    {
     "data": {
      "image/png": "[encoded data removed]",
      "text/plain": [
       "<Figure size 720x360 with 1 Axes>"
      ]
     },
     "metadata": {
      "needs_background": "light"
     },
     "output_type": "display_data"
    }
   ],
   "source": [
    "# Dividir los datos en conjunto de entrenamiento y de test\n",
    "x_train, x_test, y_train, y_test = train_test_split(fin_data['Lemma'], fin_data['SentimientoTextBlob'], random_state=1)\n",
    "print('Number of rows in the total set: {}'.format(df.shape[0]))\n",
    "print('Number of rows in the training set: {}'.format(x_train.shape[0]))\n",
    "print('Number of rows in the test set: {}'.format(x_test.shape[0]))\n",
    "\n",
    "training_data = count_vector.fit_transform(x_train)\n",
    "testing_data = count_vector.transform(x_test)\n",
    "\n",
    "naive_bayes = MultinomialNB()\n",
    "naive_bayes.fit(training_data, y_train)\n",
    "\n",
    "predictions = naive_bayes.predict(testing_data)\n",
    "\n",
    "#Numero de aciertos\n",
    "h=0\n",
    "aciertos= 0\n",
    "while h < len(predictions):\n",
    "  if predictions[h] == y_test.iloc[h]:\n",
    "    aciertos= aciertos + 1\n",
    "  h=h+1\n",
    "print(\"Aciertos:\",aciertos)\n",
    "\n",
    "#Eficencia del modelo\n",
    "from sklearn.metrics import accuracy_score, precision_score, recall_score, f1_score, confusion_matrix\n",
    "print('Exactitud: ', format(accuracy_score(y_test, predictions)))\n",
    "print('Precision ', format(precision_score(y_test, predictions, average='weighted')))\n",
    "print('Sensibilidad: ', format(recall_score(y_test, predictions, average='weighted')))\n",
    "print('F1 score: ', format(f1_score(y_test, predictions, average='weighted')))\n",
    "print('Matriz de confusion:')\n",
    "cm= confusion_matrix(y_test, predictions)\n",
    "fig, ax= plt.subplots(figsize=(10,5))\n",
    "ax.matshow(cm)\n",
    "plt.title('Matriz de Confusión(TextBlob)', fontsize= 20)\n",
    "plt.ylabel('Etiqueta verdadera', fontsize = 15)\n",
    "plt.xlabel('Etiquieta predicha', fontsize= 15)\n",
    "for(i,j), z in np.ndenumerate(cm):\n",
    "  ax.text(j, i, '{:0.1f}'.format(z), ha='center', va='center')\n"
   ]
  },
  {
   "cell_type": "code",
   "execution_count": 37,
   "id": "b67dd052",
   "metadata": {},
   "outputs": [
    {
     "name": "stdout",
     "output_type": "stream",
     "text": [
      "Number of rows in the total set: 3798\n",
      "Number of rows in the training set: 2848\n",
      "Number of rows in the test set: 950\n",
      "Aciertos: 613\n",
      "Exactitud:  0.6452631578947369\n",
      "Precision  0.6643108443635022\n",
      "Sensibilidad:  0.6452631578947369\n",
      "F1 score:  0.6130758977631776\n",
      "Matriz de confusion:\n"
     ]
    },
    {
     "data": {
      "image/png": "[encoded data removed]",
      "text/plain": [
       "<Figure size 720x360 with 1 Axes>"
      ]
     },
     "metadata": {
      "needs_background": "light"
     },
     "output_type": "display_data"
    }
   ],
   "source": [
    "# Dividir los datos en conjunto de entrenamiento y de test\n",
    "x_train, x_test, y_train, y_test = train_test_split(fin_data['Lemma'], fin_data['SentimientoVader'], random_state=1)\n",
    "print('Number of rows in the total set: {}'.format(df.shape[0]))\n",
    "print('Number of rows in the training set: {}'.format(x_train.shape[0]))\n",
    "print('Number of rows in the test set: {}'.format(x_test.shape[0]))\n",
    "\n",
    "training_data = count_vector.fit_transform(x_train)\n",
    "testing_data = count_vector.transform(x_test)\n",
    "\n",
    "naive_bayes = MultinomialNB()\n",
    "naive_bayes.fit(training_data, y_train)\n",
    "\n",
    "predictions = naive_bayes.predict(testing_data)\n",
    "\n",
    "#Numero de aciertos\n",
    "h=0\n",
    "aciertos= 0\n",
    "while h < len(predictions):\n",
    "  if predictions[h] == y_test.iloc[h]:\n",
    "    aciertos= aciertos + 1\n",
    "  h=h+1\n",
    "print(\"Aciertos:\",aciertos)\n",
    "\n",
    "#Eficencia del modelo\n",
    "from sklearn.metrics import accuracy_score, precision_score, recall_score, f1_score, confusion_matrix\n",
    "print('Exactitud: ', format(accuracy_score(y_test, predictions)))\n",
    "print('Precision ', format(precision_score(y_test, predictions, average='weighted')))\n",
    "print('Sensibilidad: ', format(recall_score(y_test, predictions, average='weighted')))\n",
    "print('F1 score: ', format(f1_score(y_test, predictions, average='weighted')))\n",
    "print('Matriz de confusion:')\n",
    "cm= confusion_matrix(y_test, predictions)\n",
    "fig, ax= plt.subplots(figsize=(10,5))\n",
    "ax.matshow(cm)\n",
    "plt.title('Matriz de Confusión(Vader)', fontsize= 20)\n",
    "plt.ylabel('Etiqueta verdadera', fontsize = 15)\n",
    "plt.xlabel('Etiquieta predicha', fontsize= 15)\n",
    "for(i,j), z in np.ndenumerate(cm):\n",
    "  ax.text(j, i, '{:0.1f}'.format(z), ha='center', va='center')\n"
   ]
  },
  {
   "cell_type": "code",
   "execution_count": 38,
   "id": "fffcae41",
   "metadata": {},
   "outputs": [
    {
     "name": "stdout",
     "output_type": "stream",
     "text": [
      "Number of rows in the total set: 3798\n",
      "Number of rows in the training set: 2848\n",
      "Number of rows in the test set: 950\n",
      "Aciertos: 586\n",
      "Exactitud:  0.6168421052631579\n",
      "Precision  0.6122507538854665\n",
      "Sensibilidad:  0.6168421052631579\n",
      "F1 score:  0.5664731414686801\n",
      "Matriz de confusion:\n"
     ]
    },
    {
     "data": {
      "image/png": "[encoded data removed]",
      "text/plain": [
       "<Figure size 720x360 with 1 Axes>"
      ]
     },
     "metadata": {
      "needs_background": "light"
     },
     "output_type": "display_data"
    }
   ],
   "source": [
    "# Dividir los datos en conjunto de entrenamiento y de test\n",
    "x_train, x_test, y_train, y_test = train_test_split(fin_data['Lemma'], fin_data['SentimientoSWN'], random_state=1)\n",
    "print('Number of rows in the total set: {}'.format(df.shape[0]))\n",
    "print('Number of rows in the training set: {}'.format(x_train.shape[0]))\n",
    "print('Number of rows in the test set: {}'.format(x_test.shape[0]))\n",
    "\n",
    "training_data = count_vector.fit_transform(x_train)\n",
    "testing_data = count_vector.transform(x_test)\n",
    "\n",
    "naive_bayes = MultinomialNB()\n",
    "naive_bayes.fit(training_data, y_train)\n",
    "\n",
    "predictions = naive_bayes.predict(testing_data)\n",
    "\n",
    "#Numero de aciertos\n",
    "h=0\n",
    "aciertos= 0\n",
    "while h < len(predictions):\n",
    "  if predictions[h] == y_test.iloc[h]:\n",
    "    aciertos= aciertos + 1\n",
    "  h=h+1\n",
    "print(\"Aciertos:\",aciertos)\n",
    "\n",
    "#Eficencia del modelo\n",
    "from sklearn.metrics import accuracy_score, precision_score, recall_score, f1_score, confusion_matrix\n",
    "print('Exactitud: ', format(accuracy_score(y_test, predictions)))\n",
    "print('Precision ', format(precision_score(y_test, predictions, average='weighted')))\n",
    "print('Sensibilidad: ', format(recall_score(y_test, predictions, average='weighted')))\n",
    "print('F1 score: ', format(f1_score(y_test, predictions, average='weighted')))\n",
    "print('Matriz de confusion:')\n",
    "cm= confusion_matrix(y_test, predictions)\n",
    "fig, ax= plt.subplots(figsize=(10,5))\n",
    "ax.matshow(cm)\n",
    "plt.title('Matriz de Confusión(SWN)', fontsize= 20)\n",
    "plt.ylabel('Etiqueta verdadera', fontsize = 15)\n",
    "plt.xlabel('Etiquieta predicha', fontsize= 15)\n",
    "for(i,j), z in np.ndenumerate(cm):\n",
    "  ax.text(j, i, '{:0.1f}'.format(z), ha='center', va='center')\n"
   ]
  },
  {
   "cell_type": "code",
   "execution_count": 46,
   "id": "305562f2",
   "metadata": {},
   "outputs": [
    {
     "data": {
      "text/plain": [
       "SVC(decision_function_shape='ovo', kernel='linear')"
      ]
     },
     "execution_count": 46,
     "metadata": {},
     "output_type": "execute_result"
    }
   ],
   "source": [
    "#UTILIZANDO MAQUINA DE VECTORES DE SOPORTE"
   ]
  },
  {
   "cell_type": "code",
   "execution_count": 39,
   "id": "85a964f2",
   "metadata": {},
   "outputs": [
    {
     "name": "stdout",
     "output_type": "stream",
     "text": [
      "Number of rows in the total set: 3798\n",
      "Number of rows in the training set: 2848\n",
      "Number of rows in the test set: 950\n",
      "Aciertos: 647\n",
      "Exatitud:  0.6810526315789474\n",
      "Precision:  0.7106844998810845\n",
      "Sensibilidad:  0.6810526315789474\n",
      "F1 score:  0.6900617756834218\n"
     ]
    },
    {
     "data": {
      "image/png": "[encoded data removed]",
      "text/plain": [
       "<Figure size 720x360 with 1 Axes>"
      ]
     },
     "metadata": {
      "needs_background": "light"
     },
     "output_type": "display_data"
    }
   ],
   "source": [
    "# Dividir los datos en conjunto de entrenamiento y de test\n",
    "x_train, x_test, y_train, y_test = train_test_split(fin_data['Lemma'], fin_data['Sentimiento'], random_state=1)\n",
    "print('Number of rows in the total set: {}'.format(df.shape[0]))\n",
    "print('Number of rows in the training set: {}'.format(x_train.shape[0]))\n",
    "print('Number of rows in the test set: {}'.format(x_test.shape[0]))\n",
    "\n",
    "training_data = count_vector.fit_transform(x_train)\n",
    "testing_data = count_vector.transform(x_test)\n",
    "\n",
    "\n",
    "#Utilizando Maquina de vectores de soporte\n",
    "clf = SVC(decision_function_shape='ovo', kernel='linear')\n",
    "clf.fit(training_data, y_train)\n",
    "\n",
    "y_pred = clf.predict(testing_data)\n",
    "\n",
    "#Numero de aciertos\n",
    "h=0\n",
    "aciertos= 0\n",
    "while h < len(y_pred):\n",
    "  if y_pred[h] == y_test.iloc[h]:\n",
    "    aciertos= aciertos + 1\n",
    "  h=h+1\n",
    "print(\"Aciertos:\",aciertos)\n",
    "\n",
    "#Eficencia del modelo\n",
    "from sklearn.metrics import accuracy_score, precision_score, recall_score, f1_score, confusion_matrix\n",
    "print('Exatitud: ', format(accuracy_score(y_test, y_pred)))\n",
    "print('Precision: ', format(precision_score(y_test, y_pred, average='weighted')))\n",
    "print('Sensibilidad: ', format(recall_score(y_test, y_pred, average='weighted')))\n",
    "print('F1 score: ', format(f1_score(y_test, y_pred, average='weighted')))\n",
    "cm= confusion_matrix(y_test, y_pred)\n",
    "fig, ax= plt.subplots(figsize=(10,5))\n",
    "ax.matshow(cm)\n",
    "plt.title('Matriz de Confusión(Original)', fontsize= 20)\n",
    "plt.ylabel('Etiqueta verdadera', fontsize = 15)\n",
    "plt.xlabel('Etiquieta predicha', fontsize= 15)\n",
    "for(i,j), z in np.ndenumerate(cm):\n",
    "  ax.text(j, i, '{:0.1f}'.format(z), ha='center', va='center')"
   ]
  },
  {
   "cell_type": "code",
   "execution_count": 40,
   "id": "ec37cc27",
   "metadata": {},
   "outputs": [
    {
     "name": "stdout",
     "output_type": "stream",
     "text": [
      "Number of rows in the total set: 3798\n",
      "Number of rows in the training set: 2848\n",
      "Number of rows in the test set: 950\n",
      "Aciertos: 707\n",
      "Exatitud:  0.7442105263157894\n",
      "Precision:  0.7514755049043415\n",
      "Sensibilidad:  0.7442105263157894\n",
      "F1 score:  0.7442758691998774\n"
     ]
    },
    {
     "data": {
      "image/png": "[encoded data removed]",
      "text/plain": [
       "<Figure size 720x360 with 1 Axes>"
      ]
     },
     "metadata": {
      "needs_background": "light"
     },
     "output_type": "display_data"
    }
   ],
   "source": [
    "# Dividir los datos en conjunto de entrenamiento y de test\n",
    "x_train, x_test, y_train, y_test = train_test_split(fin_data['Lemma'], fin_data['SentimientoTextBlob'], random_state=1)\n",
    "print('Number of rows in the total set: {}'.format(df.shape[0]))\n",
    "print('Number of rows in the training set: {}'.format(x_train.shape[0]))\n",
    "print('Number of rows in the test set: {}'.format(x_test.shape[0]))\n",
    "\n",
    "training_data = count_vector.fit_transform(x_train)\n",
    "testing_data = count_vector.transform(x_test)\n",
    "\n",
    "\n",
    "#Utilizando Maquina de vectores de soporte\n",
    "clf = SVC(decision_function_shape='ovo', kernel='linear')\n",
    "clf.fit(training_data, y_train)\n",
    "\n",
    "y_pred = clf.predict(testing_data)\n",
    "\n",
    "#Numero de aciertos\n",
    "h=0\n",
    "aciertos= 0\n",
    "while h < len(y_pred):\n",
    "  if y_pred[h] == y_test.iloc[h]:\n",
    "    aciertos= aciertos + 1\n",
    "  h=h+1\n",
    "print(\"Aciertos:\",aciertos)\n",
    "\n",
    "#Eficencia del modelo\n",
    "from sklearn.metrics import accuracy_score, precision_score, recall_score, f1_score, confusion_matrix\n",
    "print('Exatitud: ', format(accuracy_score(y_test, y_pred)))\n",
    "print('Precision: ', format(precision_score(y_test, y_pred, average='weighted')))\n",
    "print('Sensibilidad: ', format(recall_score(y_test, y_pred, average='weighted')))\n",
    "print('F1 score: ', format(f1_score(y_test, y_pred, average='weighted')))\n",
    "cm= confusion_matrix(y_test, y_pred)\n",
    "fig, ax= plt.subplots(figsize=(10,5))\n",
    "ax.matshow(cm)\n",
    "plt.title('Matriz de Confusión(TextBlob)', fontsize= 20)\n",
    "plt.ylabel('Etiqueta verdadera', fontsize = 15)\n",
    "plt.xlabel('Etiquieta predicha', fontsize= 15)\n",
    "for(i,j), z in np.ndenumerate(cm):\n",
    "  ax.text(j, i, '{:0.1f}'.format(z), ha='center', va='center')"
   ]
  },
  {
   "cell_type": "code",
   "execution_count": 41,
   "id": "9abee3e2",
   "metadata": {},
   "outputs": [
    {
     "name": "stdout",
     "output_type": "stream",
     "text": [
      "Number of rows in the total set: 3798\n",
      "Number of rows in the training set: 2848\n",
      "Number of rows in the test set: 950\n",
      "Aciertos: 672\n",
      "Exatitud:  0.7073684210526315\n",
      "Precision:  0.7252355711584071\n",
      "Sensibilidad:  0.7073684210526315\n",
      "F1 score:  0.7107740118426055\n"
     ]
    },
    {
     "data": {
      "image/png": "[encoded data removed]",
      "text/plain": [
       "<Figure size 720x360 with 1 Axes>"
      ]
     },
     "metadata": {
      "needs_background": "light"
     },
     "output_type": "display_data"
    }
   ],
   "source": [
    "# Dividir los datos en conjunto de entrenamiento y de test\n",
    "x_train, x_test, y_train, y_test = train_test_split(fin_data['Lemma'], fin_data['SentimientoVader'], random_state=1)\n",
    "print('Number of rows in the total set: {}'.format(df.shape[0]))\n",
    "print('Number of rows in the training set: {}'.format(x_train.shape[0]))\n",
    "print('Number of rows in the test set: {}'.format(x_test.shape[0]))\n",
    "\n",
    "training_data = count_vector.fit_transform(x_train)\n",
    "testing_data = count_vector.transform(x_test)\n",
    "\n",
    "\n",
    "#Utilizando Maquina de vectores de soporte\n",
    "clf = SVC(decision_function_shape='ovo', kernel='linear')\n",
    "clf.fit(training_data, y_train)\n",
    "\n",
    "y_pred = clf.predict(testing_data)\n",
    "\n",
    "#Numero de aciertos\n",
    "h=0\n",
    "aciertos= 0\n",
    "while h < len(y_pred):\n",
    "  if y_pred[h] == y_test.iloc[h]:\n",
    "    aciertos= aciertos + 1\n",
    "  h=h+1\n",
    "print(\"Aciertos:\",aciertos)\n",
    "\n",
    "#Eficencia del modelo\n",
    "from sklearn.metrics import accuracy_score, precision_score, recall_score, f1_score, confusion_matrix\n",
    "print('Exatitud: ', format(accuracy_score(y_test, y_pred)))\n",
    "print('Precision: ', format(precision_score(y_test, y_pred, average='weighted')))\n",
    "print('Sensibilidad: ', format(recall_score(y_test, y_pred, average='weighted')))\n",
    "print('F1 score: ', format(f1_score(y_test, y_pred, average='weighted')))\n",
    "cm= confusion_matrix(y_test, y_pred)\n",
    "fig, ax= plt.subplots(figsize=(10,5))\n",
    "ax.matshow(cm)\n",
    "plt.title('Matriz de Confusión(Vader)', fontsize= 20)\n",
    "plt.ylabel('Etiqueta verdadera', fontsize = 15)\n",
    "plt.xlabel('Etiquieta predicha', fontsize= 15)\n",
    "for(i,j), z in np.ndenumerate(cm):\n",
    "  ax.text(j, i, '{:0.1f}'.format(z), ha='center', va='center')"
   ]
  },
  {
   "cell_type": "code",
   "execution_count": 42,
   "id": "ba96d39d",
   "metadata": {},
   "outputs": [
    {
     "name": "stdout",
     "output_type": "stream",
     "text": [
      "Number of rows in the total set: 3798\n",
      "Number of rows in the training set: 2848\n",
      "Number of rows in the test set: 950\n",
      "Aciertos: 604\n",
      "Exatitud:  0.6357894736842106\n",
      "Precision:  0.6551901091596375\n",
      "Sensibilidad:  0.6357894736842106\n",
      "F1 score:  0.6425371021230528\n"
     ]
    },
    {
     "data": {
      "image/png": "[encoded data removed]",
      "text/plain": [
       "<Figure size 720x360 with 1 Axes>"
      ]
     },
     "metadata": {
      "needs_background": "light"
     },
     "output_type": "display_data"
    }
   ],
   "source": [
    "# Dividir los datos en conjunto de entrenamiento y de test\n",
    "x_train, x_test, y_train, y_test = train_test_split(fin_data['Lemma'], fin_data['SentimientoSWN'], random_state=1)\n",
    "print('Number of rows in the total set: {}'.format(df.shape[0]))\n",
    "print('Number of rows in the training set: {}'.format(x_train.shape[0]))\n",
    "print('Number of rows in the test set: {}'.format(x_test.shape[0]))\n",
    "\n",
    "training_data = count_vector.fit_transform(x_train)\n",
    "testing_data = count_vector.transform(x_test)\n",
    "\n",
    "\n",
    "#Utilizando Maquina de vectores de soporte\n",
    "clf = SVC(decision_function_shape='ovo', kernel='linear')\n",
    "clf.fit(training_data, y_train)\n",
    "\n",
    "y_pred = clf.predict(testing_data)\n",
    "\n",
    "#Numero de aciertos\n",
    "h=0\n",
    "aciertos= 0\n",
    "while h < len(y_pred):\n",
    "  if y_pred[h] == y_test.iloc[h]:\n",
    "    aciertos= aciertos + 1\n",
    "  h=h+1\n",
    "print(\"Aciertos:\",aciertos)\n",
    "\n",
    "#Eficencia del modelo\n",
    "from sklearn.metrics import accuracy_score, precision_score, recall_score, f1_score, confusion_matrix\n",
    "print('Exatitud: ', format(accuracy_score(y_test, y_pred)))\n",
    "print('Precision: ', format(precision_score(y_test, y_pred, average='weighted')))\n",
    "print('Sensibilidad: ', format(recall_score(y_test, y_pred, average='weighted')))\n",
    "print('F1 score: ', format(f1_score(y_test, y_pred, average='weighted')))\n",
    "cm= confusion_matrix(y_test, y_pred)\n",
    "fig, ax= plt.subplots(figsize=(10,5))\n",
    "ax.matshow(cm)\n",
    "plt.title('Matriz de Confusión(SWN)', fontsize= 20)\n",
    "plt.ylabel('Etiqueta verdadera', fontsize = 15)\n",
    "plt.xlabel('Etiquieta predicha', fontsize= 15)\n",
    "for(i,j), z in np.ndenumerate(cm):\n",
    "  ax.text(j, i, '{:0.1f}'.format(z), ha='center', va='center')"
   ]
  },
  {
   "cell_type": "code",
   "execution_count": 49,
   "id": "408c9a82",
   "metadata": {},
   "outputs": [
    {
     "data": {
      "image/png": "[encoded data removed]",
      "text/plain": [
       "<Figure size 864x576 with 1 Axes>"
      ]
     },
     "metadata": {
      "needs_background": "light"
     },
     "output_type": "display_data"
    }
   ],
   "source": [
    "indices = ['Original', 'TextBlob', 'Vader', 'SWN']\n",
    "\n",
    "Exactitud = [0.3905, 0.5578, 0.3905, 0.4021]\n",
    "Precision= [0.4334, 0.6039, 0.4334 ,0.3989]\n",
    "F1= [0.3831, 0.5029, 0.3831, 0.3478]\n",
    "\n",
    "numero_de_grupos = len(Exactitud)\n",
    "indice_barras = np.arange(numero_de_grupos)\n",
    "\n",
    "plt.figure(figsize=(12, 8))\n",
    "plt.bar(indice_barras, Exactitud, 0.2, label=\"Exactitud\", color=\"navy\")\n",
    "plt.bar(indice_barras + 0.3, Precision, 0.2, label=\"Precisión\", color=\"c\")\n",
    "plt.bar(indice_barras + 0.6, F1, 0.2, label=\"F1 Score\", color=\"darkorange\")\n",
    "plt.xticks(indice_barras + 0.3, ('Original', 'TextBlob', 'Vader', 'SWN'))\n",
    "\n",
    "plt.legend(loc=\"best\")\n",
    "plt.subplots_adjust(left=0.25)\n",
    "plt.subplots_adjust(top=0.95)\n",
    "plt.subplots_adjust(bottom=0.05)\n",
    "\n",
    "plt.title('Métricas de desempeño (Naive-Bayes)')\n",
    "\n",
    "plt.show()"
   ]
  },
  {
   "cell_type": "code",
   "execution_count": 50,
   "id": "68674dbc",
   "metadata": {},
   "outputs": [
    {
     "data": {
      "image/png": "[encoded data removed]",
      "text/plain": [
       "<Figure size 864x576 with 1 Axes>"
      ]
     },
     "metadata": {
      "needs_background": "light"
     },
     "output_type": "display_data"
    }
   ],
   "source": [
    "indices = ['Original', 'TextBlob', 'Vader', 'SWN']\n",
    "\n",
    "Exactitud = [0.4621, 0.6915, 0.4484, 0.4231]\n",
    "Precision= [0.4813,0.6955, 0.4664, 0.4540]\n",
    "F1= [0.4608, 0.6865, 0.4483, 0.4309]\n",
    "\n",
    "numero_de_grupos = len(Exactitud)\n",
    "indice_barras = np.arange(numero_de_grupos)\n",
    "\n",
    "plt.figure(figsize=(12, 8))\n",
    "plt.bar(indice_barras, Exactitud, 0.2, label=\"Exactitud\", color=\"navy\")\n",
    "plt.bar(indice_barras + 0.3, Precision, 0.2, label=\"Precisión\", color=\"c\")\n",
    "plt.bar(indice_barras + 0.6, F1, 0.2, label=\"F1 Score\", color=\"darkorange\")\n",
    "plt.xticks(indice_barras + 0.3, ('Original', 'TextBlob', 'Vader', 'SWN'))\n",
    "\n",
    "plt.legend(loc=\"best\")\n",
    "plt.subplots_adjust(left=0.25)\n",
    "plt.subplots_adjust(top=0.95)\n",
    "plt.subplots_adjust(bottom=0.05)\n",
    "\n",
    "plt.title('Métricas de desempeño (SVM)')\n",
    "\n",
    "plt.show()"
   ]
  },
  {
   "cell_type": "code",
   "execution_count": 51,
   "id": "0f235fb3",
   "metadata": {},
   "outputs": [
    {
     "data": {
      "image/png": "[encoded data removed]",
      "text/plain": [
       "<Figure size 864x576 with 1 Axes>"
      ]
     },
     "metadata": {
      "needs_background": "light"
     },
     "output_type": "display_data"
    }
   ],
   "source": [
    "indices = ['Original', 'TextBlob', 'Vader', 'SWN']\n",
    "\n",
    "Exactitud = [0.6631,0.6136, 0.6452, 0.6168]\n",
    "Precision= [0.6604,0.6422, 0.6643, 0.6122]\n",
    "F1= [0.6271, 0.5721, 0.6130, 0.5664]\n",
    "\n",
    "numero_de_grupos = len(Exactitud)\n",
    "indice_barras = np.arange(numero_de_grupos)\n",
    "\n",
    "plt.figure(figsize=(12, 8))\n",
    "plt.bar(indice_barras, Exactitud, 0.2, label=\"Exactitud\", color=\"navy\")\n",
    "plt.bar(indice_barras + 0.3, Precision, 0.2, label=\"Precisión\", color=\"c\")\n",
    "plt.bar(indice_barras + 0.6, F1, 0.2, label=\"F1 Score\", color=\"darkorange\")\n",
    "plt.xticks(indice_barras + 0.3, ('Original', 'TextBlob', 'Vader', 'SWN'))\n",
    "\n",
    "plt.legend(loc=\"best\")\n",
    "plt.subplots_adjust(left=0.25)\n",
    "plt.subplots_adjust(top=0.95)\n",
    "plt.subplots_adjust(bottom=0.05)\n",
    "\n",
    "plt.title('Métricas de desempeño (Naive-Bayes 3 Clases)')\n",
    "\n",
    "plt.show()"
   ]
  },
  {
   "cell_type": "code",
   "execution_count": 52,
   "id": "82f0ab77",
   "metadata": {},
   "outputs": [
    {
     "data": {
      "image/png": "[encoded data removed]",
      "text/plain": [
       "<Figure size 864x576 with 1 Axes>"
      ]
     },
     "metadata": {
      "needs_background": "light"
     },
     "output_type": "display_data"
    }
   ],
   "source": [
    "indices = ['Original', 'TextBlob', 'Vader', 'SWN']\n",
    "\n",
    "Exactitud = [0.6810, 0.7442, 0.7073,0.6357]\n",
    "Precision= [0.7106, 0.7514, 0.7252, 0.6551]\n",
    "F1= [0.69, 0.7442, 0.7107, 0.6425]\n",
    "\n",
    "numero_de_grupos = len(Exactitud)\n",
    "indice_barras = np.arange(numero_de_grupos)\n",
    "\n",
    "plt.figure(figsize=(12, 8))\n",
    "plt.bar(indice_barras, Exactitud, 0.2, label=\"Exactitud\", color=\"navy\")\n",
    "plt.bar(indice_barras + 0.3, Precision, 0.2, label=\"Precisión\", color=\"c\")\n",
    "plt.bar(indice_barras + 0.6, F1, 0.2, label=\"F1 Score\", color=\"darkorange\")\n",
    "plt.xticks(indice_barras + 0.3, ('Original', 'TextBlob', 'Vader', 'SWN'))\n",
    "\n",
    "plt.legend(loc=\"best\")\n",
    "plt.subplots_adjust(left=0.25)\n",
    "plt.subplots_adjust(top=0.95)\n",
    "plt.subplots_adjust(bottom=0.05)\n",
    "\n",
    "plt.title('Métricas de desempeño (SVM 3 Clases)')\n",
    "\n",
    "plt.show()"
   ]
  },
  {
   "cell_type": "code",
   "execution_count": null,
   "id": "be1968b4",
   "metadata": {},
   "outputs": [],
   "source": []
  }
 ],
 "metadata": {
  "kernelspec": {
   "display_name": "Python 3 (ipykernel)",
   "language": "python",
   "name": "python3"
  },
  "language_info": {
   "codemirror_mode": {
    "name": "ipython",
    "version": 3
   },
   "file_extension": ".py",
   "mimetype": "text/x-python",
   "name": "python",
   "nbconvert_exporter": "python",
   "pygments_lexer": "ipython3",
   "version": "3.9.7"
  }
 },
 "nbformat": 4,
 "nbformat_minor": 5
}
