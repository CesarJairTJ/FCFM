{
  "cells": [
    {
      "cell_type": "code",
      "execution_count": 1,
      "metadata": {
        "id": "f2655314"
      },
      "outputs": [],
      "source": [
        "#Librerias\n",
        "import pandas as pd\n",
        "from keras.models import Sequential\n",
        "from keras.layers import Dense, Dropout, Conv2D, MaxPool2D, Flatten, BatchNormalization, Activation, MaxPooling2D, ZeroPadding2D\n",
        "from keras.utils import np_utils\n",
        "from keras.callbacks import EarlyStopping\n",
        "import numpy as np\n",
        "import os\n",
        "import cv2\n",
        "from skimage import io, color\n",
        "from skimage.color import rgb2gray\n",
        "import math\n",
        "import random\n",
        "import matplotlib.pyplot as plt\n",
        "import matplotlib.image as mpimg\n",
        "from sklearn.metrics import confusion_matrix, f1_score, roc_curve, precision_score, recall_score, accuracy_score, roc_auc_score\n",
        "from sklearn import metrics\n",
        "from tensorflow.keras.models import load_model\n",
        "from PIL import Image, ImageFilter\n",
        "from tensorflow.keras.callbacks import  ReduceLROnPlateau\n",
        "from tensorflow.keras.regularizers import l2\n",
        "\n",
        "from sklearn.preprocessing import LabelEncoder\n",
        "from sklearn.model_selection import train_test_split\n",
        "from sklearn.metrics import classification_report"
      ],
      "id": "f2655314"
    },
    {
      "cell_type": "code",
      "execution_count": 2,
      "metadata": {
        "colab": {
          "base_uri": "https://localhost:8080/"
        },
        "id": "Wnkgg37jab3G",
        "outputId": "f4a113a7-e69a-431b-f710-27825a62e0fa"
      },
      "outputs": [
        {
          "output_type": "stream",
          "name": "stdout",
          "text": [
            "Mounted at /content/drive\n"
          ]
        }
      ],
      "source": [
        "from google.colab import drive\n",
        "drive.mount('/content/drive')"
      ],
      "id": "Wnkgg37jab3G"
    },
    {
      "cell_type": "code",
      "execution_count": 3,
      "metadata": {
        "colab": {
          "base_uri": "https://localhost:8080/"
        },
        "id": "90b1950c",
        "outputId": "ee24cc8f-ba55-401f-d28b-0c998500e633"
      },
      "outputs": [
        {
          "output_type": "execute_result",
          "data": {
            "text/plain": [
              "1126"
            ]
          },
          "metadata": {},
          "execution_count": 3
        }
      ],
      "source": [
        "ubicacion= '/content/drive/MyDrive/Colab Notebooks/Procesamiento_y_Clasificacion_de_Datos/Tarea_6/hand_sing_dataset/Train/A'\n",
        "contenido1 = os.listdir(ubicacion)\n",
        "len(contenido1)"
      ],
      "id": "90b1950c"
    },
    {
      "cell_type": "code",
      "execution_count": 4,
      "metadata": {
        "id": "ee3aaba0"
      },
      "outputs": [],
      "source": [
        "file_path2= ubicacion + \"/\" + contenido1[0]\n",
        "img_gs = cv2.imread(file_path2)"
      ],
      "id": "ee3aaba0"
    },
    {
      "cell_type": "code",
      "execution_count": 5,
      "metadata": {
        "colab": {
          "base_uri": "https://localhost:8080/",
          "height": 35
        },
        "id": "34eedb17",
        "outputId": "b3cd02ce-8de2-421c-990f-d12f952fc26d"
      },
      "outputs": [
        {
          "output_type": "execute_result",
          "data": {
            "text/plain": [
              "'12610_A.jpg'"
            ],
            "application/vnd.google.colaboratory.intrinsic+json": {
              "type": "string"
            }
          },
          "metadata": {},
          "execution_count": 5
        }
      ],
      "source": [
        "contenido1[1]"
      ],
      "id": "34eedb17"
    },
    {
      "cell_type": "code",
      "execution_count": 6,
      "metadata": {
        "colab": {
          "base_uri": "https://localhost:8080/",
          "height": 265
        },
        "id": "389ffabe",
        "outputId": "de95d9eb-e076-4fdf-e61c-bc501154d73c"
      },
      "outputs": [
        {
          "output_type": "display_data",
          "data": {
            "text/plain": [
              "<Figure size 432x288 with 1 Axes>"
            ],
            "image/png": "[encoded data removed]"
          },
          "metadata": {
            "needs_background": "light"
          }
        }
      ],
      "source": [
        "with Image.open(file_path2) as img:\n",
        "    img.load()\n",
        "\n",
        "type(img)\n",
        "    \n",
        "isinstance(img, Image.Image)\n",
        "\n",
        "img= np.array(img)\n",
        "imgplot = plt.imshow(img)\n",
        "plt.show()"
      ],
      "id": "389ffabe"
    },
    {
      "cell_type": "code",
      "execution_count": 7,
      "metadata": {
        "id": "b94a912b"
      },
      "outputs": [],
      "source": [
        "# imgplot = plt.imshow(edge_enhance)\n",
        "# plt.show()"
      ],
      "id": "b94a912b"
    },
    {
      "cell_type": "code",
      "execution_count": 8,
      "metadata": {
        "id": "9d61f7a7"
      },
      "outputs": [],
      "source": [
        "def preproceso(ubicacion):\n",
        "    imagenes=[]\n",
        "    letra= []\n",
        "    contenido1 = os.listdir(ubicacion)\n",
        "    for i in range(len(contenido1)):\n",
        "        file_path1= ubicacion + \"/\" + contenido1[i]\n",
        "        contenido2 = os.listdir(file_path1)\n",
        "        for j in range(len(contenido2)):\n",
        "            file_path2= file_path1 + \"/\" + contenido2[j]\n",
        "            with Image.open(file_path2) as img:\n",
        "                img.load()\n",
        "            type(img)\n",
        "            isinstance(img, Image.Image)\n",
        "            img_gray = img.convert(\"L\")\n",
        "            edges = img_gray.filter(ImageFilter.FIND_EDGES)\n",
        "            sharp_img = img_gray.filter(ImageFilter.SHARPEN)\n",
        "            img_gray_smooth = sharp_img.filter(ImageFilter.SMOOTH)\n",
        "            edge_enhance = img_gray_smooth.filter(ImageFilter.EDGE_ENHANCE)\n",
        "            img_gs= np.array(edge_enhance)\n",
        "            imagenes.append(img_gs)\n",
        "            letra.append(contenido1[i])\n",
        "    return imagenes, letra"
      ],
      "id": "9d61f7a7"
    },
    {
      "cell_type": "code",
      "execution_count": 9,
      "metadata": {
        "id": "2081d0bc"
      },
      "outputs": [],
      "source": [
        "ubicacion1= '/content/drive/MyDrive/Colab Notebooks/Procesamiento_y_Clasificacion_de_Datos/Tarea_6/hand_sing_dataset/Train'\n",
        "ubicacion2= '/content/drive/MyDrive/Colab Notebooks/Procesamiento_y_Clasificacion_de_Datos/Tarea_6/hand_sing_dataset/Test'\n",
        "\n",
        "Datos= preproceso(ubicacion1)\n",
        "DatosT= preproceso(ubicacion2)"
      ],
      "id": "2081d0bc"
    },
    {
      "cell_type": "code",
      "execution_count": 10,
      "metadata": {
        "colab": {
          "base_uri": "https://localhost:8080/",
          "height": 265
        },
        "id": "16de0610",
        "outputId": "5178977e-502d-49ac-ad99-7bcca02faa8e"
      },
      "outputs": [
        {
          "output_type": "display_data",
          "data": {
            "text/plain": [
              "<Figure size 432x288 with 1 Axes>"
            ],
            "image/png": "[encoded data removed]"
          },
          "metadata": {
            "needs_background": "light"
          }
        }
      ],
      "source": [
        "imgplot = plt.imshow(Datos[0][0])\n",
        "plt.show()"
      ],
      "id": "16de0610"
    },
    {
      "cell_type": "code",
      "execution_count": 11,
      "metadata": {
        "colab": {
          "base_uri": "https://localhost:8080/",
          "height": 35
        },
        "id": "e8e8511d",
        "outputId": "e2f94123-c71a-4b79-faef-3e4f5c15b33c"
      },
      "outputs": [
        {
          "output_type": "execute_result",
          "data": {
            "text/plain": [
              "'C'"
            ],
            "application/vnd.google.colaboratory.intrinsic+json": {
              "type": "string"
            }
          },
          "metadata": {},
          "execution_count": 11
        }
      ],
      "source": [
        "Datos[1][3000]"
      ],
      "id": "e8e8511d"
    },
    {
      "cell_type": "code",
      "execution_count": 12,
      "metadata": {
        "id": "d78accb1"
      },
      "outputs": [],
      "source": [
        "#Datos de entreamiento\n",
        "x= np.array(Datos[0])\n",
        "Yy_train= Datos[1]\n",
        "y=[]\n",
        "for i in range(len(Yy_train)):\n",
        "    if Yy_train[i]=='A':\n",
        "        y.append([0])\n",
        "    elif Yy_train[i]=='B':\n",
        "        y.append([1])\n",
        "    elif Yy_train[i]=='C':\n",
        "        y.append([2])\n",
        "    elif Yy_train[i]=='D':\n",
        "        y.append([3])\n",
        "    elif Yy_train[i]=='E':\n",
        "        y.append([4])\n",
        "    elif Yy_train[i]=='F':\n",
        "        y.append([5])\n",
        "    elif Yy_train[i]=='G':\n",
        "        y.append([6])\n",
        "    elif Yy_train[i]=='H':\n",
        "        y.append([7])\n",
        "    elif Yy_train[i]=='I':\n",
        "        y.append([8])\n",
        "    elif Yy_train[i]=='K':\n",
        "        y.append([9])\n",
        "    elif Yy_train[i]=='L':\n",
        "        y.append([10])\n",
        "    elif Yy_train[i]=='M':\n",
        "        y.append([11])\n",
        "    elif Yy_train[i]=='N':\n",
        "        y.append([12])\n",
        "    elif Yy_train[i]=='O':\n",
        "        y.append([13])\n",
        "    elif Yy_train[i]=='P':\n",
        "        y.append([14])\n",
        "    elif Yy_train[i]=='Q':\n",
        "        y.append([15])\n",
        "    elif Yy_train[i]=='R':\n",
        "        y.append([16])\n",
        "    elif Yy_train[i]=='S':\n",
        "        y.append([17])\n",
        "    elif Yy_train[i]=='T':\n",
        "        y.append([18])\n",
        "    elif Yy_train[i]=='U':\n",
        "        y.append([19])\n",
        "    elif Yy_train[i]=='V':\n",
        "        y.append([20])\n",
        "    elif Yy_train[i]=='W':\n",
        "        y.append([21])\n",
        "    elif Yy_train[i]=='X':\n",
        "        y.append([22])\n",
        "    else:\n",
        "        y.append([23])\n",
        "\n",
        "y_train= y"
      ],
      "id": "d78accb1"
    },
    {
      "cell_type": "code",
      "execution_count": 13,
      "metadata": {
        "id": "6910cdbd"
      },
      "outputs": [],
      "source": [
        "#Datos de testeo\n",
        "x_test= np.array(DatosT[0])\n",
        "Yy_train= DatosT[1]\n",
        "y=[]\n",
        "for i in range(len(Yy_train)):\n",
        "    if Yy_train[i]=='A':\n",
        "        y.append([0])\n",
        "    elif Yy_train[i]=='B':\n",
        "        y.append([1])\n",
        "    elif Yy_train[i]=='C':\n",
        "        y.append([2])\n",
        "    elif Yy_train[i]=='D':\n",
        "        y.append([3])\n",
        "    elif Yy_train[i]=='E':\n",
        "        y.append([4])\n",
        "    elif Yy_train[i]=='F':\n",
        "        y.append([5])\n",
        "    elif Yy_train[i]=='G':\n",
        "        y.append([6])\n",
        "    elif Yy_train[i]=='H':\n",
        "        y.append([7])\n",
        "    elif Yy_train[i]=='I':\n",
        "        y.append([8])\n",
        "    elif Yy_train[i]=='K':\n",
        "        y.append([9])\n",
        "    elif Yy_train[i]=='L':\n",
        "        y.append([10])\n",
        "    elif Yy_train[i]=='M':\n",
        "        y.append([11])\n",
        "    elif Yy_train[i]=='N':\n",
        "        y.append([12])\n",
        "    elif Yy_train[i]=='O':\n",
        "        y.append([13])\n",
        "    elif Yy_train[i]=='P':\n",
        "        y.append([14])\n",
        "    elif Yy_train[i]=='Q':\n",
        "        y.append([15])\n",
        "    elif Yy_train[i]=='R':\n",
        "        y.append([16])\n",
        "    elif Yy_train[i]=='S':\n",
        "        y.append([17])\n",
        "    elif Yy_train[i]=='T':\n",
        "        y.append([18])\n",
        "    elif Yy_train[i]=='U':\n",
        "        y.append([19])\n",
        "    elif Yy_train[i]=='V':\n",
        "        y.append([20])\n",
        "    elif Yy_train[i]=='W':\n",
        "        y.append([21])\n",
        "    elif Yy_train[i]=='X':\n",
        "        y.append([22])\n",
        "    else:\n",
        "        y.append([23])\n",
        "\n",
        "y_test = y"
      ],
      "id": "6910cdbd"
    },
    {
      "cell_type": "code",
      "execution_count": 14,
      "metadata": {
        "colab": {
          "base_uri": "https://localhost:8080/"
        },
        "id": "1c3d6a9d",
        "outputId": "a795cd02-d294-4fb0-9d25-0083c88c1c71"
      },
      "outputs": [
        {
          "output_type": "execute_result",
          "data": {
            "text/plain": [
              "(19123, 28, 28)"
            ]
          },
          "metadata": {},
          "execution_count": 14
        }
      ],
      "source": [
        "x.shape"
      ],
      "id": "1c3d6a9d"
    },
    {
      "cell_type": "code",
      "execution_count": 15,
      "metadata": {
        "id": "1f8b5874"
      },
      "outputs": [],
      "source": [
        "#Cuando se trabaja en blanco y negro\n",
        "# Flattening the images from the 28x28x1 pixels to 1D 784 pixels\n",
        "X_train = x.reshape(x.shape[0], 784)\n",
        "X_test = x_test.reshape(x_test.shape[0], 784)\n",
        "X_train = x.astype('float32')\n",
        "X_test = x_test.astype('float32')\n",
        "# normalizing the data to help with the training\n",
        "X_train /= 255\n",
        "X_test /= 255"
      ],
      "id": "1f8b5874"
    },
    {
      "cell_type": "code",
      "execution_count": 16,
      "metadata": {
        "colab": {
          "base_uri": "https://localhost:8080/"
        },
        "id": "d33acfda",
        "outputId": "7b17b13c-61c3-49c4-8bce-3039466ee415"
      },
      "outputs": [
        {
          "output_type": "execute_result",
          "data": {
            "text/plain": [
              "(7172, 28, 28)"
            ]
          },
          "metadata": {},
          "execution_count": 16
        }
      ],
      "source": [
        "X_test.shape"
      ],
      "id": "d33acfda"
    },
    {
      "cell_type": "code",
      "execution_count": 17,
      "metadata": {
        "colab": {
          "base_uri": "https://localhost:8080/",
          "height": 282
        },
        "id": "cb1fcbca",
        "outputId": "d053c426-a68b-44c2-cdfe-631d140b09e6"
      },
      "outputs": [
        {
          "output_type": "stream",
          "name": "stdout",
          "text": [
            "[7]\n"
          ]
        },
        {
          "output_type": "display_data",
          "data": {
            "text/plain": [
              "<Figure size 432x288 with 1 Axes>"
            ],
            "image/png": "[encoded data removed]"
          },
          "metadata": {
            "needs_background": "light"
          }
        }
      ],
      "source": [
        "xs= 1\n",
        "print(y[xs])\n",
        "imgplot = plt.imshow(X_train[xs])\n",
        "plt.show()"
      ],
      "id": "cb1fcbca"
    },
    {
      "cell_type": "code",
      "execution_count": 18,
      "metadata": {
        "colab": {
          "base_uri": "https://localhost:8080/"
        },
        "id": "89fde177",
        "outputId": "7ca2c388-0b98-4afe-83f9-a825393eaa37"
      },
      "outputs": [
        {
          "output_type": "stream",
          "name": "stdout",
          "text": [
            "Shape before one-hot encoding:  (19123, 1)\n",
            "Shape after one-hot encoding:  (19123, 24)\n"
          ]
        }
      ],
      "source": [
        "# one-hot encoding using keras' numpy-related utilities\n",
        "y_train= np.array(y_train)\n",
        "y_test= np.array(y_test)\n",
        "n_classes = 24\n",
        "print(\"Shape before one-hot encoding: \", y_train.shape)\n",
        "Y_train = np_utils.to_categorical(y_train, n_classes)\n",
        "Y_test = np_utils.to_categorical(y_test, n_classes)\n",
        "print(\"Shape after one-hot encoding: \", Y_train.shape)"
      ],
      "id": "89fde177"
    },
    {
      "cell_type": "code",
      "execution_count": 19,
      "metadata": {
        "colab": {
          "base_uri": "https://localhost:8080/"
        },
        "id": "f84d2228",
        "outputId": "044582c3-b101-4b45-8c98-dfeb2a5ae6b2"
      },
      "outputs": [
        {
          "output_type": "execute_result",
          "data": {
            "text/plain": [
              "(7172, 24)"
            ]
          },
          "metadata": {},
          "execution_count": 19
        }
      ],
      "source": [
        "Y_test.shape"
      ],
      "id": "f84d2228"
    },
    {
      "cell_type": "code",
      "execution_count": null,
      "metadata": {
        "id": "1bb9e64f"
      },
      "outputs": [],
      "source": [
        "#Iniciamos el modelo"
      ],
      "id": "1bb9e64f"
    },
    {
      "cell_type": "code",
      "execution_count": null,
      "metadata": {
        "id": "1d5d6070"
      },
      "outputs": [],
      "source": [
        "# Configuración Tensorboard\n",
        "from tensorflow.keras.callbacks import TensorBoard\n",
        "import datetime, os\n",
        "\n",
        "%load_ext tensorboard\n",
        "\n",
        "logdir = os.path.join(\"logs\", datetime.datetime.now().strftime(\"%Y%m%d-%H%M%S\"))\n",
        "tensorboard_callback = TensorBoard(logdir, histogram_freq=1)"
      ],
      "id": "1d5d6070"
    },
    {
      "cell_type": "code",
      "execution_count": null,
      "metadata": {
        "id": "7f9efe9b"
      },
      "outputs": [],
      "source": [
        "#Start model Alexnet\n",
        "model = Sequential()\n",
        "model.add(Conv2D(16, (3, 3), input_shape=(28, 28,1),padding='same'))\n",
        "model.add(BatchNormalization())\n",
        "model.add(Activation('relu'))\n",
        "model.add(MaxPooling2D(pool_size=(2, 2)))\n",
        "\n",
        "# Layer 2\n",
        "model.add(Conv2D(36, (5, 5), padding='same'))\n",
        "model.add(BatchNormalization())\n",
        "model.add(Activation('relu'))\n",
        "model.add(MaxPooling2D(pool_size=(2, 2)))\n",
        "\n",
        "# Layer 3\n",
        "model.add(Conv2D(64, (3, 3), padding='same'))\n",
        "model.add(BatchNormalization())\n",
        "model.add(Activation('relu'))\n",
        "model.add(MaxPooling2D(pool_size=(2, 2)))\n",
        "\n",
        "# Layer 5\n",
        "model.add(ZeroPadding2D((1, 1)))\n",
        "model.add(Conv2D(128, (3, 3), padding='same'))\n",
        "model.add(BatchNormalization())\n",
        "model.add(Activation('relu'))\n",
        "model.add(MaxPooling2D(pool_size=(2, 2)))\n",
        "\n",
        "# Layer 6\n",
        "model.add(Flatten())\n",
        "model.add(Dense(256))\n",
        "model.add(BatchNormalization())\n",
        "model.add(Activation('relu'))\n",
        "model.add(Dropout(0.5))\n",
        "\n",
        "#flatten output of conv\n",
        "model.add(Flatten())\n",
        "\n",
        "model.add(Dense(24))\n",
        "model.add(Activation('softmax'))"
      ],
      "id": "7f9efe9b"
    },
    {
      "cell_type": "code",
      "execution_count": null,
      "metadata": {
        "id": "62226cbd",
        "outputId": "a410ce8e-2750-4093-c02a-1c2a07f55597"
      },
      "outputs": [
        {
          "name": "stdout",
          "output_type": "stream",
          "text": [
            "Epoch 1/10\n",
            "138/138 [==============================] - 70s 486ms/step - loss: 0.5837 - acc: 0.8487 - val_loss: 3.7592 - val_acc: 0.0721\n",
            "Epoch 2/10\n",
            "138/138 [==============================] - 73s 527ms/step - loss: 0.0274 - acc: 0.9987 - val_loss: 2.3815 - val_acc: 0.2817\n",
            "Epoch 3/10\n",
            "138/138 [==============================] - 77s 557ms/step - loss: 0.0089 - acc: 0.9999 - val_loss: 0.3367 - val_acc: 0.9120\n",
            "Epoch 4/10\n",
            "138/138 [==============================] - 78s 568ms/step - loss: 0.0048 - acc: 0.9999 - val_loss: 0.1488 - val_acc: 0.9584\n",
            "Epoch 5/10\n",
            "138/138 [==============================] - 78s 567ms/step - loss: 0.0030 - acc: 1.0000 - val_loss: 0.1231 - val_acc: 0.9643\n",
            "Epoch 6/10\n",
            "138/138 [==============================] - 80s 580ms/step - loss: 0.0022 - acc: 1.0000 - val_loss: 0.1330 - val_acc: 0.9601\n",
            "Epoch 7/10\n",
            "138/138 [==============================] - 82s 593ms/step - loss: 0.0017 - acc: 1.0000 - val_loss: 0.1297 - val_acc: 0.9668\n",
            "Epoch 8/10\n",
            "138/138 [==============================] - 81s 588ms/step - loss: 0.0012 - acc: 1.0000 - val_loss: 0.1232 - val_acc: 0.9643\n",
            "Epoch 9/10\n",
            "138/138 [==============================] - 79s 576ms/step - loss: 9.6696e-04 - acc: 1.0000 - val_loss: 0.1195 - val_acc: 0.9654\n",
            "Epoch 10/10\n",
            "138/138 [==============================] - 79s 570ms/step - loss: 8.5327e-04 - acc: 1.0000 - val_loss: 0.1344 - val_acc: 0.9584\n"
          ]
        }
      ],
      "source": [
        "model.compile(loss=\"categorical_crossentropy\", optimizer= \"adam\", metrics=[\"acc\"])\n",
        "early_stop= EarlyStopping(monitor= \"val_loss\", patience= 4, restore_best_weights= True)\n",
        "# training the model for 10 epochs\n",
        "cnn= model.fit(X_train, Y_train, batch_size=200, epochs=10, validation_data=(X_test, Y_test),callbacks=[early_stop])"
      ],
      "id": "62226cbd"
    },
    {
      "cell_type": "code",
      "execution_count": null,
      "metadata": {
        "id": "5215208e",
        "outputId": "72003f40-e0b1-4c82-ca6d-25237a2a72ff"
      },
      "outputs": [
        {
          "data": {
            "text/plain": [
              "Text(0.5, 1.0, 'Comportamiento de la perdida')"
            ]
          },
          "execution_count": 34,
          "metadata": {},
          "output_type": "execute_result"
        },
        {
          "data": {
            "image/png": "[encoded data removed]",
            "text/plain": [
              "<Figure size 432x288 with 1 Axes>"
            ]
          },
          "metadata": {},
          "output_type": "display_data"
        }
      ],
      "source": [
        "plt.subplot(1,2,1)\n",
        "plt.plot(cnn.history['loss'])\n",
        "plt.plot(cnn.history['val_loss'])\n",
        "plt.ylabel(\"Perdida\")\n",
        "plt.xlabel(\"Epoch\")\n",
        "plt.title(\"Comportamiento de la perdida\")"
      ],
      "id": "5215208e"
    },
    {
      "cell_type": "code",
      "execution_count": null,
      "metadata": {
        "id": "b7e88365",
        "outputId": "9ebeb904-27e1-4297-d871-cf12ec9ff7c4"
      },
      "outputs": [
        {
          "data": {
            "text/plain": [
              "Text(0.5, 1.0, 'Comportamiento de la precisión')"
            ]
          },
          "execution_count": 36,
          "metadata": {},
          "output_type": "execute_result"
        },
        {
          "data": {
            "image/png": "[encoded data removed]",
            "text/plain": [
              "<Figure size 432x288 with 1 Axes>"
            ]
          },
          "metadata": {},
          "output_type": "display_data"
        }
      ],
      "source": [
        "plt.subplot(1,2,1)\n",
        "plt.plot(cnn.history['val_acc'])\n",
        "plt.plot(cnn.history['acc'])\n",
        "plt.ylabel(\"Precisión\")\n",
        "plt.xlabel(\"Epoch\")\n",
        "plt.title(\"Comportamiento de la precisión\")"
      ],
      "id": "b7e88365"
    },
    {
      "cell_type": "code",
      "execution_count": null,
      "metadata": {
        "id": "ee4f4520",
        "outputId": "fccd9b8b-24d3-4ce8-fcac-4b1c017f7503"
      },
      "outputs": [
        {
          "name": "stdout",
          "output_type": "stream",
          "text": [
            "Matriz de confusion:\n"
          ]
        },
        {
          "data": {
            "image/png": "[encoded data removed]",
            "text/plain": [
              "<Figure size 1080x1080 with 1 Axes>"
            ]
          },
          "metadata": {},
          "output_type": "display_data"
        }
      ],
      "source": [
        "from numpy import argmax\n",
        "predictions= model.predict(X_test)\n",
        "y_pred=[]\n",
        "for i in range(len(predictions)):\n",
        "    y_pred.append(argmax(predictions[i]))\n",
        "\n",
        "y_ref= np.argmax(Y_test, axis= 1)\n",
        "print('Matriz de confusion:')\n",
        "cm= confusion_matrix(y_ref,  y_pred)\n",
        "fig, ax= plt.subplots(figsize=(15,15))\n",
        "ax.matshow(cm)\n",
        "plt.title('Matriz de Confusión', fontsize= 20)\n",
        "plt.ylabel('Etiqueta verdadera', fontsize = 15)\n",
        "plt.xlabel('Etiquieta predicha', fontsize= 15)\n",
        "for(i,j), z in np.ndenumerate(cm):\n",
        "  ax.text(j, i, '{:0.1f}'.format(z), ha='center', va='center')"
      ],
      "id": "ee4f4520"
    },
    {
      "cell_type": "markdown",
      "metadata": {
        "id": "WekyTYJscnst"
      },
      "source": [
        "## Transfer Learning"
      ],
      "id": "WekyTYJscnst"
    },
    {
      "cell_type": "code",
      "execution_count": 20,
      "metadata": {
        "id": "iM-bU3HsDeZ_"
      },
      "outputs": [],
      "source": [
        "im_shape = (224,224)\n",
        "\n",
        "TRAINING_DIR = '/content/drive/MyDrive/Colab Notebooks/Procesamiento_y_Clasificacion_de_Datos/Tarea_6/hand_sing_dataset/Train'\n",
        "TEST_DIR = '/content/drive/MyDrive/Colab Notebooks/Procesamiento_y_Clasificacion_de_Datos/Tarea_6/hand_sing_dataset/Test'\n",
        "\n",
        "seed = 10\n",
        "\n",
        "BATCH_SIZE = 16"
      ],
      "id": "iM-bU3HsDeZ_"
    },
    {
      "cell_type": "code",
      "execution_count": 21,
      "metadata": {
        "id": "zqyrXGnOHGWu"
      },
      "outputs": [],
      "source": [
        "from tensorflow.keras.preprocessing.image import ImageDataGenerator\n",
        "from tensorflow.keras.preprocessing import image"
      ],
      "id": "zqyrXGnOHGWu"
    },
    {
      "cell_type": "code",
      "execution_count": 22,
      "metadata": {
        "id": "vX52T6EIFYWy"
      },
      "outputs": [],
      "source": [
        "data_generator = ImageDataGenerator(\n",
        "        validation_split=0.2,\n",
        "        rotation_range=20,\n",
        "        width_shift_range=0.2,\n",
        "        height_shift_range=0.2,\n",
        "        preprocessing_function=preprocess_input,\n",
        "        shear_range=0.2,\n",
        "        zoom_range=0.2,\n",
        "        horizontal_flip=True,\n",
        "        fill_mode='nearest')\n",
        "val_data_generator = ImageDataGenerator(preprocessing_function=preprocess_input,validation_split=0.2)"
      ],
      "id": "vX52T6EIFYWy"
    },
    {
      "cell_type": "code",
      "execution_count": 23,
      "metadata": {
        "colab": {
          "base_uri": "https://localhost:8080/"
        },
        "id": "Sx_8zWa_FeFY",
        "outputId": "a794b27e-ccd1-480b-bfc9-fe8f9548d44a"
      },
      "outputs": [
        {
          "output_type": "stream",
          "name": "stdout",
          "text": [
            "Found 15305 images belonging to 24 classes.\n",
            "Found 3818 images belonging to 24 classes.\n",
            "Found 7172 images belonging to 24 classes.\n",
            "Classes: ['A', 'B', 'C', 'D', 'E', 'F', 'G', 'H', 'I', 'K', 'L', 'M', 'N', 'O', 'P', 'Q', 'R', 'S', 'T', 'U', 'V', 'W', 'X', 'Y']\n"
          ]
        }
      ],
      "source": [
        "# Generator para parte train\n",
        "train_generator = data_generator.flow_from_directory(TRAINING_DIR, target_size=im_shape, shuffle=True, seed=seed,\n",
        "                                                     class_mode='categorical', batch_size=BATCH_SIZE, subset=\"training\")\n",
        "# Generator para parte validação\n",
        "validation_generator = val_data_generator.flow_from_directory(TRAINING_DIR, target_size=im_shape, shuffle=False, seed=seed,\n",
        "                                                     class_mode='categorical', batch_size=BATCH_SIZE, subset=\"validation\")\n",
        "\n",
        "# Generator para dataset de teste\n",
        "test_generator = ImageDataGenerator(preprocessing_function=preprocess_input)\n",
        "test_generator = test_generator.flow_from_directory(TEST_DIR, target_size=im_shape, shuffle=False, seed=seed,\n",
        "                                                     class_mode='categorical', batch_size=BATCH_SIZE)\n",
        "\n",
        "nb_train_samples = train_generator.samples\n",
        "nb_validation_samples = validation_generator.samples\n",
        "nb_test_samples = test_generator.samples\n",
        "classes = list(train_generator.class_indices.keys())\n",
        "print('Classes: '+str(classes))\n",
        "num_classes  = len(classes)"
      ],
      "id": "Sx_8zWa_FeFY"
    },
    {
      "cell_type": "markdown",
      "metadata": {
        "id": "rc6XAry1xpV1"
      },
      "source": [
        "### Inception V3"
      ],
      "id": "rc6XAry1xpV1"
    },
    {
      "cell_type": "code",
      "execution_count": 36,
      "metadata": {
        "colab": {
          "base_uri": "https://localhost:8080/"
        },
        "id": "mm0FmhFJxB2h",
        "outputId": "e6e4e68a-d1d0-4a2e-ba70-1c7483a72f78"
      },
      "outputs": [
        {
          "output_type": "stream",
          "name": "stdout",
          "text": [
            "0 input_3 False\n",
            "1 conv2d_94 False\n",
            "2 batch_normalization_94 False\n",
            "3 activation_94 False\n",
            "4 conv2d_95 False\n",
            "5 batch_normalization_95 False\n",
            "6 activation_95 False\n",
            "7 conv2d_96 False\n",
            "8 batch_normalization_96 False\n",
            "9 activation_96 False\n",
            "10 max_pooling2d_4 False\n",
            "11 conv2d_97 False\n",
            "12 batch_normalization_97 False\n",
            "13 activation_97 False\n",
            "14 conv2d_98 False\n",
            "15 batch_normalization_98 False\n",
            "16 activation_98 False\n",
            "17 max_pooling2d_5 False\n",
            "18 conv2d_102 False\n",
            "19 batch_normalization_102 False\n",
            "20 activation_102 False\n",
            "21 conv2d_100 False\n",
            "22 conv2d_103 False\n",
            "23 batch_normalization_100 False\n",
            "24 batch_normalization_103 False\n",
            "25 activation_100 False\n",
            "26 activation_103 False\n",
            "27 average_pooling2d_9 False\n",
            "28 conv2d_99 False\n",
            "29 conv2d_101 False\n",
            "30 conv2d_104 False\n",
            "31 conv2d_105 False\n",
            "32 batch_normalization_99 False\n",
            "33 batch_normalization_101 False\n",
            "34 batch_normalization_104 False\n",
            "35 batch_normalization_105 False\n",
            "36 activation_99 False\n",
            "37 activation_101 False\n",
            "38 activation_104 False\n",
            "39 activation_105 False\n",
            "40 mixed0 False\n",
            "41 conv2d_109 False\n",
            "42 batch_normalization_109 False\n",
            "43 activation_109 False\n",
            "44 conv2d_107 False\n",
            "45 conv2d_110 False\n",
            "46 batch_normalization_107 False\n",
            "47 batch_normalization_110 False\n",
            "48 activation_107 False\n",
            "49 activation_110 False\n",
            "50 average_pooling2d_10 False\n",
            "51 conv2d_106 False\n",
            "52 conv2d_108 False\n",
            "53 conv2d_111 False\n",
            "54 conv2d_112 False\n",
            "55 batch_normalization_106 False\n",
            "56 batch_normalization_108 False\n",
            "57 batch_normalization_111 False\n",
            "58 batch_normalization_112 False\n",
            "59 activation_106 False\n",
            "60 activation_108 False\n",
            "61 activation_111 False\n",
            "62 activation_112 False\n",
            "63 mixed1 False\n",
            "64 conv2d_116 False\n",
            "65 batch_normalization_116 False\n",
            "66 activation_116 False\n",
            "67 conv2d_114 False\n",
            "68 conv2d_117 False\n",
            "69 batch_normalization_114 False\n",
            "70 batch_normalization_117 False\n",
            "71 activation_114 False\n",
            "72 activation_117 False\n",
            "73 average_pooling2d_11 False\n",
            "74 conv2d_113 False\n",
            "75 conv2d_115 False\n",
            "76 conv2d_118 False\n",
            "77 conv2d_119 False\n",
            "78 batch_normalization_113 False\n",
            "79 batch_normalization_115 False\n",
            "80 batch_normalization_118 False\n",
            "81 batch_normalization_119 False\n",
            "82 activation_113 False\n",
            "83 activation_115 False\n",
            "84 activation_118 False\n",
            "85 activation_119 False\n",
            "86 mixed2 False\n",
            "87 conv2d_121 False\n",
            "88 batch_normalization_121 False\n",
            "89 activation_121 False\n",
            "90 conv2d_122 False\n",
            "91 batch_normalization_122 False\n",
            "92 activation_122 False\n",
            "93 conv2d_120 False\n",
            "94 conv2d_123 False\n",
            "95 batch_normalization_120 False\n",
            "96 batch_normalization_123 False\n",
            "97 activation_120 False\n",
            "98 activation_123 False\n",
            "99 max_pooling2d_6 False\n",
            "100 mixed3 False\n",
            "101 conv2d_128 False\n",
            "102 batch_normalization_128 False\n",
            "103 activation_128 False\n",
            "104 conv2d_129 False\n",
            "105 batch_normalization_129 False\n",
            "106 activation_129 False\n",
            "107 conv2d_125 False\n",
            "108 conv2d_130 False\n",
            "109 batch_normalization_125 False\n",
            "110 batch_normalization_130 False\n",
            "111 activation_125 False\n",
            "112 activation_130 False\n",
            "113 conv2d_126 False\n",
            "114 conv2d_131 False\n",
            "115 batch_normalization_126 False\n",
            "116 batch_normalization_131 False\n",
            "117 activation_126 False\n",
            "118 activation_131 False\n",
            "119 average_pooling2d_12 False\n",
            "120 conv2d_124 False\n",
            "121 conv2d_127 False\n",
            "122 conv2d_132 False\n",
            "123 conv2d_133 False\n",
            "124 batch_normalization_124 False\n",
            "125 batch_normalization_127 False\n",
            "126 batch_normalization_132 False\n",
            "127 batch_normalization_133 False\n",
            "128 activation_124 False\n",
            "129 activation_127 False\n",
            "130 activation_132 False\n",
            "131 activation_133 False\n",
            "132 mixed4 False\n",
            "133 conv2d_138 False\n",
            "134 batch_normalization_138 False\n",
            "135 activation_138 False\n",
            "136 conv2d_139 False\n",
            "137 batch_normalization_139 False\n",
            "138 activation_139 False\n",
            "139 conv2d_135 False\n",
            "140 conv2d_140 False\n",
            "141 batch_normalization_135 False\n",
            "142 batch_normalization_140 False\n",
            "143 activation_135 False\n",
            "144 activation_140 False\n",
            "145 conv2d_136 False\n",
            "146 conv2d_141 False\n",
            "147 batch_normalization_136 False\n",
            "148 batch_normalization_141 False\n",
            "149 activation_136 False\n",
            "150 activation_141 False\n",
            "151 average_pooling2d_13 False\n",
            "152 conv2d_134 False\n",
            "153 conv2d_137 False\n",
            "154 conv2d_142 False\n",
            "155 conv2d_143 False\n",
            "156 batch_normalization_134 False\n",
            "157 batch_normalization_137 False\n",
            "158 batch_normalization_142 False\n",
            "159 batch_normalization_143 False\n",
            "160 activation_134 False\n",
            "161 activation_137 False\n",
            "162 activation_142 False\n",
            "163 activation_143 False\n",
            "164 mixed5 False\n",
            "165 conv2d_148 False\n",
            "166 batch_normalization_148 False\n",
            "167 activation_148 False\n",
            "168 conv2d_149 False\n",
            "169 batch_normalization_149 False\n",
            "170 activation_149 False\n",
            "171 conv2d_145 False\n",
            "172 conv2d_150 False\n",
            "173 batch_normalization_145 False\n",
            "174 batch_normalization_150 False\n",
            "175 activation_145 False\n",
            "176 activation_150 False\n",
            "177 conv2d_146 False\n",
            "178 conv2d_151 False\n",
            "179 batch_normalization_146 False\n",
            "180 batch_normalization_151 False\n",
            "181 activation_146 False\n",
            "182 activation_151 False\n",
            "183 average_pooling2d_14 False\n",
            "184 conv2d_144 False\n",
            "185 conv2d_147 False\n",
            "186 conv2d_152 False\n",
            "187 conv2d_153 False\n",
            "188 batch_normalization_144 False\n",
            "189 batch_normalization_147 False\n",
            "190 batch_normalization_152 False\n",
            "191 batch_normalization_153 False\n",
            "192 activation_144 False\n",
            "193 activation_147 False\n",
            "194 activation_152 False\n",
            "195 activation_153 False\n",
            "196 mixed6 False\n",
            "197 conv2d_158 False\n",
            "198 batch_normalization_158 False\n",
            "199 activation_158 False\n",
            "200 conv2d_159 False\n",
            "201 batch_normalization_159 False\n",
            "202 activation_159 False\n",
            "203 conv2d_155 False\n",
            "204 conv2d_160 False\n",
            "205 batch_normalization_155 False\n",
            "206 batch_normalization_160 False\n",
            "207 activation_155 False\n",
            "208 activation_160 False\n",
            "209 conv2d_156 False\n",
            "210 conv2d_161 False\n",
            "211 batch_normalization_156 False\n",
            "212 batch_normalization_161 False\n",
            "213 activation_156 False\n",
            "214 activation_161 False\n",
            "215 average_pooling2d_15 False\n",
            "216 conv2d_154 False\n",
            "217 conv2d_157 False\n",
            "218 conv2d_162 False\n",
            "219 conv2d_163 False\n",
            "220 batch_normalization_154 False\n",
            "221 batch_normalization_157 False\n",
            "222 batch_normalization_162 False\n",
            "223 batch_normalization_163 False\n",
            "224 activation_154 False\n",
            "225 activation_157 False\n",
            "226 activation_162 False\n",
            "227 activation_163 False\n",
            "228 mixed7 False\n",
            "229 conv2d_166 False\n",
            "230 batch_normalization_166 False\n",
            "231 activation_166 False\n",
            "232 conv2d_167 False\n",
            "233 batch_normalization_167 False\n",
            "234 activation_167 False\n",
            "235 conv2d_164 False\n",
            "236 conv2d_168 False\n",
            "237 batch_normalization_164 False\n",
            "238 batch_normalization_168 False\n",
            "239 activation_164 False\n",
            "240 activation_168 False\n",
            "241 conv2d_165 False\n",
            "242 conv2d_169 False\n",
            "243 batch_normalization_165 False\n",
            "244 batch_normalization_169 False\n",
            "245 activation_165 False\n",
            "246 activation_169 False\n",
            "247 max_pooling2d_7 False\n",
            "248 mixed8 False\n",
            "249 conv2d_174 False\n",
            "250 batch_normalization_174 False\n",
            "251 activation_174 False\n",
            "252 conv2d_171 False\n",
            "253 conv2d_175 False\n",
            "254 batch_normalization_171 False\n",
            "255 batch_normalization_175 False\n",
            "256 activation_171 False\n",
            "257 activation_175 False\n",
            "258 conv2d_172 False\n",
            "259 conv2d_173 False\n",
            "260 conv2d_176 False\n",
            "261 conv2d_177 False\n",
            "262 average_pooling2d_16 False\n",
            "263 conv2d_170 False\n",
            "264 batch_normalization_172 False\n",
            "265 batch_normalization_173 False\n",
            "266 batch_normalization_176 False\n",
            "267 batch_normalization_177 False\n",
            "268 conv2d_178 False\n",
            "269 batch_normalization_170 False\n",
            "270 activation_172 False\n",
            "271 activation_173 False\n",
            "272 activation_176 False\n",
            "273 activation_177 False\n",
            "274 batch_normalization_178 False\n",
            "275 activation_170 False\n",
            "276 mixed9_0 False\n",
            "277 concatenate_2 False\n",
            "278 activation_178 False\n",
            "279 mixed9 False\n",
            "280 conv2d_183 False\n",
            "281 batch_normalization_183 False\n",
            "282 activation_183 False\n",
            "283 conv2d_180 False\n",
            "284 conv2d_184 False\n",
            "285 batch_normalization_180 False\n",
            "286 batch_normalization_184 False\n",
            "287 activation_180 False\n",
            "288 activation_184 False\n",
            "289 conv2d_181 False\n",
            "290 conv2d_182 False\n",
            "291 conv2d_185 False\n",
            "292 conv2d_186 False\n",
            "293 average_pooling2d_17 False\n",
            "294 conv2d_179 False\n",
            "295 batch_normalization_181 False\n",
            "296 batch_normalization_182 False\n",
            "297 batch_normalization_185 False\n",
            "298 batch_normalization_186 False\n",
            "299 conv2d_187 False\n",
            "300 batch_normalization_179 False\n",
            "301 activation_181 False\n",
            "302 activation_182 False\n",
            "303 activation_185 False\n",
            "304 activation_186 False\n",
            "305 batch_normalization_187 False\n",
            "306 activation_179 False\n",
            "307 mixed9_1 False\n",
            "308 concatenate_3 False\n",
            "309 activation_187 False\n",
            "310 mixed10 False\n"
          ]
        }
      ],
      "source": [
        "# from keras.applications import inception_v3\n",
        "from keras.applications.inception_v3 import InceptionV3,preprocess_input\n",
        "from tensorflow.keras.layers import Dense, Flatten,Dropout\n",
        "from tensorflow.keras.models import Model\n",
        "from tensorflow.keras.optimizers import Adam\n",
        "\n",
        "inception_model = InceptionV3(weights='imagenet',include_top=False, input_shape=(224, 224, 3))\n",
        "\n",
        "for layer in inception_model.layers:\n",
        "  layer.trainable = False\n",
        "# Make sure you have frozen the correct layers\n",
        "for i, layer in enumerate(inception_model.layers):\n",
        "  print(i, layer.name, layer.trainable)"
      ],
      "id": "mm0FmhFJxB2h"
    },
    {
      "cell_type": "code",
      "execution_count": 37,
      "metadata": {
        "id": "jIOhXWdEySj3"
      },
      "outputs": [],
      "source": [
        "x = inception_model.output\n",
        "x = Flatten()(x) # Flatten dimensions to for use in FC layers\n",
        "x = Dense(512, activation='relu')(x)\n",
        "x = Dropout(0.5)(x) # Dropout layer to reduce overfitting\n",
        "x = Dense(256, activation='relu')(x)\n",
        "x = Dense(24, activation='softmax')(x) # Softmax for multiclass\n",
        "transfer_model2 = Model(inputs=inception_model.input, outputs=x)"
      ],
      "id": "jIOhXWdEySj3"
    },
    {
      "cell_type": "code",
      "execution_count": 38,
      "metadata": {
        "colab": {
          "base_uri": "https://localhost:8080/"
        },
        "id": "8b7NiUgLMb1y",
        "outputId": "92230dd1-f764-479b-94b4-47dfccb00418"
      },
      "outputs": [
        {
          "output_type": "stream",
          "name": "stderr",
          "text": [
            "/usr/local/lib/python3.7/dist-packages/keras/optimizer_v2/adam.py:105: UserWarning: The `lr` argument is deprecated, use `learning_rate` instead.\n",
            "  super(Adam, self).__init__(name, **kwargs)\n"
          ]
        }
      ],
      "source": [
        "learning_rate= 5e-5\n",
        "transfer_model2.compile(loss=\"categorical_crossentropy\", optimizer=Adam(lr=learning_rate), metrics=[\"accuracy\"])"
      ],
      "id": "8b7NiUgLMb1y"
    },
    {
      "cell_type": "code",
      "execution_count": 39,
      "metadata": {
        "colab": {
          "base_uri": "https://localhost:8080/"
        },
        "id": "sepbjWd0MgY_",
        "outputId": "8f47421f-3634-4914-cfac-7f880bdaf0a3"
      },
      "outputs": [
        {
          "output_type": "stream",
          "name": "stdout",
          "text": [
            "Epoch 1/5\n",
            "957/957 [==============================] - 2333s 2s/step - loss: 2.1980 - accuracy: 0.3132 - val_loss: 0.7193 - val_accuracy: 0.7645\n",
            "Epoch 2/5\n",
            "957/957 [==============================] - 2267s 2s/step - loss: 1.5257 - accuracy: 0.4901 - val_loss: 0.4924 - val_accuracy: 0.8271\n",
            "Epoch 3/5\n",
            "957/957 [==============================] - 2378s 2s/step - loss: 1.3174 - accuracy: 0.5451 - val_loss: 0.3534 - val_accuracy: 0.8829\n",
            "Epoch 4/5\n",
            "957/957 [==============================] - 2322s 2s/step - loss: 1.2062 - accuracy: 0.5805 - val_loss: 0.3484 - val_accuracy: 0.8617\n",
            "Epoch 5/5\n",
            "957/957 [==============================] - 2321s 2s/step - loss: 1.1258 - accuracy: 0.6075 - val_loss: 0.2697 - val_accuracy: 0.9091\n"
          ]
        }
      ],
      "source": [
        "history = transfer_model2.fit(train_generator, batch_size = 1, epochs=5, validation_data=validation_generator)"
      ],
      "id": "sepbjWd0MgY_"
    },
    {
      "cell_type": "code",
      "source": [
        "import pandas as pd"
      ],
      "metadata": {
        "id": "nBhfyXjB3ukU"
      },
      "id": "nBhfyXjB3ukU",
      "execution_count": 40,
      "outputs": []
    },
    {
      "cell_type": "code",
      "source": [
        "sns.set(rc = {'figure.figsize':(6,4)})\n",
        "pd.DataFrame(history.history)[['accuracy', 'val_accuracy']].plot()\n",
        "plt.title(\"Comportamiento de la precisión\")\n",
        "plt.xlabel('Época')\n",
        "plt.ylabel('Precisión')\n",
        "plt.show()"
      ],
      "metadata": {
        "colab": {
          "base_uri": "https://localhost:8080/",
          "height": 302
        },
        "id": "kamn14413yTs",
        "outputId": "756a3b87-61b9-448c-c606-ccbe4039454a"
      },
      "id": "kamn14413yTs",
      "execution_count": 61,
      "outputs": [
        {
          "output_type": "display_data",
          "data": {
            "text/plain": [
              "<Figure size 432x288 with 1 Axes>"
            ],
            "image/png": "[encoded data removed]"
          },
          "metadata": {}
        }
      ]
    },
    {
      "cell_type": "code",
      "source": [
        "pd.DataFrame(history.history)[['loss', 'val_loss']].plot()\n",
        "plt.title(\"Loss\")\n",
        "plt.title(\"Comportamiento de la pérdida\")\n",
        "plt.xlabel('Época')\n",
        "plt.ylabel('Pérdida')\n",
        "plt.show()"
      ],
      "metadata": {
        "colab": {
          "base_uri": "https://localhost:8080/",
          "height": 302
        },
        "id": "F3UdX_Es34aa",
        "outputId": "19fe3e43-bdab-464f-ce7b-c4bdf44ea258"
      },
      "id": "F3UdX_Es34aa",
      "execution_count": 64,
      "outputs": [
        {
          "output_type": "display_data",
          "data": {
            "text/plain": [
              "<Figure size 432x288 with 1 Axes>"
            ],
            "image/png": "[encoded data removed]"
          },
          "metadata": {}
        }
      ]
    },
    {
      "cell_type": "code",
      "source": [
        "prediction = transfer_model2.predict(validation_generator)"
      ],
      "metadata": {
        "id": "4OOd-12g3-Nr"
      },
      "id": "4OOd-12g3-Nr",
      "execution_count": 44,
      "outputs": []
    },
    {
      "cell_type": "code",
      "source": [
        "transfer_model2.save('/content/drive/MyDrive/Colab Notebooks/Procesamiento_y_Clasificacion_de_Datos/Tarea_6/hand_inception')"
      ],
      "metadata": {
        "colab": {
          "base_uri": "https://localhost:8080/"
        },
        "id": "tgDbpxsT963n",
        "outputId": "82beee1d-28bf-4817-cd94-ad5f3095ebe3"
      },
      "id": "tgDbpxsT963n",
      "execution_count": 65,
      "outputs": [
        {
          "output_type": "stream",
          "name": "stdout",
          "text": [
            "INFO:tensorflow:Assets written to: /content/drive/MyDrive/Colab Notebooks/Procesamiento_y_Clasificacion_de_Datos/Tarea_6/hand_inception/assets\n"
          ]
        }
      ]
    },
    {
      "cell_type": "code",
      "source": [
        "output = np.argmax(prediction, axis=1)\n",
        "labels = validation_generator.class_indices\n",
        "print(labels)\n",
        "print(type(labels))\n",
        "pred_labels = dict((v,k) for k,v in labels.items())\n",
        "print(pred_labels)\n",
        "print(type(pred_labels))"
      ],
      "metadata": {
        "colab": {
          "base_uri": "https://localhost:8080/"
        },
        "id": "XSiNtjUw4C7M",
        "outputId": "a1d332af-0419-4ab6-9972-b49f19c88123"
      },
      "id": "XSiNtjUw4C7M",
      "execution_count": 45,
      "outputs": [
        {
          "output_type": "stream",
          "name": "stdout",
          "text": [
            "{'A': 0, 'B': 1, 'C': 2, 'D': 3, 'E': 4, 'F': 5, 'G': 6, 'H': 7, 'I': 8, 'K': 9, 'L': 10, 'M': 11, 'N': 12, 'O': 13, 'P': 14, 'Q': 15, 'R': 16, 'S': 17, 'T': 18, 'U': 19, 'V': 20, 'W': 21, 'X': 22, 'Y': 23}\n",
            "<class 'dict'>\n",
            "{0: 'A', 1: 'B', 2: 'C', 3: 'D', 4: 'E', 5: 'F', 6: 'G', 7: 'H', 8: 'I', 9: 'K', 10: 'L', 11: 'M', 12: 'N', 13: 'O', 14: 'P', 15: 'Q', 16: 'R', 17: 'S', 18: 'T', 19: 'U', 20: 'V', 21: 'W', 22: 'X', 23: 'Y'}\n",
            "<class 'dict'>\n"
          ]
        }
      ]
    },
    {
      "cell_type": "code",
      "source": [
        "labeled_pred = []\n",
        "for i in range(0, len(output)):\n",
        "    labeled_pred.append(pred_labels[output[i]])"
      ],
      "metadata": {
        "id": "zVmHzU0J4IrW"
      },
      "id": "zVmHzU0J4IrW",
      "execution_count": 46,
      "outputs": []
    },
    {
      "cell_type": "code",
      "source": [
        "labeled_test = []\n",
        "for i in range(0, len(output)):\n",
        "    labeled_test.append(pred_labels[validation_generator.classes[i]])"
      ],
      "metadata": {
        "id": "EvPcwC544MvU"
      },
      "id": "EvPcwC544MvU",
      "execution_count": 48,
      "outputs": []
    },
    {
      "cell_type": "code",
      "source": [
        "print(classification_report(labeled_test, labeled_pred))\n",
        "cf_matrix=confusion_matrix(labeled_test, labeled_pred)"
      ],
      "metadata": {
        "colab": {
          "base_uri": "https://localhost:8080/"
        },
        "id": "3sqoaJU84Qje",
        "outputId": "9eb6d8d7-bbe6-471d-e861-789fe1886649"
      },
      "id": "3sqoaJU84Qje",
      "execution_count": 49,
      "outputs": [
        {
          "output_type": "stream",
          "name": "stdout",
          "text": [
            "              precision    recall  f1-score   support\n",
            "\n",
            "           A       0.91      0.98      0.94       225\n",
            "           B       1.00      0.98      0.99       202\n",
            "           C       0.96      0.97      0.96       228\n",
            "           D       0.94      0.79      0.86       239\n",
            "           E       0.93      0.75      0.83       191\n",
            "           F       0.98      1.00      0.99       240\n",
            "           G       0.79      0.98      0.87       218\n",
            "           H       0.97      0.71      0.82       202\n",
            "           I       0.91      1.00      0.95       232\n",
            "           K       0.87      0.82      0.85       222\n",
            "           L       0.96      1.00      0.98       248\n",
            "           M       0.70      0.86      0.77       211\n",
            "           N       0.93      0.72      0.81       232\n",
            "           O       0.98      0.96      0.97       239\n",
            "           P       1.00      0.96      0.98       217\n",
            "           Q       0.97      1.00      0.98       255\n",
            "           R       0.76      0.92      0.83       217\n",
            "\n",
            "    accuracy                           0.91      3818\n",
            "   macro avg       0.92      0.91      0.91      3818\n",
            "weighted avg       0.92      0.91      0.91      3818\n",
            "\n"
          ]
        }
      ]
    },
    {
      "cell_type": "code",
      "source": [
        "import seaborn as sns"
      ],
      "metadata": {
        "id": "AZf5sv_t4cpQ"
      },
      "id": "AZf5sv_t4cpQ",
      "execution_count": 50,
      "outputs": []
    },
    {
      "cell_type": "code",
      "source": [
        "sns.set(rc = {'figure.figsize':(20,12)})\n",
        "sns.heatmap(cf_matrix/np.sum(cf_matrix,axis=1), annot=True, fmt='.1%', cmap='Blues')"
      ],
      "metadata": {
        "colab": {
          "base_uri": "https://localhost:8080/",
          "height": 724
        },
        "id": "VwPeNYyc4WFC",
        "outputId": "4371e123-34f9-49e3-c342-7d7bf746a939"
      },
      "id": "VwPeNYyc4WFC",
      "execution_count": 54,
      "outputs": [
        {
          "output_type": "execute_result",
          "data": {
            "text/plain": [
              "<matplotlib.axes._subplots.AxesSubplot at 0x7fb8b7c0d2d0>"
            ]
          },
          "metadata": {},
          "execution_count": 54
        },
        {
          "output_type": "display_data",
          "data": {
            "text/plain": [
              "<Figure size 1440x864 with 2 Axes>"
            ],
            "image/png": "[encoded data removed]"
          },
          "metadata": {}
        }
      ]
    },
    {
      "cell_type": "markdown",
      "metadata": {
        "id": "aAKoD8FBxMyM"
      },
      "source": [
        "### VGG16"
      ],
      "id": "aAKoD8FBxMyM"
    },
    {
      "cell_type": "code",
      "execution_count": 28,
      "metadata": {
        "id": "8G5ZPfeOyE8i"
      },
      "outputs": [],
      "source": [
        "from keras.applications.vgg16 import VGG16,preprocess_input"
      ],
      "id": "8G5ZPfeOyE8i"
    },
    {
      "cell_type": "code",
      "source": [
        "vgg_model = VGG16(weights='imagenet',include_top=False, input_shape=(224, 224, 3))\n",
        "\n",
        "for layer in vgg_model.layers:\n",
        "  layer.trainable = False\n",
        "# Make sure you have frozen the correct layers\n",
        "for i, layer in enumerate(vgg_model.layers):\n",
        "  print(i, layer.name, layer.trainable)"
      ],
      "metadata": {
        "colab": {
          "base_uri": "https://localhost:8080/"
        },
        "id": "DuP6c7coGIr3",
        "outputId": "583b7d5d-64d1-4f9e-9a9d-27b94f2d8054"
      },
      "id": "DuP6c7coGIr3",
      "execution_count": 29,
      "outputs": [
        {
          "output_type": "stream",
          "name": "stdout",
          "text": [
            "Downloading data from https://storage.googleapis.com/tensorflow/keras-applications/vgg16/vgg16_weights_tf_dim_ordering_tf_kernels_notop.h5\n",
            "58892288/58889256 [==============================] - 0s 0us/step\n",
            "58900480/58889256 [==============================] - 0s 0us/step\n",
            "0 input_2 False\n",
            "1 block1_conv1 False\n",
            "2 block1_conv2 False\n",
            "3 block1_pool False\n",
            "4 block2_conv1 False\n",
            "5 block2_conv2 False\n",
            "6 block2_pool False\n",
            "7 block3_conv1 False\n",
            "8 block3_conv2 False\n",
            "9 block3_conv3 False\n",
            "10 block3_pool False\n",
            "11 block4_conv1 False\n",
            "12 block4_conv2 False\n",
            "13 block4_conv3 False\n",
            "14 block4_pool False\n",
            "15 block5_conv1 False\n",
            "16 block5_conv2 False\n",
            "17 block5_conv3 False\n",
            "18 block5_pool False\n"
          ]
        }
      ]
    },
    {
      "cell_type": "code",
      "source": [
        "x = vgg_model.output\n",
        "x = Flatten()(x) # Flatten dimensions to for use in FC layers\n",
        "x = Dense(512, activation='relu')(x)\n",
        "x = Dropout(0.5)(x) # Dropout layer to reduce overfitting\n",
        "x = Dense(256, activation='relu')(x)\n",
        "x = Dense(24, activation='softmax')(x) # Softmax for multiclass\n",
        "transfer_model = Model(inputs=vgg_model.input, outputs=x)"
      ],
      "metadata": {
        "id": "xZUItOLyGK5s"
      },
      "id": "xZUItOLyGK5s",
      "execution_count": 33,
      "outputs": []
    },
    {
      "cell_type": "code",
      "source": [
        "learning_rate= 5e-5\n",
        "transfer_model.compile(loss=\"categorical_crossentropy\", optimizer=Adam(lr=learning_rate), metrics=[\"accuracy\"])"
      ],
      "metadata": {
        "colab": {
          "base_uri": "https://localhost:8080/"
        },
        "id": "AC34i_tgGOgG",
        "outputId": "64883cf6-8129-4c5e-98f8-4d20193942c2"
      },
      "id": "AC34i_tgGOgG",
      "execution_count": 34,
      "outputs": [
        {
          "output_type": "stream",
          "name": "stderr",
          "text": [
            "/usr/local/lib/python3.7/dist-packages/keras/optimizer_v2/adam.py:105: UserWarning: The `lr` argument is deprecated, use `learning_rate` instead.\n",
            "  super(Adam, self).__init__(name, **kwargs)\n"
          ]
        }
      ]
    },
    {
      "cell_type": "code",
      "source": [
        "history = transfer_model.fit(train_generator, batch_size = 1, epochs=5, validation_data=validation_generator)"
      ],
      "metadata": {
        "colab": {
          "base_uri": "https://localhost:8080/",
          "height": 346
        },
        "id": "q1LYDYMhGSgo",
        "outputId": "8c3a6066-b6c7-4d26-f1df-a08f780b12bb"
      },
      "id": "q1LYDYMhGSgo",
      "execution_count": 35,
      "outputs": [
        {
          "output_type": "stream",
          "name": "stdout",
          "text": [
            "Epoch 1/5\n",
            " 12/957 [..............................] - ETA: 2:17:39 - loss: 3.3812 - accuracy: 0.0469"
          ]
        },
        {
          "output_type": "error",
          "ename": "KeyboardInterrupt",
          "evalue": "ignored",
          "traceback": [
            "\u001b[0;31m---------------------------------------------------------------------------\u001b[0m",
            "\u001b[0;31mKeyboardInterrupt\u001b[0m                         Traceback (most recent call last)",
            "\u001b[0;32m<ipython-input-35-b45e11e21502>\u001b[0m in \u001b[0;36m<module>\u001b[0;34m()\u001b[0m\n\u001b[0;32m----> 1\u001b[0;31m \u001b[0mhistory\u001b[0m \u001b[0;34m=\u001b[0m \u001b[0mtransfer_model\u001b[0m\u001b[0;34m.\u001b[0m\u001b[0mfit\u001b[0m\u001b[0;34m(\u001b[0m\u001b[0mtrain_generator\u001b[0m\u001b[0;34m,\u001b[0m \u001b[0mbatch_size\u001b[0m \u001b[0;34m=\u001b[0m \u001b[0;36m1\u001b[0m\u001b[0;34m,\u001b[0m \u001b[0mepochs\u001b[0m\u001b[0;34m=\u001b[0m\u001b[0;36m5\u001b[0m\u001b[0;34m,\u001b[0m \u001b[0mvalidation_data\u001b[0m\u001b[0;34m=\u001b[0m\u001b[0mvalidation_generator\u001b[0m\u001b[0;34m)\u001b[0m\u001b[0;34m\u001b[0m\u001b[0;34m\u001b[0m\u001b[0m\n\u001b[0m",
            "\u001b[0;32m/usr/local/lib/python3.7/dist-packages/keras/utils/traceback_utils.py\u001b[0m in \u001b[0;36merror_handler\u001b[0;34m(*args, **kwargs)\u001b[0m\n\u001b[1;32m     62\u001b[0m     \u001b[0mfiltered_tb\u001b[0m \u001b[0;34m=\u001b[0m \u001b[0;32mNone\u001b[0m\u001b[0;34m\u001b[0m\u001b[0;34m\u001b[0m\u001b[0m\n\u001b[1;32m     63\u001b[0m     \u001b[0;32mtry\u001b[0m\u001b[0;34m:\u001b[0m\u001b[0;34m\u001b[0m\u001b[0;34m\u001b[0m\u001b[0m\n\u001b[0;32m---> 64\u001b[0;31m       \u001b[0;32mreturn\u001b[0m \u001b[0mfn\u001b[0m\u001b[0;34m(\u001b[0m\u001b[0;34m*\u001b[0m\u001b[0margs\u001b[0m\u001b[0;34m,\u001b[0m \u001b[0;34m**\u001b[0m\u001b[0mkwargs\u001b[0m\u001b[0;34m)\u001b[0m\u001b[0;34m\u001b[0m\u001b[0;34m\u001b[0m\u001b[0m\n\u001b[0m\u001b[1;32m     65\u001b[0m     \u001b[0;32mexcept\u001b[0m \u001b[0mException\u001b[0m \u001b[0;32mas\u001b[0m \u001b[0me\u001b[0m\u001b[0;34m:\u001b[0m  \u001b[0;31m# pylint: disable=broad-except\u001b[0m\u001b[0;34m\u001b[0m\u001b[0;34m\u001b[0m\u001b[0m\n\u001b[1;32m     66\u001b[0m       \u001b[0mfiltered_tb\u001b[0m \u001b[0;34m=\u001b[0m \u001b[0m_process_traceback_frames\u001b[0m\u001b[0;34m(\u001b[0m\u001b[0me\u001b[0m\u001b[0;34m.\u001b[0m\u001b[0m__traceback__\u001b[0m\u001b[0;34m)\u001b[0m\u001b[0;34m\u001b[0m\u001b[0;34m\u001b[0m\u001b[0m\n",
            "\u001b[0;32m/usr/local/lib/python3.7/dist-packages/keras/engine/training.py\u001b[0m in \u001b[0;36mfit\u001b[0;34m(self, x, y, batch_size, epochs, verbose, callbacks, validation_split, validation_data, shuffle, class_weight, sample_weight, initial_epoch, steps_per_epoch, validation_steps, validation_batch_size, validation_freq, max_queue_size, workers, use_multiprocessing)\u001b[0m\n\u001b[1;32m   1382\u001b[0m                 _r=1):\n\u001b[1;32m   1383\u001b[0m               \u001b[0mcallbacks\u001b[0m\u001b[0;34m.\u001b[0m\u001b[0mon_train_batch_begin\u001b[0m\u001b[0;34m(\u001b[0m\u001b[0mstep\u001b[0m\u001b[0;34m)\u001b[0m\u001b[0;34m\u001b[0m\u001b[0;34m\u001b[0m\u001b[0m\n\u001b[0;32m-> 1384\u001b[0;31m               \u001b[0mtmp_logs\u001b[0m \u001b[0;34m=\u001b[0m \u001b[0mself\u001b[0m\u001b[0;34m.\u001b[0m\u001b[0mtrain_function\u001b[0m\u001b[0;34m(\u001b[0m\u001b[0miterator\u001b[0m\u001b[0;34m)\u001b[0m\u001b[0;34m\u001b[0m\u001b[0;34m\u001b[0m\u001b[0m\n\u001b[0m\u001b[1;32m   1385\u001b[0m               \u001b[0;32mif\u001b[0m \u001b[0mdata_handler\u001b[0m\u001b[0;34m.\u001b[0m\u001b[0mshould_sync\u001b[0m\u001b[0;34m:\u001b[0m\u001b[0;34m\u001b[0m\u001b[0;34m\u001b[0m\u001b[0m\n\u001b[1;32m   1386\u001b[0m                 \u001b[0mcontext\u001b[0m\u001b[0;34m.\u001b[0m\u001b[0masync_wait\u001b[0m\u001b[0;34m(\u001b[0m\u001b[0;34m)\u001b[0m\u001b[0;34m\u001b[0m\u001b[0;34m\u001b[0m\u001b[0m\n",
            "\u001b[0;32m/usr/local/lib/python3.7/dist-packages/tensorflow/python/util/traceback_utils.py\u001b[0m in \u001b[0;36merror_handler\u001b[0;34m(*args, **kwargs)\u001b[0m\n\u001b[1;32m    148\u001b[0m     \u001b[0mfiltered_tb\u001b[0m \u001b[0;34m=\u001b[0m \u001b[0;32mNone\u001b[0m\u001b[0;34m\u001b[0m\u001b[0;34m\u001b[0m\u001b[0m\n\u001b[1;32m    149\u001b[0m     \u001b[0;32mtry\u001b[0m\u001b[0;34m:\u001b[0m\u001b[0;34m\u001b[0m\u001b[0;34m\u001b[0m\u001b[0m\n\u001b[0;32m--> 150\u001b[0;31m       \u001b[0;32mreturn\u001b[0m \u001b[0mfn\u001b[0m\u001b[0;34m(\u001b[0m\u001b[0;34m*\u001b[0m\u001b[0margs\u001b[0m\u001b[0;34m,\u001b[0m \u001b[0;34m**\u001b[0m\u001b[0mkwargs\u001b[0m\u001b[0;34m)\u001b[0m\u001b[0;34m\u001b[0m\u001b[0;34m\u001b[0m\u001b[0m\n\u001b[0m\u001b[1;32m    151\u001b[0m     \u001b[0;32mexcept\u001b[0m \u001b[0mException\u001b[0m \u001b[0;32mas\u001b[0m \u001b[0me\u001b[0m\u001b[0;34m:\u001b[0m\u001b[0;34m\u001b[0m\u001b[0;34m\u001b[0m\u001b[0m\n\u001b[1;32m    152\u001b[0m       \u001b[0mfiltered_tb\u001b[0m \u001b[0;34m=\u001b[0m \u001b[0m_process_traceback_frames\u001b[0m\u001b[0;34m(\u001b[0m\u001b[0me\u001b[0m\u001b[0;34m.\u001b[0m\u001b[0m__traceback__\u001b[0m\u001b[0;34m)\u001b[0m\u001b[0;34m\u001b[0m\u001b[0;34m\u001b[0m\u001b[0m\n",
            "\u001b[0;32m/usr/local/lib/python3.7/dist-packages/tensorflow/python/eager/def_function.py\u001b[0m in \u001b[0;36m__call__\u001b[0;34m(self, *args, **kwds)\u001b[0m\n\u001b[1;32m    913\u001b[0m \u001b[0;34m\u001b[0m\u001b[0m\n\u001b[1;32m    914\u001b[0m       \u001b[0;32mwith\u001b[0m \u001b[0mOptionalXlaContext\u001b[0m\u001b[0;34m(\u001b[0m\u001b[0mself\u001b[0m\u001b[0;34m.\u001b[0m\u001b[0m_jit_compile\u001b[0m\u001b[0;34m)\u001b[0m\u001b[0;34m:\u001b[0m\u001b[0;34m\u001b[0m\u001b[0;34m\u001b[0m\u001b[0m\n\u001b[0;32m--> 915\u001b[0;31m         \u001b[0mresult\u001b[0m \u001b[0;34m=\u001b[0m \u001b[0mself\u001b[0m\u001b[0;34m.\u001b[0m\u001b[0m_call\u001b[0m\u001b[0;34m(\u001b[0m\u001b[0;34m*\u001b[0m\u001b[0margs\u001b[0m\u001b[0;34m,\u001b[0m \u001b[0;34m**\u001b[0m\u001b[0mkwds\u001b[0m\u001b[0;34m)\u001b[0m\u001b[0;34m\u001b[0m\u001b[0;34m\u001b[0m\u001b[0m\n\u001b[0m\u001b[1;32m    916\u001b[0m \u001b[0;34m\u001b[0m\u001b[0m\n\u001b[1;32m    917\u001b[0m       \u001b[0mnew_tracing_count\u001b[0m \u001b[0;34m=\u001b[0m \u001b[0mself\u001b[0m\u001b[0;34m.\u001b[0m\u001b[0mexperimental_get_tracing_count\u001b[0m\u001b[0;34m(\u001b[0m\u001b[0;34m)\u001b[0m\u001b[0;34m\u001b[0m\u001b[0;34m\u001b[0m\u001b[0m\n",
            "\u001b[0;32m/usr/local/lib/python3.7/dist-packages/tensorflow/python/eager/def_function.py\u001b[0m in \u001b[0;36m_call\u001b[0;34m(self, *args, **kwds)\u001b[0m\n\u001b[1;32m    945\u001b[0m       \u001b[0;31m# In this case we have created variables on the first call, so we run the\u001b[0m\u001b[0;34m\u001b[0m\u001b[0;34m\u001b[0m\u001b[0;34m\u001b[0m\u001b[0m\n\u001b[1;32m    946\u001b[0m       \u001b[0;31m# defunned version which is guaranteed to never create variables.\u001b[0m\u001b[0;34m\u001b[0m\u001b[0;34m\u001b[0m\u001b[0;34m\u001b[0m\u001b[0m\n\u001b[0;32m--> 947\u001b[0;31m       \u001b[0;32mreturn\u001b[0m \u001b[0mself\u001b[0m\u001b[0;34m.\u001b[0m\u001b[0m_stateless_fn\u001b[0m\u001b[0;34m(\u001b[0m\u001b[0;34m*\u001b[0m\u001b[0margs\u001b[0m\u001b[0;34m,\u001b[0m \u001b[0;34m**\u001b[0m\u001b[0mkwds\u001b[0m\u001b[0;34m)\u001b[0m  \u001b[0;31m# pylint: disable=not-callable\u001b[0m\u001b[0;34m\u001b[0m\u001b[0;34m\u001b[0m\u001b[0m\n\u001b[0m\u001b[1;32m    948\u001b[0m     \u001b[0;32melif\u001b[0m \u001b[0mself\u001b[0m\u001b[0;34m.\u001b[0m\u001b[0m_stateful_fn\u001b[0m \u001b[0;32mis\u001b[0m \u001b[0;32mnot\u001b[0m \u001b[0;32mNone\u001b[0m\u001b[0;34m:\u001b[0m\u001b[0;34m\u001b[0m\u001b[0;34m\u001b[0m\u001b[0m\n\u001b[1;32m    949\u001b[0m       \u001b[0;31m# Release the lock early so that multiple threads can perform the call\u001b[0m\u001b[0;34m\u001b[0m\u001b[0;34m\u001b[0m\u001b[0;34m\u001b[0m\u001b[0m\n",
            "\u001b[0;32m/usr/local/lib/python3.7/dist-packages/tensorflow/python/eager/function.py\u001b[0m in \u001b[0;36m__call__\u001b[0;34m(self, *args, **kwargs)\u001b[0m\n\u001b[1;32m   2955\u001b[0m        filtered_flat_args) = self._maybe_define_function(args, kwargs)\n\u001b[1;32m   2956\u001b[0m     return graph_function._call_flat(\n\u001b[0;32m-> 2957\u001b[0;31m         filtered_flat_args, captured_inputs=graph_function.captured_inputs)  # pylint: disable=protected-access\n\u001b[0m\u001b[1;32m   2958\u001b[0m \u001b[0;34m\u001b[0m\u001b[0m\n\u001b[1;32m   2959\u001b[0m   \u001b[0;34m@\u001b[0m\u001b[0mproperty\u001b[0m\u001b[0;34m\u001b[0m\u001b[0;34m\u001b[0m\u001b[0m\n",
            "\u001b[0;32m/usr/local/lib/python3.7/dist-packages/tensorflow/python/eager/function.py\u001b[0m in \u001b[0;36m_call_flat\u001b[0;34m(self, args, captured_inputs, cancellation_manager)\u001b[0m\n\u001b[1;32m   1852\u001b[0m       \u001b[0;31m# No tape is watching; skip to running the function.\u001b[0m\u001b[0;34m\u001b[0m\u001b[0;34m\u001b[0m\u001b[0;34m\u001b[0m\u001b[0m\n\u001b[1;32m   1853\u001b[0m       return self._build_call_outputs(self._inference_function.call(\n\u001b[0;32m-> 1854\u001b[0;31m           ctx, args, cancellation_manager=cancellation_manager))\n\u001b[0m\u001b[1;32m   1855\u001b[0m     forward_backward = self._select_forward_and_backward_functions(\n\u001b[1;32m   1856\u001b[0m         \u001b[0margs\u001b[0m\u001b[0;34m,\u001b[0m\u001b[0;34m\u001b[0m\u001b[0;34m\u001b[0m\u001b[0m\n",
            "\u001b[0;32m/usr/local/lib/python3.7/dist-packages/tensorflow/python/eager/function.py\u001b[0m in \u001b[0;36mcall\u001b[0;34m(self, ctx, args, cancellation_manager)\u001b[0m\n\u001b[1;32m    502\u001b[0m               \u001b[0minputs\u001b[0m\u001b[0;34m=\u001b[0m\u001b[0margs\u001b[0m\u001b[0;34m,\u001b[0m\u001b[0;34m\u001b[0m\u001b[0;34m\u001b[0m\u001b[0m\n\u001b[1;32m    503\u001b[0m               \u001b[0mattrs\u001b[0m\u001b[0;34m=\u001b[0m\u001b[0mattrs\u001b[0m\u001b[0;34m,\u001b[0m\u001b[0;34m\u001b[0m\u001b[0;34m\u001b[0m\u001b[0m\n\u001b[0;32m--> 504\u001b[0;31m               ctx=ctx)\n\u001b[0m\u001b[1;32m    505\u001b[0m         \u001b[0;32melse\u001b[0m\u001b[0;34m:\u001b[0m\u001b[0;34m\u001b[0m\u001b[0;34m\u001b[0m\u001b[0m\n\u001b[1;32m    506\u001b[0m           outputs = execute.execute_with_cancellation(\n",
            "\u001b[0;32m/usr/local/lib/python3.7/dist-packages/tensorflow/python/eager/execute.py\u001b[0m in \u001b[0;36mquick_execute\u001b[0;34m(op_name, num_outputs, inputs, attrs, ctx, name)\u001b[0m\n\u001b[1;32m     53\u001b[0m     \u001b[0mctx\u001b[0m\u001b[0;34m.\u001b[0m\u001b[0mensure_initialized\u001b[0m\u001b[0;34m(\u001b[0m\u001b[0;34m)\u001b[0m\u001b[0;34m\u001b[0m\u001b[0;34m\u001b[0m\u001b[0m\n\u001b[1;32m     54\u001b[0m     tensors = pywrap_tfe.TFE_Py_Execute(ctx._handle, device_name, op_name,\n\u001b[0;32m---> 55\u001b[0;31m                                         inputs, attrs, num_outputs)\n\u001b[0m\u001b[1;32m     56\u001b[0m   \u001b[0;32mexcept\u001b[0m \u001b[0mcore\u001b[0m\u001b[0;34m.\u001b[0m\u001b[0m_NotOkStatusException\u001b[0m \u001b[0;32mas\u001b[0m \u001b[0me\u001b[0m\u001b[0;34m:\u001b[0m\u001b[0;34m\u001b[0m\u001b[0;34m\u001b[0m\u001b[0m\n\u001b[1;32m     57\u001b[0m     \u001b[0;32mif\u001b[0m \u001b[0mname\u001b[0m \u001b[0;32mis\u001b[0m \u001b[0;32mnot\u001b[0m \u001b[0;32mNone\u001b[0m\u001b[0;34m:\u001b[0m\u001b[0;34m\u001b[0m\u001b[0;34m\u001b[0m\u001b[0m\n",
            "\u001b[0;31mKeyboardInterrupt\u001b[0m: "
          ]
        }
      ]
    },
    {
      "cell_type": "code",
      "source": [
        ""
      ],
      "metadata": {
        "id": "f6zjAC-eGZ-Q"
      },
      "id": "f6zjAC-eGZ-Q",
      "execution_count": null,
      "outputs": []
    }
  ],
  "metadata": {
    "colab": {
      "name": "Tarea 6- Red Convolucional.ipynb",
      "provenance": [],
      "collapsed_sections": []
    },
    "kernelspec": {
      "display_name": "Python 3 (ipykernel)",
      "language": "python",
      "name": "python3"
    },
    "language_info": {
      "codemirror_mode": {
        "name": "ipython",
        "version": 3
      },
      "file_extension": ".py",
      "mimetype": "text/x-python",
      "name": "python",
      "nbconvert_exporter": "python",
      "pygments_lexer": "ipython3",
      "version": "3.9.7"
    }
  },
  "nbformat": 4,
  "nbformat_minor": 5
}